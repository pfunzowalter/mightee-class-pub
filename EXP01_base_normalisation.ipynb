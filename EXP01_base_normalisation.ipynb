{
 "cells": [
  {
   "cell_type": "code",
   "execution_count": null,
   "id": "78306608-fe30-4964-9435-d8cce74cfa9e",
   "metadata": {
    "tags": []
   },
   "outputs": [],
   "source": [
    "import numpy as np\n",
    "import matplotlib.pyplot as plt\n",
    "import pandas as pd\n",
    "import os \n",
    "import os.path as osp\n",
    "import itertools\n",
    "import astropy.io.fits as fits\n",
    "\n",
    "from sources.preprocessor import data_processor # A well defined function to sample columns of interest from a full catalogue\n",
    "from sources.normalisation import*\n",
    "from sklearn.metrics import f1_score as f1\n",
    "import timeit\n",
    "import random\n",
    "import seaborn as sns\n",
    "sns.set_style(\"whitegrid\")"
   ]
  },
  {
   "cell_type": "code",
   "execution_count": null,
   "id": "09f7c6b6-7eb2-4059-b78d-9edbbc34a316",
   "metadata": {
    "tags": []
   },
   "outputs": [],
   "source": [
    "# loading the data from the machine\n",
    "\n",
    "mightee_data = pd.read_csv('raw_data_original.csv')\n"
   ]
  },
  {
   "cell_type": "code",
   "execution_count": null,
   "id": "a5dcffb1-e0c5-4060-817a-f45c8eef6185",
   "metadata": {
    "tags": []
   },
   "outputs": [],
   "source": [
    "# mightee_data"
   ]
  },
  {
   "cell_type": "code",
   "execution_count": null,
   "id": "09ecf165-e04c-4e21-8d87-35430f537bbd",
   "metadata": {
    "tags": []
   },
   "outputs": [],
   "source": [
    "# We split the data into training and test size for further analysis\n",
    "from sklearn.model_selection import train_test_split\n",
    "\n",
    "labels = mightee_data['class_labels']\n",
    "X = mightee_data.drop(['class_labels'], axis = 1)\n",
    "\n",
    "# encoding target class\n",
    "y, clas = pd.factorize(labels) #getting the class 0 = agn, 1 =notagn, 2 = no class\n",
    "y_target = pd.DataFrame(y, columns = ['labels'])\n",
    "X_train, X_test, y_train, y_test = train_test_split(X, y_target, stratify = y, test_size=0.25, random_state=42)"
   ]
  },
  {
   "cell_type": "code",
   "execution_count": null,
   "id": "c7c04f74-b46a-49ca-ba7c-8a864d18b639",
   "metadata": {
    "tags": []
   },
   "outputs": [],
   "source": [
    "# y_train"
   ]
  },
  {
   "cell_type": "code",
   "execution_count": null,
   "id": "3d266f19-740d-4871-b15b-344fe9e28b5e",
   "metadata": {
    "tags": []
   },
   "outputs": [],
   "source": [
    "# covert the the Xtrain into an arr\n",
    "\n",
    "norm_par = np.array([[0.5, 0.7, 1, 1.2, 1.4, 1.7 ], \n",
    "                    [0.7, 1, 1.2, 1.4, 1.7, 0.5 ],\n",
    "                    [1, 1.2, 1.4, 1.7, 0.5, 0.7 ],\n",
    "                    [1.2, 1.4, 1.7, 0.5, 0.7, 1 ],\n",
    "                    [1.4, 1.7, 0.5, 0.7, 1, 1.2 ],\n",
    "                    [1.7, 0.5, 0.7, 1, 1.2, 1.4 ]]) # Normalisation constants"
   ]
  },
  {
   "cell_type": "code",
   "execution_count": null,
   "id": "76d49bfb-5163-4bd0-9c0e-ac0e820b623a",
   "metadata": {
    "tags": []
   },
   "outputs": [],
   "source": [
    "# normalising data\n",
    "X_tr_norm = norm_arr([np.array(X_train['Mstar']), \n",
    "                            np.array(X_train['qir']),\n",
    "                            np.array(X_train['log(S8/S45)']),\n",
    "                            np.array(X_train['log(S58/S36)']),\n",
    "                            np.array(X_train['log(S45/S36)']),\n",
    "                            np.array(X_train['class_star'])])               "
   ]
  },
  {
   "cell_type": "code",
   "execution_count": null,
   "id": "69d01ba2-3cfe-443c-bd64-77944f69dbd7",
   "metadata": {
    "tags": []
   },
   "outputs": [],
   "source": [
    "# X_tr_norm"
   ]
  },
  {
   "cell_type": "code",
   "execution_count": null,
   "id": "a3b9320d-84d3-4edd-b945-6f58116e9558",
   "metadata": {
    "tags": []
   },
   "outputs": [],
   "source": [
    "product = []\n",
    "for i in range(len(norm_par)):\n",
    "    product.append(feat_multiplication (X_tr_norm, norm_par[i]))"
   ]
  },
  {
   "cell_type": "code",
   "execution_count": null,
   "id": "3550b732-f174-431a-a4be-9a47f8d8ea73",
   "metadata": {
    "tags": []
   },
   "outputs": [],
   "source": [
    "# product"
   ]
  },
  {
   "cell_type": "code",
   "execution_count": null,
   "id": "d81c6f16-7da1-4d93-9c65-a88cea692af7",
   "metadata": {
    "tags": []
   },
   "outputs": [],
   "source": [
    "# Generating the combinations of normalised features\n",
    "\n",
    "result = generate_combinations(product)"
   ]
  },
  {
   "cell_type": "code",
   "execution_count": null,
   "id": "a48c3cfe-d994-49f7-ae51-595d39632279",
   "metadata": {
    "tags": []
   },
   "outputs": [],
   "source": [
    "len(result)"
   ]
  },
  {
   "cell_type": "code",
   "execution_count": null,
   "id": "aa95e6cb-c43d-4186-ba1b-a9c6baf496d7",
   "metadata": {},
   "outputs": [],
   "source": [
    "def classifier(model, X, y, s):\n",
    "    X = np.vstack(X).T\n",
    "    # y1, clas = pd.factorize(y) \n",
    "    X_train, X_vald, y_train, y_vald = train_test_split(X, y, test_size= s, random_state=1, stratify = y, shuffle = True)\n",
    "    # return X_train, X_vald, y_train, y_vald\n",
    "\n",
    "    # Classification with ML\n",
    "    start_time = timeit.default_timer()\n",
    "\n",
    "    model.fit(X_train, y_train)  \n",
    "\n",
    "    y_pred = model.predict(X_vald)\n",
    "\n",
    "    elapsed = timeit.default_timer() - start_time\n",
    "\n",
    "    proba = model.predict_proba(X_vald)\n",
    "    \n",
    "    return f1(y_vald, y_pred)"
   ]
  },
  {
   "cell_type": "code",
   "execution_count": null,
   "id": "95fb97f1-7f70-414d-b3ce-9f61bdee2830",
   "metadata": {
    "tags": []
   },
   "outputs": [],
   "source": [
    "from sklearn.neighbors import KNeighborsClassifier\n",
    "\n",
    "# KNN model\n",
    "knn_model = KNeighborsClassifier()\n"
   ]
  },
  {
   "cell_type": "code",
   "execution_count": null,
   "id": "9834454a-344d-4621-8696-8e23e03c2b0a",
   "metadata": {
    "tags": []
   },
   "outputs": [],
   "source": [
    "m = 0\n",
    "result_index = np.arange(len(result))\n",
    "score = []\n",
    "feat_index = []\n",
    "\n",
    "while m < 100:\n",
    "    k = random.choice(result_index)\n",
    "    # print(classifier(knn_model, result[k], y_train['labels'], 0.2))\n",
    "    score.append(classifier(knn_model, result[k], y_train['labels'], 0.2))\n",
    "    feat_index.append(k)\n",
    "    m+=1"
   ]
  },
  {
   "cell_type": "code",
   "execution_count": null,
   "id": "5212bd90-c593-43df-8c88-bc3997478633",
   "metadata": {
    "tags": []
   },
   "outputs": [],
   "source": [
    "print(np.max(score))"
   ]
  },
  {
   "cell_type": "code",
   "execution_count": null,
   "id": "79b8c1f2-ca3e-40e8-b949-35170e7372f3",
   "metadata": {
    "tags": []
   },
   "outputs": [],
   "source": [
    "# Using the min-max scaler\n",
    "\n",
    "# The train data\n",
    "norm_X = pd.read_csv('X_train.csv')\n",
    "norm_y = pd.read_csv('y_train.csv')\n",
    "\n",
    "# The Unseen test data\n",
    "norm_X_test = pd.read_csv('X_test.csv')\n",
    "norm_y_test = pd.read_csv('y_test.csv')\n",
    "\n",
    "labels = norm_y['labels']"
   ]
  },
  {
   "cell_type": "code",
   "execution_count": null,
   "id": "a4757376-e85a-42cd-af4d-c3687b835cf1",
   "metadata": {
    "tags": []
   },
   "outputs": [],
   "source": [
    "norm_X_arr = np.array([np.array(norm_X['Mstar']), \n",
    "                            np.array(norm_X['qir']),\n",
    "                            np.array(norm_X['log(S8/S45)']),\n",
    "                            np.array(norm_X['log(S58/S36)']),\n",
    "                            np.array(norm_X['log(S45/S36)']),\n",
    "                            np.array(norm_X['class_star'])])\n",
    "\n",
    "true_X_arr = np.array([np.array(X_train['Mstar']), \n",
    "                            np.array(X_train['qir']),\n",
    "                            np.array(X_train['log(S8/S45)']),\n",
    "                            np.array(X_train['log(S58/S36)']),\n",
    "                            np.array(X_train['log(S45/S36)']),\n",
    "                            np.array(X_train['class_star'])])"
   ]
  },
  {
   "cell_type": "code",
   "execution_count": null,
   "id": "60bafa8b-3a80-4e88-9b8e-9f1b822279f2",
   "metadata": {
    "tags": []
   },
   "outputs": [],
   "source": [
    "minmax_score = classifier(knn_model, norm_X_arr, norm_y['labels'], 0.2)"
   ]
  },
  {
   "cell_type": "code",
   "execution_count": null,
   "id": "ea748e01-73e4-4188-9db0-253362bfba9e",
   "metadata": {
    "tags": []
   },
   "outputs": [],
   "source": [
    "ref_score = classifier(knn_model, true_X_arr, y_train['labels'], 0.2)"
   ]
  },
  {
   "cell_type": "code",
   "execution_count": null,
   "id": "d20861f0-2161-49a7-a57e-d3905878db86",
   "metadata": {
    "tags": []
   },
   "outputs": [],
   "source": [
    "ref_score"
   ]
  },
  {
   "cell_type": "code",
   "execution_count": null,
   "id": "8c3a903f-3273-4581-93cd-8c8f6bd7f01a",
   "metadata": {
    "tags": []
   },
   "outputs": [],
   "source": [
    "colors = ['blue', 'green', 'orange']\n",
    "scores = [minmax_score, ref_score, np.max(score)]\n",
    "score_model = ['minmax', 'original', 'base_norm']\n",
    "df = pd.DataFrame({\"model\":['minmax', 'original', 'base_norm'], \n",
    "                   \"scores\":[minmax_score, ref_score, np.max(score)], \n",
    "                   \"id\":[0, 1, 2]})\n",
    "df"
   ]
  },
  {
   "cell_type": "code",
   "execution_count": null,
   "id": "78d6990b-01bc-4d07-aca0-6fd72791758a",
   "metadata": {
    "tags": []
   },
   "outputs": [],
   "source": [
    "fig, ax = plt.subplots(figsize=(7,5))\n",
    "ax = sns.pointplot(x=\"model\", y=\"scores\",  data=df, join=False)\n",
    "ax = plt.ylim(0.93, 1)\n",
    "ax = plt.xticks(rotation=45)\n",
    "ax = plt.tight_layout()\n",
    "ax = plt.show()"
   ]
  },
  {
   "cell_type": "code",
   "execution_count": null,
   "id": "d2741a56-c226-4386-b7dd-d39f29e5a69b",
   "metadata": {},
   "outputs": [],
   "source": []
  }
 ],
 "metadata": {
  "kernelspec": {
   "display_name": "ASTRO-PY3 (Python 3.8)",
   "language": "python",
   "name": "astro-py3.8"
  },
  "language_info": {
   "codemirror_mode": {
    "name": "ipython",
    "version": 3
   },
   "file_extension": ".py",
   "mimetype": "text/x-python",
   "name": "python",
   "nbconvert_exporter": "python",
   "pygments_lexer": "ipython3",
   "version": "3.8.2"
  }
 },
 "nbformat": 4,
 "nbformat_minor": 5
}
