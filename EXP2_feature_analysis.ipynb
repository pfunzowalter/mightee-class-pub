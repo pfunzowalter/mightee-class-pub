{
 "cells": [
  {
   "cell_type": "markdown",
   "id": "0843cd5a",
   "metadata": {},
   "source": [
    "## Feature Analysis for machine learning"
   ]
  },
  {
   "cell_type": "code",
   "execution_count": null,
   "id": "8a0e72f9",
   "metadata": {},
   "outputs": [],
   "source": [
    "# Loading necessary modlules\n",
    "import numpy as np\n",
    "import matplotlib.pyplot as pl\n",
    "import pandas as pd\n",
    "import seaborn as sns\n",
    "from pprint import pprint\n",
    "pl.style.use('seaborn-ticks')\n",
    "import warnings\n",
    "from sklearn.utils import resample\n",
    "from sources.permutation_importance import* \n",
    "\n",
    "# Machine learning models\n",
    "from sklearn.ensemble import RandomForestClassifier\n",
    "# Machine Learning models\n",
    "rf_model = RandomForestClassifier()"
   ]
  },
  {
   "cell_type": "code",
   "execution_count": null,
   "id": "573b1f35",
   "metadata": {},
   "outputs": [],
   "source": [
    "# loading the data from the machine\n",
    "\n",
    "# mightee_data = pd.read_csv('old-test-train/raw_data_original.csv')\n",
    "mightee_data = pd.read_csv('normalised/scaled_raw_zs.csv')\n",
    "# roc_data = pd.read_csv('normalised/roc_data.csv')\n",
    "\n",
    "X_train = pd.read_csv('X_train.csv')\n",
    "y_train = pd.read_csv('y_train.csv')\n",
    "\n",
    "\n",
    "X_test = pd.read_csv('X_test.csv')\n",
    "y_test = pd.read_csv('y_test.csv')"
   ]
  },
  {
   "cell_type": "code",
   "execution_count": null,
   "id": "d3e34c07-01af-4d7b-aa96-b074c10ec3b6",
   "metadata": {},
   "outputs": [],
   "source": [
    "# X_train"
   ]
  },
  {
   "cell_type": "code",
   "execution_count": null,
   "id": "36a635fb-3bd0-4fbc-8e97-e059a64f1925",
   "metadata": {},
   "outputs": [],
   "source": [
    "print('The number of All', len(y_train))\n",
    "\n",
    "print('The number of True/AGN', sum(np.array(y_train['labels'] == 1)))"
   ]
  },
  {
   "cell_type": "code",
   "execution_count": null,
   "id": "fe0ef717",
   "metadata": {},
   "outputs": [],
   "source": [
    "mightee_data.describe()\n",
    "# X_train.describe()"
   ]
  },
  {
   "cell_type": "markdown",
   "id": "c49d9ae0",
   "metadata": {},
   "source": [
    "## CORRELATION MATRIX"
   ]
  },
  {
   "cell_type": "code",
   "execution_count": null,
   "id": "168a8e48",
   "metadata": {},
   "outputs": [],
   "source": [
    "#Using Pearson Correlation, ### You dont have to seperate the sources in a correlation matrix its called data leakage\n",
    "pl.figure(figsize=(12,10))\n",
    "cor = mightee_data.corr()\n",
    "sns.heatmap(cor, annot=True, cmap=pl.cm.Reds)\n",
    "pl.show()"
   ]
  },
  {
   "cell_type": "code",
   "execution_count": null,
   "id": "0185fa54",
   "metadata": {},
   "outputs": [],
   "source": [
    "## Making a pair plot using seaborn\n",
    "import seaborn as sns\n",
    "sns.set(font_scale=2)\n",
    "sns.set_style('ticks')\n",
    "sns.pairplot(mightee_data, hue=\"class_labels\", \n",
    "             plot_kws = { 'edgecolor': 'k', 'alpha':0.4, 'lw':0.5, 's':20 }, size = 4)\n"
   ]
  },
  {
   "cell_type": "markdown",
   "id": "9d665c37-ac13-4d5e-a70f-914a3f7057e1",
   "metadata": {},
   "source": [
    "## Sequential Feature importance"
   ]
  },
  {
   "cell_type": "code",
   "execution_count": null,
   "id": "f1332c2e-818d-4630-9dfb-d02bbc039dfe",
   "metadata": {},
   "outputs": [],
   "source": [
    "y_tr = y_train['labels']\n",
    "y_t = y_test['labels']"
   ]
  },
  {
   "cell_type": "markdown",
   "id": "3be14a85",
   "metadata": {},
   "source": [
    "# Permutation Feature Importance"
   ]
  },
  {
   "cell_type": "code",
   "execution_count": null,
   "id": "a1482335-679f-4fbd-83d3-3735d60dbdb8",
   "metadata": {},
   "outputs": [],
   "source": [
    "mean_importances, std_importances = perm_impotance(X_train, y_tr, rf_model)\n",
    "# mean_importances, std_importances = perm_impotance(X_balanced, y_balanced, rf_model)\n",
    "\n",
    "\n",
    "\n",
    "importance1 = manual_mean_importances(mean_importances)\n",
    "std1 = manual_mean_importances(std_importances)\n",
    "column_names = np.array(X_train.columns)\n",
    "\n",
    "sorted_idx1 = importance1.argsort()\n",
    "sorted_idx1 = sorted_idx1[::-1]\n",
    "\n",
    "x_pos = np.arange(len(column_names)) #- 1)  # -1 for indexs\n",
    "x_class = column_names[sorted_idx1]\n",
    "print(\"column names: \", x_pos)"
   ]
  },
  {
   "cell_type": "code",
   "execution_count": null,
   "id": "d51802d5-f71e-481c-bd15-810ad1055018",
   "metadata": {},
   "outputs": [],
   "source": [
    "X_train.columns"
   ]
  },
  {
   "cell_type": "code",
   "execution_count": null,
   "id": "4aea7e9d-ca34-48b0-8522-8eb71e6f3fb8",
   "metadata": {},
   "outputs": [],
   "source": [
    "print(\"column names: \", x_class)"
   ]
  },
  {
   "cell_type": "code",
   "execution_count": null,
   "id": "7d00f621-17fb-4e36-821f-087414050359",
   "metadata": {},
   "outputs": [],
   "source": [
    "importance1[sorted_idx1]"
   ]
  },
  {
   "cell_type": "code",
   "execution_count": null,
   "id": "60a49c6d-7a44-434a-a9c8-f14cc482fde5",
   "metadata": {},
   "outputs": [],
   "source": [
    "std1[sorted_idx1]"
   ]
  },
  {
   "cell_type": "code",
   "execution_count": null,
   "id": "d34716d9-eabb-46a3-8870-ea7563f55a3e",
   "metadata": {},
   "outputs": [],
   "source": [
    "x_pos"
   ]
  },
  {
   "cell_type": "code",
   "execution_count": null,
   "id": "19a4987f",
   "metadata": {},
   "outputs": [],
   "source": [
    "# Build the plot\n",
    "fig, ax = pl.subplots(figsize = (12, 9))\n",
    "ax.bar(x_pos, importance1[sorted_idx1], yerr=std1[sorted_idx1], align='center', alpha=0.5, color = 'green', ecolor='black', capsize=10)\n",
    "ax.set_ylabel('Importance', fontsize=25)\n",
    "ax.set_xticks(x_pos)\n",
    "# ax.set_xticklabels(x_class, ha='right', rotation = 45, fontsize = 16, fontweight ='bold')\n",
    "# ax.set_xticklabels(x_class, fontsize = 25, fontweight ='bold')\n",
    "#First confirm the order of features from x_class\n",
    "new_colnames = [r'$q_\\mathrm{IR}$', \n",
    "                'class_star',\n",
    "                r'$log (S_{8.0}/S_{4.5})$',\n",
    "                r'$log (S_{5.8}/S_{3.6})$',\n",
    "                r'$log (M_{\\rm star})$',\n",
    "                r'$log (S_{4.5}/S_{3.6})$'\n",
    "               ]\n",
    "# ax.set_xticklabels(x_class, fontsize = 25)\n",
    "ax.set_xticklabels(new_colnames, fontsize = 25)\n",
    "\n",
    "\n",
    "# Rotate the tick labels and set their alignment.\n",
    "pl.setp(ax.get_xticklabels(), rotation=45, ha=\"right\",\n",
    "         rotation_mode=\"anchor\")\n",
    "\n",
    "# Save the figure and show\n",
    "pl.tight_layout()\n",
    "pl.savefig('perm_importance.pdf')\n",
    "pl.show()"
   ]
  },
  {
   "cell_type": "markdown",
   "id": "dafe6ba8-db63-4c61-8962-b228ad1b3ab6",
   "metadata": {},
   "source": [
    "## ROC Feature Analysis"
   ]
  },
  {
   "cell_type": "code",
   "execution_count": null,
   "id": "f0e343f7-b9f6-4346-bd83-465b7f3317b4",
   "metadata": {},
   "outputs": [],
   "source": [
    "from sklearn.metrics import *\n",
    "from sklearn import metrics\n",
    "from sklearn.model_selection import train_test_split"
   ]
  },
  {
   "cell_type": "code",
   "execution_count": null,
   "id": "788599da-072c-44f1-988e-bcaafcb7cc9b",
   "metadata": {},
   "outputs": [],
   "source": [
    "y = y_train['labels']\n",
    "y_t = y_test['labels']"
   ]
  },
  {
   "cell_type": "code",
   "execution_count": null,
   "id": "fea86f77-5a5f-4118-9d84-2de941321d95",
   "metadata": {},
   "outputs": [],
   "source": [
    "# do not touch\n",
    "def threshold (X, Y, direction):\n",
    "    acc = []\n",
    "    tp = []     \n",
    "    fp = []\n",
    "    \n",
    "    th = np.array(X).flatten()\n",
    "    \n",
    "    inTrain, outTrain = (list(t) for t in zip(*sorted(zip(th, np.array(y).flatten()))))\n",
    "    \n",
    "    thresholds = np.arange(inTrain[0], inTrain[-1]+1 , .0001)\n",
    "    print(inTrain[0])\n",
    "    print(inTrain[-1]+1)\n",
    "    \n",
    "    for i in thresholds:\n",
    "        pred = []\n",
    "\n",
    "        for xTr in inTrain:\n",
    "            if direction:\n",
    "                if i > xTr:\n",
    "                    pred.append(1)\n",
    "                else:\n",
    "                    pred.append(0)\n",
    "            else:\n",
    "                if i < xTr:\n",
    "                    pred.append(1)\n",
    "                else:\n",
    "                    pred.append(0)\n",
    "\n",
    "#         print(pred)        \n",
    "        acc.append(accuracy_score(outTrain, pred))\n",
    "        CM = confusion_matrix(outTrain, pred)\n",
    "\n",
    "        TN = CM[0][0]\n",
    "        FN = CM[1][0]\n",
    "        TP = CM[1][1]\n",
    "        FP = CM[0][1]\n",
    "        \n",
    "        TPR = TP/(TP+FN)\n",
    "        TNR = TN/(TN+FP) \n",
    "        tp.append(TPR)\n",
    "        fp.append(1-TNR)\n",
    "        \n",
    "#         acc.append(accuracy_score(outTest, predTest))        \n",
    "#         thre.append(i)\n",
    "        \n",
    "        \n",
    "    return acc, fp, tp\n",
    "\n",
    "# colours = [red, blue, green, dark yellow, grey, ]\n",
    "colors = [ \"blue\", 'red', 'green', 'grey', 'orange', 'purple'] \n",
    "def draw_ROC (di, features, labels, X, y, colors):\n",
    "    lw = 2\n",
    "    pl.figure(figsize=(10 , 8))\n",
    "    for f, label, d, color in zip(features, labels, di, colors):\n",
    "        x = np.array(X[[f]]).flatten()\n",
    "        # x = np.array(X_balanced[[f]]).flatten() #new test for balanced data\n",
    "        y = np.array(y).flatten()\n",
    "        acc, tp, fp = threshold (x, y, d)\n",
    "        print()\n",
    "        pl.plot(tp, fp, lw=2, color=color, label = label+\" AUC: \"+str(round(metrics.auc(tp, fp),2)) )\n",
    "        \n",
    "    pl.plot([0, 1], [0, 1], color='navy', lw=lw, linestyle='--')\n",
    "    pl.xlim([0.0, 1.0])\n",
    "    pl.ylim([0.0, 1.05])\n",
    "    # plt.title('$MeOH$', fontweight ='bold', fontsize =12)\n",
    "    pl.xlabel('False Positive Rate', fontsize =20)\n",
    "    pl.ylabel('True Positive Rate', fontsize =20)\n",
    "    # pl.title('ROC curves based on features', fontweight ='bold', fontsize =18)\n",
    "    pl.legend(loc=\"lower right\", prop={\"size\":16})\n",
    "    pl.savefig('normalised/roc_importance.pdf')\n",
    "    pl.show() "
   ]
  },
  {
   "cell_type": "code",
   "execution_count": null,
   "id": "9f6133b9-08b5-46b0-b453-54fb15d2ef6c",
   "metadata": {},
   "outputs": [],
   "source": [
    "# column names\n",
    "# feat = X_train.columns \n",
    "feat = ['qir', 'Mstar', 'class_star', 'log(S8/S45)', 'log(S45/S36)'] #, 'log(S58/S36)' ]\n",
    "\n",
    "# These are column used only during the plotting\n",
    "# label = [r'$q_\\mathrm{IR}$',\n",
    "#          r'$log (M_{\\rm star})$', \n",
    "#          'class_star',\n",
    "#          r'$log (S_{8.0}/S_{4.5})$',\n",
    "#          r'$log (S_{5.8}/S_{3.6})$',\n",
    "#          r'$log (S_{4.5}/S_{3.6})$'\n",
    "#                ]\n",
    "label = [r'$q_\\mathrm{IR}$',\n",
    "         r'$log (M_{\\rm star})$', \n",
    "         'class_star',\n",
    "         r'$log (S_{8.0}/S_{4.5})$',\n",
    "         # r'$log (S_{4.5}/S_{3.6})$',\n",
    "         r'$log (S_{5.8}/S_{3.6})$'\n",
    "               ]\n",
    "# the direction of the feature\n",
    "di_feat = [False, True, True, False, True, True]\n",
    "\n",
    "# call ROC fuction\n",
    "draw_ROC (di_feat, feat, label, X_train, y, colors=colors) #Original\n",
    "# draw_ROC (di_feat, feat, label, y=y_balanced, colors=colors)\n",
    "# draw_ROC (di_feat, feat, label, X_roc, y, colors=colors)\n"
   ]
  },
  {
   "cell_type": "markdown",
   "id": "5ff7fe36-0e32-48cb-86df-3b6bae34d0bc",
   "metadata": {},
   "source": [
    "## Random Forest Importances"
   ]
  },
  {
   "cell_type": "code",
   "execution_count": null,
   "id": "6a89126b-d64c-4d26-8573-7979e682a570",
   "metadata": {},
   "outputs": [],
   "source": [
    "feature_names = X_train.columns\n",
    "\n",
    "rf_model.fit(X_train, y_tr)\n",
    "\n",
    "\n",
    "import time\n",
    "\n",
    "start_time = time.time()\n",
    "rf_importances = rf_model.feature_importances_\n",
    "rf_std = np.std([tree.feature_importances_ for tree in rf_model.estimators_], axis=0)\n",
    "elapsed_time = time.time() - start_time\n",
    "\n",
    "print(f\"Elapsed time to compute the importances: {elapsed_time:.3f} seconds\")\n",
    "sorted_idxrf = rf_importances.argsort()\n",
    "# sorted_idxrf = rf_importances.sort(reverse=True)\n",
    "sorted_idxrf = sorted_idxrf[::-1]\n",
    "x_pos_rf = np.arange(len(feature_names))\n",
    "x_class_rf = feature_names[sorted_idxrf]"
   ]
  },
  {
   "cell_type": "code",
   "execution_count": null,
   "id": "9143e4d7-3d97-4771-a6a6-2dbabc2e0d6a",
   "metadata": {},
   "outputs": [],
   "source": [
    "print(\"Correct cols order: \", x_class_rf) "
   ]
  },
  {
   "cell_type": "code",
   "execution_count": null,
   "id": "c36aaabe-ef1e-480d-a9e2-a03be21789a9",
   "metadata": {},
   "outputs": [],
   "source": [
    "# Build the plot\n",
    "fig, ax = pl.subplots(figsize = (12, 9))\n",
    "ax.bar(x_pos_rf, rf_importances[sorted_idxrf], yerr= rf_std[sorted_idxrf], align='center', alpha=0.5, color = 'green', ecolor='black', capsize=10)\n",
    "ax.set_ylabel('Importance', fontsize=25)\n",
    "ax.set_xticks(x_pos_rf)\n",
    "# ax.set_xticklabels(x_class_rf, fontsize = 25,fontweight ='bold')\n",
    "new_colnames_rf = [r'$q_\\mathrm{IR}$', \n",
    "                r'$log (S_{8.0}/S_{4.5})$',\n",
    "                'class_star',\n",
    "                r'$log (S_{5.8}/S_{3.6})$',\n",
    "                r'$log (M_{\\rm star})$',\n",
    "                r'$log (S_{4.5}/S_{3.6})$'\n",
    "               ]\n",
    "ax.set_xticklabels(new_colnames_rf, fontsize = 25)\n",
    "# Rotate the tick labels and set their alignment.\n",
    "pl.setp(ax.get_xticklabels(), rotation=45, ha=\"right\",\n",
    "         rotation_mode=\"anchor\")\n",
    "# Save the figure and show\n",
    "pl.tight_layout()\n",
    "pl.savefig('rf_importance.pdf')\n",
    "pl.show()"
   ]
  },
  {
   "cell_type": "code",
   "execution_count": null,
   "id": "eb5cc2cf-76cd-4a05-a328-116af144b171",
   "metadata": {},
   "outputs": [],
   "source": [
    "feature_names"
   ]
  },
  {
   "cell_type": "code",
   "execution_count": null,
   "id": "20ef9a5c-b8c5-4818-b04a-0f5134d2af83",
   "metadata": {},
   "outputs": [],
   "source": [
    "print"
   ]
  },
  {
   "cell_type": "code",
   "execution_count": null,
   "id": "297f298c-489f-49b9-b059-615c600496d7",
   "metadata": {},
   "outputs": [],
   "source": [
    "print"
   ]
  },
  {
   "cell_type": "code",
   "execution_count": null,
   "id": "c498b752-dc82-4b14-ac4a-cc42c2bfc2f9",
   "metadata": {},
   "outputs": [],
   "source": []
  }
 ],
 "metadata": {
  "kernelspec": {
   "display_name": "ASTRO-PY3",
   "language": "python",
   "name": "astro-py3"
  },
  "language_info": {
   "codemirror_mode": {
    "name": "ipython",
    "version": 3
   },
   "file_extension": ".py",
   "mimetype": "text/x-python",
   "name": "python",
   "nbconvert_exporter": "python",
   "pygments_lexer": "ipython3",
   "version": "3.6.8"
  }
 },
 "nbformat": 4,
 "nbformat_minor": 5
}
