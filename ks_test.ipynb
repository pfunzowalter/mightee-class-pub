{
 "cells": [
  {
   "cell_type": "code",
   "execution_count": null,
   "id": "6632b258-cb3b-48ee-8433-9a9ee28af482",
   "metadata": {},
   "outputs": [],
   "source": [
    "import os\n",
    "import pandas as pd\n",
    "import numpy as np\n",
    "import matplotlib.pyplot as plt\n",
    "from sources.ks_test import*\n",
    "\n",
    "# plot style\n",
    "import seaborn as sns\n",
    "# sns.set_style(\"ticks\")\n",
    "\n",
    "# %matplotlib notebook"
   ]
  },
  {
   "cell_type": "code",
   "execution_count": null,
   "id": "2e680f80-bc9e-47af-b056-31823ec6f5f6",
   "metadata": {},
   "outputs": [],
   "source": [
    "os.getcwd()"
   ]
  },
  {
   "cell_type": "code",
   "execution_count": null,
   "id": "0ca4a6ff-f145-4260-9030-447b28f307e7",
   "metadata": {},
   "outputs": [],
   "source": [
    "# loading the data from the machine\n",
    "\n",
    "# mightee_data = pd.read_csv('raw_data1.csv')\n",
    "mightee_data = pd.read_csv('normalised/scaled_raw.csv')\n",
    "\n",
    "# We call the test and train data saved from the processing notebook\n",
    "X_train = pd.read_csv('X_train.csv')\n",
    "y_train = pd.read_csv('y_train.csv')\n",
    "X_test = pd.read_csv('X_test.csv')\n",
    "y_test = pd.read_csv('y_test.csv')"
   ]
  },
  {
   "cell_type": "code",
   "execution_count": null,
   "id": "0920c383-e61b-4b73-a54f-7331ee5e1080",
   "metadata": {},
   "outputs": [],
   "source": [
    "print(len(y_test))\n",
    "print(len(y_train))\n"
   ]
  },
  {
   "cell_type": "code",
   "execution_count": null,
   "id": "e3cb2bed-6b05-421a-8254-d80e0255c292",
   "metadata": {},
   "outputs": [],
   "source": [
    "!pwd"
   ]
  },
  {
   "cell_type": "code",
   "execution_count": null,
   "id": "363c9bdb-e009-4354-ae1e-4194cfffcbf5",
   "metadata": {},
   "outputs": [],
   "source": [
    "data1 = mightee_data[mightee_data['class_labels']=='AGN']\n",
    "\n",
    "data2 = mightee_data[mightee_data['class_labels']=='SFG']"
   ]
  },
  {
   "cell_type": "code",
   "execution_count": null,
   "id": "9b6554db-dc5a-4433-a352-cf9d6c1b015b",
   "metadata": {},
   "outputs": [],
   "source": []
  },
  {
   "cell_type": "code",
   "execution_count": null,
   "id": "a0c04ff4-a2fd-4f3f-8ef0-a5c968645a2e",
   "metadata": {},
   "outputs": [],
   "source": [
    "print(\"Number of AGN\", len(data1))\n",
    "print(\"Number of SFG\", len(data2))\n"
   ]
  },
  {
   "cell_type": "code",
   "execution_count": null,
   "id": "2d15a33d-002c-4b7f-9ccf-9fb946aad833",
   "metadata": {},
   "outputs": [],
   "source": [
    "\n",
    "# plot_ks2sample_cdf(data1, data2, n_bins = 100, xlim = [-0.25, 0.27], feature = 'log(S45/S36)', colname =r'$log (S_{4.5}/S_{3.6})$', irac = True)\n",
    "\n",
    "plot_ks2sample_cdf(data1, data2, n_bins = 100, xlim = [0, 1], feature = 'log(S45/S36)', colname =r'$log (S_{4.5}/S_{3.6})$', irac = True)\n",
    "        "
   ]
  },
  {
   "cell_type": "code",
   "execution_count": null,
   "id": "79863d39-e6c9-4a57-993d-7b76a8582fc4",
   "metadata": {},
   "outputs": [],
   "source": [
    "\n",
    "# plot_ks2sample_cdf(data1, data2, n_bins = 100, xlim = [-0.6, 0.6], feature = 'log(S58/S36)', colname = r'$log (S_{5.8}/S_{3.6})$', irac = True)\n",
    "plot_ks2sample_cdf(data1, data2, n_bins = 100, xlim = [0, 1], feature = 'log(S58/S36)', colname = r'$log (S_{5.8}/S_{3.6})$', irac = True)\n",
    "    "
   ]
  },
  {
   "cell_type": "code",
   "execution_count": null,
   "id": "a1165fc8-157b-4042-9103-306555a5081d",
   "metadata": {},
   "outputs": [],
   "source": [
    "\n",
    "plot_ks2sample_cdf(data1, data2, n_bins = 100, xlim = [-1, 1], feature = 'log(S8/S45)', colname = r'$log (S_{8.0}/S_{4.5})$',irac = True)\n",
    "    "
   ]
  },
  {
   "cell_type": "code",
   "execution_count": null,
   "id": "7598c4a5-f0e1-494c-93d2-665ba2fd0209",
   "metadata": {},
   "outputs": [],
   "source": [
    "# plt.hist?"
   ]
  },
  {
   "cell_type": "code",
   "execution_count": null,
   "id": "e499b630-816a-4b76-9c34-0c78e538b489",
   "metadata": {},
   "outputs": [],
   "source": [
    "data1[\"Mstar\"]"
   ]
  },
  {
   "cell_type": "code",
   "execution_count": null,
   "id": "3c087dd1-8b40-438c-a586-62f06723eefb",
   "metadata": {},
   "outputs": [],
   "source": [
    "data2[\"Mstar\"]"
   ]
  },
  {
   "cell_type": "code",
   "execution_count": null,
   "id": "4679b437-0e2d-4a14-a770-c3add2578512",
   "metadata": {},
   "outputs": [],
   "source": [
    "plt.hist(np.array(data2[\"Mstar\"]), bins = 10, \n",
    "                 histtype = \"step\", linewidth = 3, alpha= 1, color= \"r\", label = 'SFG')"
   ]
  },
  {
   "cell_type": "code",
   "execution_count": null,
   "id": "e36dd2e9-848e-4938-9284-7408931a9923",
   "metadata": {},
   "outputs": [],
   "source": [
    "data1_lim = data1[data1['Mstar'] > 8]"
   ]
  },
  {
   "cell_type": "code",
   "execution_count": null,
   "id": "7d9a09ae-38f4-4730-aace-522a14b661f8",
   "metadata": {},
   "outputs": [],
   "source": [
    "data1_lim[\"Mstar\"].min()"
   ]
  },
  {
   "cell_type": "code",
   "execution_count": null,
   "id": "519c06f8-b586-44ba-8eee-84eb410fb8c2",
   "metadata": {},
   "outputs": [],
   "source": [
    "plt.hist(np.array(data1_lim[\"Mstar\"]), bins = 10, \n",
    "                 histtype = \"step\", linewidth = 3, alpha= 1, color= \"r\", label = 'SFG')"
   ]
  },
  {
   "cell_type": "code",
   "execution_count": null,
   "id": "7e572b73-57cc-4c15-9fef-5d6069f3cec7",
   "metadata": {},
   "outputs": [],
   "source": [
    "\n",
    "plot_ks2sample_cdf(data1_lim, data2, n_bins = 100, xlim = [8.5, 12.3], feature = 'Mstar', colname = r'$log (M_{\\rm star})$' )\n",
    "    "
   ]
  },
  {
   "cell_type": "code",
   "execution_count": null,
   "id": "1f159c8c-0ce8-44df-9ae9-0a1c3e6fbd65",
   "metadata": {},
   "outputs": [],
   "source": [
    "\n",
    "plot_ks2sample_cdf(data1, data2, n_bins = 10, xlim = [-0.02, 1], feature = 'class_star', colname = 'class_star' )\n",
    "    "
   ]
  },
  {
   "cell_type": "code",
   "execution_count": null,
   "id": "4a2bbfbf-3b0f-4cf5-a2d0-4fe570df6655",
   "metadata": {},
   "outputs": [],
   "source": [
    "\n",
    "# plot_ks2sample_cdf(data1, data2, n_bins = 100, xlim = [-1, 3.5], feature = 'qir', colname = r'$q_\\mathrm{IR}$')\n",
    "plot_ks2sample_cdf(data1, data2, n_bins = 100, xlim = [0.1, 0.8], feature = 'qir', colname = r'$q_\\mathrm{IR}$')\n",
    "    "
   ]
  },
  {
   "cell_type": "code",
   "execution_count": null,
   "id": "b737b9b2-8ae3-4c76-b3ca-c6e7be8a72e1",
   "metadata": {},
   "outputs": [],
   "source": []
  }
 ],
 "metadata": {
  "kernelspec": {
   "display_name": "ASTRO-PY3",
   "language": "python",
   "name": "astro-py3"
  },
  "language_info": {
   "codemirror_mode": {
    "name": "ipython",
    "version": 3
   },
   "file_extension": ".py",
   "mimetype": "text/x-python",
   "name": "python",
   "nbconvert_exporter": "python",
   "pygments_lexer": "ipython3",
   "version": "3.6.8"
  }
 },
 "nbformat": 4,
 "nbformat_minor": 5
}
