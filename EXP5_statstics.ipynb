{
 "cells": [
  {
   "cell_type": "markdown",
   "id": "49b36049",
   "metadata": {},
   "source": [
    "# STATISTICAL BASELINE\n",
    "## We want to classify mightee sources using the mahalanobis distance (simple stats)\n",
    "\n",
    "### Code adopted from Eslam"
   ]
  },
  {
   "cell_type": "code",
   "execution_count": null,
   "id": "a2894ea7",
   "metadata": {},
   "outputs": [],
   "source": [
    "import matplotlib.pyplot as plt\n",
    "import numpy as np\n",
    "import pandas as pd\n",
    "from sources.stats_f1 import*\n",
    "\n",
    "from sklearn.model_selection import train_test_split"
   ]
  },
  {
   "cell_type": "code",
   "execution_count": null,
   "id": "13edf864",
   "metadata": {},
   "outputs": [],
   "source": [
    "# We call the test and train data saved from the processing notebook\n",
    "\n",
    "mightee_data = pd.read_csv('raw_data.csv')\n",
    "\n",
    "X_data = pd.read_csv('X_train.csv')\n",
    "y_data = pd.read_csv('y_train.csv')\n",
    "\n",
    "y = y_data['labels']\n",
    "\n",
    "ml_feat = [['qir'], \n",
    "           ['qir', 'class_star'],\n",
    "           ['qir', 'class_star', 'log(S8/S45)'],\n",
    "           ['qir', 'class_star', 'log(S8/S45)','log(S58/S36)'],\n",
    "           ['qir', 'class_star', 'log(S8/S45)','log(S58/S36)', 'Mstar'],\n",
    "           ['qir', 'class_star', 'log(S8/S45)','log(S58/S36)', 'Mstar', 'log(S45/S36)']]"
   ]
  },
  {
   "cell_type": "code",
   "execution_count": null,
   "id": "8d793f36",
   "metadata": {},
   "outputs": [],
   "source": [
    "splits = [0.2]\n",
    "base_dict = {} # https://www.geeksforgeeks.org/python-nested-dictionary/  (for more exploration around dictionaries) \n",
    "\n"
   ]
  },
  {
   "cell_type": "code",
   "execution_count": null,
   "id": "aab0824f",
   "metadata": {},
   "outputs": [],
   "source": [
    "for s in splits:\n",
    "    X_train, X_test, y_train, y_test = train_test_split(X_data, y, test_size= s, random_state=1, stratify = y, shuffle = True)\n",
    "    \n",
    "    i = 1\n",
    "    for f in ml_feat:\n",
    "        xtr =  X_train[f]\n",
    "        xte =  X_test[f]\n",
    "        results = get_f1_base (xtr, y_train, xte, y_test, len(f)) # to get the f1scores for the baseline\n",
    "        \n",
    "        key = \"F\"+str((i))\n",
    "        \n",
    "        base_dict[key] = {}\n",
    "        base_dict[key]['tot_f1'] = results[0]\n",
    "        base_dict[key]['jack_train'] = results[1]\n",
    "        base_dict[key]['jack_test'] = results[2]\n",
    "        i += 1"
   ]
  },
  {
   "cell_type": "code",
   "execution_count": null,
   "id": "3f678954",
   "metadata": {},
   "outputs": [],
   "source": [
    "%store base_dict \n",
    "# we will use this Dictionary in the next notebook"
   ]
  },
  {
   "cell_type": "code",
   "execution_count": null,
   "id": "b5f7468b",
   "metadata": {},
   "outputs": [],
   "source": [
    "print(base_dict.keys())\n",
    "key = list(base_dict.keys())[0]\n",
    "print( base_dict[key].keys() )"
   ]
  },
  {
   "cell_type": "code",
   "execution_count": null,
   "id": "2fb86793",
   "metadata": {},
   "outputs": [],
   "source": [
    "f1_arr = [] \n",
    "sd_arr = [] \n",
    "\n",
    "\n",
    "for key in base_dict.keys():\n",
    "    \n",
    "    print( str(key)+\": \"+str(base_dict[key][ 'tot_f1' ] ))\n",
    "    f1_arr.append(base_dict[key][ 'tot_f1' ]) # append total f1 to an array\n",
    "    sd_train = jack_SD( np.zeros( len(base_dict[key][ 'jack_train' ]) ), base_dict[key][ 'jack_train' ])[0]\n",
    "    sd_test = jack_SD( np.zeros( len(base_dict[key][ 'jack_test' ]) ), base_dict[key][ 'jack_test' ])[0]\n",
    "    sd = np.sqrt( np.array((sd_train**2)) + np.array((sd_test**2)))\n",
    "    sd_arr.append(sd) # append sd_arr to an array\n",
    "\n",
    "    print(sd)\n",
    "    print()\n",
    "    "
   ]
  },
  {
   "cell_type": "code",
   "execution_count": null,
   "id": "c475a6b4",
   "metadata": {},
   "outputs": [],
   "source": [
    "plt.figure(figsize=(10 , 7))\n",
    "plt.title( \"BASELINE F1 scores for different features with SD\", fontweight ='bold', fontsize =16)\n",
    "plt.xlabel(\"Features\", fontweight ='bold', fontsize =12)\n",
    "plt.xticks(rotation=45, ha='right')\n",
    "plt.ylim(0.75, 1)\n",
    "plt.ylabel(\"F1 Scores\", fontweight ='bold', fontsize =12)\n",
    "plt.errorbar( list(base_dict.keys()), f1_arr, sd_arr, fmt='o')\n",
    "plt.show()"
   ]
  }
 ],
 "metadata": {
  "kernelspec": {
   "display_name": "ASTRO-PY3",
   "language": "python",
   "name": "astro-py3"
  },
  "language_info": {
   "codemirror_mode": {
    "name": "ipython",
    "version": 3
   },
   "file_extension": ".py",
   "mimetype": "text/x-python",
   "name": "python",
   "nbconvert_exporter": "python",
   "pygments_lexer": "ipython3",
   "version": "3.6.8"
  }
 },
 "nbformat": 4,
 "nbformat_minor": 5
}
