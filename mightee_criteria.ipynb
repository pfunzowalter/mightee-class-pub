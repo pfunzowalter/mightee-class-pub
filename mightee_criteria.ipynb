{
 "cells": [
  {
   "cell_type": "code",
   "execution_count": null,
   "id": "c3c0cebb-0d77-4805-b75f-4aed1e005d88",
   "metadata": {},
   "outputs": [],
   "source": [
    "import os\n",
    "import numpy as np\n",
    "from astropy import units as u\n",
    "import matplotlib.pyplot as plt\n",
    "import matplotlib as mpl\n",
    "from uncertainties import unumpy as unp\n",
    "from astropy.table import Table\n",
    "import seaborn as sns\n",
    "from rich import print\n",
    "#from matplotlib.ticker import FuncFormatter\n",
    "from matplotlib.ticker import ScalarFormatter\n",
    "\n",
    "from shapely.geometry import Polygon\n",
    "import pandas as pd"
   ]
  },
  {
   "cell_type": "code",
   "execution_count": null,
   "id": "2b519c15-1d40-47de-84f2-6de71f989fb1",
   "metadata": {},
   "outputs": [],
   "source": [
    "### Sampling the Mid Indfrared Data\n",
    "\n",
    "from astropy.table import Table\n",
    "\n",
    "# table = Table.read(\"MIGHTEEXMATCH allmulti classes_081221.fits\")\n",
    "table = Table.read(\"COSMOSXMATCH+classes_040422_withphotometry.fits\")\n",
    "\n",
    "df = table.to_pandas()\n",
    "\n",
    "table2 = Table.read(\"MIGHTEEXMATCH+allmulti+classes2.fits\")\n",
    "df2 = table2.to_pandas()"
   ]
  },
  {
   "cell_type": "code",
   "execution_count": null,
   "id": "a83f09c2-fc2a-4afe-82e5-786eaada5c0c",
   "metadata": {},
   "outputs": [],
   "source": [
    "cols = df.columns"
   ]
  },
  {
   "cell_type": "code",
   "execution_count": null,
   "id": "c49bc137-8754-4f20-85d9-e80ec083aa46",
   "metadata": {
    "tags": []
   },
   "outputs": [],
   "source": [
    "# col_df = cols\n",
    "# col_df.to_csv('cols.csv', index=False)\n",
    "col_df = pd.DataFrame(cols, columns=['Column'])\n",
    "col_df.to_csv('cols.csv', index=False)"
   ]
  },
  {
   "cell_type": "code",
   "execution_count": null,
   "id": "8c63df4d-80e2-413b-b984-973ffbb388f8",
   "metadata": {},
   "outputs": [],
   "source": [
    "# hack_cols = [RADIORA\tRADIODEC\tTOTALFLUX\tTOTALFLUXERR\tPEAKFLUX\tPEAKFLUXERR\n",
    "#             flux_CFHT-u\tflux_CFHT-g\tflux_CFHT-r\tflux_CFHT-iy\tflux_CFHT-z\tflux_HSC-G\t\n",
    "#             flux_HSC-G\tflux_HSC-R\tflux_HSC-I\tflux_HSC-NB0816\tflux_HSC-Z\tflux_SC-z\tflux_HSC-NB\n",
    "#             flux_HSC-Y\tflux_Y\tflux_J\tflux_H\tflux_Ks\tflux_ch1, flux_ch2\terr_CFHT-u\terr_CFHT-g\terr_CFHT-r\terr_CFHT-iy\terr_CFHT-z,\n",
    "#             C-G\terr_HSC-R\terr_HSC-I\terr_HSC-NB0816\terr_HSC-Z\terr_SC-z\terr_HSC-NB0921\terr_HSC-Y, err_Y\terr_J\terr_H\terr_Ks\terr_ch1\terr_ch2,\n",
    "#             F_MIPS_24\tFErr_MIPS_24_u\tFErr_MIPS_24_l\tBkg_MIPS_24\tSig_conf_MIPS_24\tRhat_MIPS_24\tn_eff_MIPS_24\tPval_res_24,\n",
    "#             F_PACS_100\tFErr_PACS_100_u\tFErr_PACS_100_l\tF_PACS_160\tFErr_PACS_160_u\tFErr_PACS_160_l\tBkg_PACS_100\tBkg_PACS_160,\n",
    "#             Sig_conf_PACS_160\tRhat_PACS_100\tRhat_PACS_160\tn_eff_PACS_100\tn_eff_PACS_160\tPval_res_100\tPval_res_160,\n",
    "#             F_SPIRE_250\tFErr_SPIRE_250_u\tFErr_SPIRE_250_l\tF_SPIRE_350\tFErr_SPIRE_350_u\tFErr_SPIRE_350_l\tF_SPIRE_500\tFErr_SPIRE_500_u\tFErr_SPIRE_500_l\n",
    "#             g_SPIRE_250\tBkg_SPIRE_350\tBkg_SPIRE_500\tSig_conf_SPIRE_250\tSig_conf_SPIRE_350\tSig_conf_SPIRE_500\tRhat_SPIRE_250\tRhat_SPIRE_350,\n",
    "#             Rhat_SPIRE_500\tn_eff_SPIRE_250\tn_eff_SPIRE_350\tn_eff_SPIRE_500\tPval_res_250\tPval_res_350\tPval_res_50,\n",
    "#             SPLASH_1_FLUX\tSPLASH_1_FLUX_ERR\tSPLASH_2_FLUX\tSPLASH_2_FLUX_ERR\tSPLASH_3_FLUX\tSPLASH_3_FLUX_ERR\tSPLASH_4_FLUX\tSPLASH_4_FLUX_ERR,\n",
    "#             mag_iso\tmagerr_iso\tmag_isocor\tmagerr_isocor\tmag_petro\tmagerr_petro\tpetro_radius\tmag_aper\tmagerr_aper\tmag_auto\tmagerr_auto,\n",
    "#             mag_best\tmagerr_best\tFlux_auto\tFluxerr_auto\tkron_radius\tbackground\tthreshold\tFlux_max\tFlux_radius\tisoarea_image\tx_image_2,\n",
    "#             y_image_2\txmin_image\tymin_image, xmax_image\tymax_image\txpeak_image\typeak_image\talphapeak_j2000\tdeltapeak_j2000\ta_image\tb_image,\n",
    "#             theta_image\tmu_threshold\tmu_max\tisoarea_world\tx_world\ty_world\ta_world\tb_world\ttheta_world, flags\tfwhm_image\tfwhm_world\tcxx_image\tcyy_image\t\n",
    "#             cxy_image\telongation\tclass_star,\n",
    "#             DEC_x\tDET_ML_F\tDET_ML_S\tDET_ML_H\txray_flux_F\txray_flux_S\txray_flux_H_2\tHR\tHR_lo_lim\tHR_up_lim\tphot_type\tid_xmm\tdist_lum\tLx_0510\tLx_052\tLx_210\tNH_2\n",
    "#             S_INT\tE_S_INT\tS_PEAK\tE_S_PEAK\tNU_EFF\tS_INT14\tE_S_INT14\tS_PEAK14\tE_S_PEAK14\tIM_MAJ\tE_IM_MAJ\tIM_MIN\tE_IM_MIN\tIM_PA\n",
    "#             E_IM_PA\tTHETA_MAJ\tE_THETA_MAJ\tTHETA_MIN\tE_THETA_MIN\tRESOLVED\tISL_RMS\tGAUS_ID\tSRC_ID\tISL_I\n",
    "#             COS_best_z_v5\tCOS_best_z_uncertainty_v5\tCOS_best_z_note_v5\tSource\ttau\ttau_lo\ttau_hi\tage\tage_lo\tage_hi\tNh\tNh_lo\t\n",
    "#             Nh_hi\tirlum\tirlum_lo\tirlum_hi\tSB\tSB_lo\tSB_hi\tBB\tBB_lo\tBB_hi\tGA\tGA_lo\tGA_hi\tTO\tTO_lo\tTO_hi\tEBVbbb\tEBVbbb_lo\t\n",
    "#             EBVbbb_hi\tEBVgal\tEBVgal_lo\tEBVgal_hi\tMstar\tMstar_lo\tMstar_hi\tSFR_opt\tSFR_opt_lo\tSFR_opt_hi\n",
    "#             LIR(8-1000)\tLIR(8-1000)_lo\tLIR(8-1000)_hi\tLbb(0.1-1)\tLbb(0.1-1)_lo\tLbb(0.1-1)_hi\tLbbdered(0.1-1)\tLbbdered(0.1-1)_lo\t\n",
    "#             Lbbdered(0.1-1)_hi\tLga(0.1-1)\tLga(0.1-1)_lo\tLga(0.1-1)_hi\tLtor(1-30)\tLtor(1-30)_lo\tLtor(1-30)_hi\tLsb(1-30)\tLsb(1-30)_lo\n",
    "#             Lsb(1-30)_hi\tLbol\tLbol_lo\tLbol_hi\tSFR_IR\tSFR_IR_lo\tSFR_IR_hi\tln_like\tln_like_lo\tln_like_hi\n",
    "#             ef\tS14\tL14\tfSF\tfAGN\tqir\tLIR_WHz\n",
    "#             ]"
   ]
  },
  {
   "cell_type": "code",
   "execution_count": null,
   "id": "f97ef891-622e-4f2f-a642-621dc4d2f2db",
   "metadata": {},
   "outputs": [],
   "source": [
    "# Radio_measurements = [RADIORA, RADIODEC, TOTALFLUX, TOTALFLUXERR,  PEAKFLUX, PEAKFLUXERR]\n",
    "\n",
    "# Opt_cfht = [flux_CFHT-u, flux_CFHT-g, flux_CFHT-r, flux_CFHT-iy, flux_CFHT-z]\n",
    "\n",
    "# Optical_hsc = [flux_HSC-G, flux_HSC-G,flux_HSC-R,flux_HSC-I,flux_HSC-NB0816,flux_HSC-Z,flux_SC-z,flux_HSC-NB, flux_HSC-Y]\n",
    "\n",
    "\n",
    "# Fir = [flux_Y,flux_J,flux_H,flux_Ks,flux_ch1, flux_ch2]\n",
    "\n",
    "# sigma = [err_CFHT-u,err_CFHT-g,err_CFHT-r,err_CFHT-iy,err_CFHT-z,\n",
    "#             err_HSC-G, err_HSC-R,err_HSC-I,err_HSC-NB0816,err_HSC-Z,err_SC-z,err_HSCNB0921,err_HSC-Y, err_Y,err_J,err_H,err_Ks,err_ch1,err_ch2]\n",
    "\n",
    "# Mips = [F_MIPS_24,FErr_MIPS_24_u,FErr_MIPS_24_l,Bkg_MIPS_24,Sig_conf_MIPS_24,Rhat_MIPS_24,n_eff_MIPS_24,Pval_res_24]\n",
    "\n",
    "# Pacs = [F_PACS_100,FErr_PACS_100_u,FErr_PACS_100_l,F_PACS_160,FErr_PACS_160_u,FErr_PACS_160_l,Bkg_PACS_100,Bkg_PACS_160,\n",
    "#          Sig_conf_PACS_160,Rhat_PACS_100,Rhat_PACS_160,n_eff_PACS_100,n_eff_PACS_160,Pval_res_100,Pval_res_160]\n",
    "\n",
    "# Spire =[F_SPIRE_250,FErr_SPIRE_250_u,FErr_SPIRE_250_l,F_SPIRE_350,FErr_SPIRE_350_u,FErr_SPIRE_350_l,F_SPIRE_500,FErr_SPIRE_500_u,FErr_SPIRE_500_l\n",
    "#             g_SPIRE_250,Bkg_SPIRE_350,Bkg_SPIRE_500,Sig_conf_SPIRE_250,Sig_conf_SPIRE_350,Sig_conf_SPIRE_500,Rhat_SPIRE_250,Rhat_SPIRE_350,\n",
    "#             Rhat_SPIRE_500,n_eff_SPIRE_250,n_eff_SPIRE_350,n_eff_SPIRE_500,Pval_res_250,Pval_res_350,Pval_res_50]\n",
    "\n",
    "# IRAC = [SPLASH_1_FLUX,SPLASH_1_FLUX_ERR,SPLASH_2_FLUX,SPLASH_2_FLUX_ERR,SPLASH_3_FLUX,SPLASH_3_FLUX_ERR,SPLASH_4_FLUX,SPLASH_4_FLUX_ERR]\n",
    "\n",
    "# toconfirm = [mag_iso,magerr_iso,mag_isocor,magerr_isocor,mag_petro,magerr_petro,petro_radius,mag_aper,magerr_aper,mag_auto,magerr_auto,\n",
    "#           mag_best,magerr_best,Flux_auto,Fluxerr_auto,kron_radius,background,threshold,Flux_max,Flux_radius,isoarea_image,x_image_2,\n",
    "#             y_image_2,xmin_image,ymin_image, xmax_image,ymax_image,xpeak_image,ypeak_image,alphapeak_j2000,deltapeak_j2000,a_image,b_image,\n",
    "#             theta_image,mu_threshold,mu_max,isoarea_world,x_world,y_world,a_world,b_world,theta_world, flags,fwhm_image,fwhm_world,cxx_image,cyy_image,\n",
    "#             cxy_image,elongation ]\n",
    "\n",
    "# optical = [class_star]\n",
    "\n",
    "# xray = [DEC_x,DET_ML_F,DET_ML_S,DET_ML_H,xray_flux_F,xray_flux_S,xray_flux_H_2,HR,HR_lo_lim,HR_up_lim,phot_type,id_xmm,dist_lum,Lx_0510,Lx_052,Lx_210,NH_2]\n",
    "\n",
    "# radio2 = [S_INT,E_S_INT,S_PEAK,E_S_PEAK,NU_EFF,S_INT14,E_S_INT14,S_PEAK14,E_S_PEAK14,IM_MAJ,E_IM_MAJ,IM_MIN,E_IM_MIN,IM_PA\n",
    "#             E_IM_PA,THETA_MAJ,E_THETA_MAJ,THETA_MIN,E_THETA_MIN,RESOLVED,ISL_RMS,GAUS_ID,SRC_ID,ISL_I]\n",
    "# Redshift = [COS_best_z_v5,COS_best_z_uncertainty_v5,COS_best_z_note_v5]\n",
    "\n",
    "# Star_formation_hi = [Source,tau,tau_lo,tau_hi,age,age_lo,age_hi,Nh,Nh_lo,\n",
    "#             Nh_hi,irlum,irlum_lo,irlum_hi,SB,SB_lo,SB_hi,BB,BB_lo,BB_hi,GA,GA_lo,GA_hi,TO,TO_lo,TO_hi,EBVbbb,EBVbbb_lo,\n",
    "#             EBVbbb_hi,EBVgal,EBVgal_lo,EBVgal_hi]\n",
    "\n",
    "# Star_formation2 = [Mstar,Mstar_lo,Mstar_hi,SFR_opt,SFR_opt_lo,SFR_opt_hi, LIR(8-1000), LIR(8-1000)_lo,LIR(8-1000)_hi,Lbb(0.1-1),Lbb(0.1-1)_lo,Lbb(0.1-1)_hi,Lbbdered(0.1-1),Lbbdered(0.1-1)_lo, Lbbdered(0.1-1)_hi,Lga(0.1-1),Lga(0.1-1)_lo,Lga(0.1-1)_hi,Ltor(1-30),Ltor(1-30)_lo,Ltor(1-30)_hi,Lsb(1-30),Lsb(1-30)_lo\n",
    "#             Lsb(1-30)_hi,Lbol,Lbol_lo,Lbol_hi,SFR_IR,SFR_IR_lo,SFR_IR_hi,ln_like,ln_like_lo,ln_like_hi ef],\n",
    "\n",
    "# If3 = [S14,L14,fSF,fAGN,qir,LIR_WHz]\n"
   ]
  },
  {
   "cell_type": "code",
   "execution_count": null,
   "id": "dcb46e1e-1a98-4998-8377-7ea4f1682386",
   "metadata": {},
   "outputs": [],
   "source": [
    "mid_infrared_cols = ['SPLASH_1_FLUX', 'SPLASH_1_FLUX_ERR', 'SPLASH_2_FLUX', 'SPLASH_2_FLUX_ERR',\n",
    "                     'SPLASH_3_FLUX', 'SPLASH_3_FLUX_ERR', 'SPLASH_4_FLUX', 'SPLASH_4_FLUX_ERR', \n",
    "                     'XAGN', 'notXAGN', 'RLAGN', 'RQ', 'RQAGN', 'AGN', 'SFG', 'probSFG', 'midIRAGN', \n",
    "                     'notmidIRAGN', 'optAGN', 'notoptAGN' ]"
   ]
  },
  {
   "cell_type": "code",
   "execution_count": null,
   "id": "03bb43f0-9c00-4a04-a4df-b52e8318448a",
   "metadata": {},
   "outputs": [],
   "source": [
    "mir_data = df[mid_infrared_cols]"
   ]
  },
  {
   "cell_type": "code",
   "execution_count": null,
   "id": "da7b6c40-10dd-4b77-a8ab-5f39f3c9dd17",
   "metadata": {},
   "outputs": [],
   "source": [
    "mir_data"
   ]
  },
  {
   "cell_type": "code",
   "execution_count": null,
   "id": "96997c86-8b86-47ff-9c38-e225c00baaf6",
   "metadata": {},
   "outputs": [],
   "source": [
    "mir_data['S8_S45'] = np.log10( mir_data['SPLASH_4_FLUX'] / mir_data['SPLASH_2_FLUX'])\n",
    "mir_data['S58_S36'] = np.log10(mir_data['SPLASH_3_FLUX'] / mir_data['SPLASH_1_FLUX'])\n",
    "# mir_data['S45_S36'] = np.log10(mir_data['SPLASH_2_FLUX'] / mir_data['SPLASH_1_FLUX'])"
   ]
  },
  {
   "cell_type": "code",
   "execution_count": null,
   "id": "b51857dd-14be-42e4-8a42-7dc49ee08220",
   "metadata": {},
   "outputs": [],
   "source": [
    "mir_data"
   ]
  },
  {
   "cell_type": "code",
   "execution_count": null,
   "id": "6090d665-445a-4cf9-8580-f0123f1f6c87",
   "metadata": {},
   "outputs": [],
   "source": [
    "irac_color = mir_data[['S58_S36', 'S8_S45', 'XAGN',\n",
    "                      'notXAGN', 'RLAGN', 'RQ', 'RQAGN', 'AGN',\n",
    "                      'SFG', 'probSFG', 'midIRAGN', 'notmidIRAGN', \n",
    "                      'optAGN', 'notoptAGN'] ]"
   ]
  },
  {
   "cell_type": "code",
   "execution_count": null,
   "id": "442531a2-5792-496b-b6e6-b3abe77501ac",
   "metadata": {},
   "outputs": [],
   "source": [
    "irac_color"
   ]
  },
  {
   "cell_type": "code",
   "execution_count": null,
   "id": "829ca0db-60f2-4da4-8528-cbb3c90908a4",
   "metadata": {},
   "outputs": [],
   "source": [
    "\n",
    "# Donley Wedge\n",
    "line1x = np.linspace(0.08, 0.27+0.08,100)\n",
    "line1y = np.linspace(0.15, 0.15,100)\n",
    "\n",
    "line2x = np.linspace(0.08, 0.08,100)\n",
    "line2y = np.linspace(0.15, 0.37,100)\n",
    "\n",
    "line3x = np.linspace(0.08, 0.8,100)\n",
    "line3y = 1.21 * line3x + 0.27\n",
    "\n",
    "line4x = np.linspace(0.08+0.27, 0.8+0.27,100)\n",
    "line4y = 1.21 * line3x - 0.27 +0.27 + 0.05\n",
    "\n",
    "line5x = np.linspace(0.08, 0.08,100)\n",
    "line5y = np.linspace(0.37, 1.00,100)\n",
    "\n",
    "line6x = np.linspace(0.35, 1.0,100)\n",
    "line6y = np.linspace(0.15, 0.15,100)\n",
    "\n",
    "# IRAC plots\n",
    "plt.figure(figsize = (10, 8))\n",
    "plt.scatter(irac_color['S58_S36'], irac_color['S8_S45'], linestyle=\"None\", alpha=0.5, marker=\".\", linewidth=0, label = 'All sources')\n",
    "xmidAGN, ymidAGN = np.array(irac_color[irac_color['midIRAGN']==True][['S58_S36']]), np.array(irac_color[irac_color['midIRAGN']==True][['S8_S45']])\n",
    "plt.scatter(xmidAGN, ymidAGN, c = 'r', linestyle=\"None\", alpha=0.5, marker=\".\", linewidth=1, label = 'midIRAGN')\n",
    "plt.plot(line1x, line1y,'gray', label='[Donley+ 2012] wedge', linestyle=\"solid\", alpha=0.8, linewidth=0.8)\n",
    "plt.plot(line2x, line2y,'gray', label='', linestyle=\"solid\", alpha=0.8, linewidth=0.8)\n",
    "plt.plot(line3x, line3y,'gray', label='', linestyle=\"solid\", alpha=0.8, linewidth=0.8)\n",
    "plt.plot(line4x, line4y,'gray', label='', linestyle=\"solid\", alpha=0.8, linewidth=0.8)\n",
    "plt.plot(line5x, line5y,'lightgray', label='', linestyle=\"dotted\", alpha=0.8, linewidth=0.8)\n",
    "plt.plot(line6x, line6y,'lightgray', label='', linestyle=\"dotted\", alpha=0.8, linewidth=0.8)\n",
    "plt.legend(loc = 'upper left')\n",
    "plt.xlabel('$log(S_{5.8}/S_{3.6})$', fontweight ='bold', fontsize =16)\n",
    "plt.ylabel('$log(S_{8.0}/S_{4.5})$', fontweight ='bold', fontsize =16)\n",
    "plt.show()"
   ]
  },
  {
   "cell_type": "code",
   "execution_count": null,
   "id": "00b49ace-3a2c-41e9-9c9e-f2ad5181d8b6",
   "metadata": {},
   "outputs": [],
   "source": [
    "# # IRAC plots\n",
    "# plt.figure(figsize = (10, 8))\n",
    "# plt.scatter(irac_color['S58_S36'], irac_color['S8_S45'], linestyle=\"None\", alpha=0.5, marker=\".\", linewidth=0, label = 'All sources')\n",
    "# xoptAGN, yoptAGN = np.array(irac_color[irac_color['optAGN']==True][['S58_S36']]), np.array(irac_color[irac_color['optAGN']==True][['S8_S45']])\n",
    "# plt.scatter(xoptAGN, yoptAGN, c = 'r', linestyle=\"None\", alpha=0.5, marker=\".\", linewidth=1, label = 'optAGN')\n",
    "# plt.plot(line1x, line1y,'gray', label='[Donley+ 2012] wedge', linestyle=\"solid\", alpha=0.8, linewidth=0.8)\n",
    "# plt.plot(line2x, line2y,'gray', label='', linestyle=\"solid\", alpha=0.8, linewidth=0.8)\n",
    "# plt.plot(line3x, line3y,'gray', label='', linestyle=\"solid\", alpha=0.8, linewidth=0.8)\n",
    "# plt.plot(line4x, line4y,'gray', label='', linestyle=\"solid\", alpha=0.8, linewidth=0.8)\n",
    "# plt.plot(line5x, line5y,'lightgray', label='', linestyle=\"dotted\", alpha=0.8, linewidth=0.8)\n",
    "# plt.plot(line6x, line6y,'lightgray', label='', linestyle=\"dotted\", alpha=0.8, linewidth=0.8)\n",
    "# plt.legend(loc = 'upper left')\n",
    "# plt.xlabel('$log(S_{5.8}/S_{3.6})$', fontweight ='bold', fontsize =16)\n",
    "# plt.ylabel('$log(S_{8.0}/S_{4.5})$', fontweight ='bold', fontsize =16)\n",
    "# plt.show()"
   ]
  },
  {
   "cell_type": "code",
   "execution_count": null,
   "id": "052f51d7-6c7b-4bf9-9306-c167a5713238",
   "metadata": {},
   "outputs": [],
   "source": []
  },
  {
   "cell_type": "code",
   "execution_count": null,
   "id": "ee929d0f-8893-4aba-a367-9f846c5a06c3",
   "metadata": {},
   "outputs": [],
   "source": [
    "# # IRAC plots\n",
    "# plt.figure(figsize = (10, 8))\n",
    "# plt.scatter(irac_color['S58_S36'], irac_color['S8_S45'], linestyle=\"None\", alpha=0.5, marker=\".\", linewidth=0, label = 'All sources')\n",
    "# xRLAGN, yRLAGN = np.array(irac_color[irac_color['RLAGN']==True][['S58_S36']]), np.array(irac_color[irac_color['RLAGN']==True][['S8_S45']])\n",
    "# plt.scatter(xRLAGN, yRLAGN, c = 'r', linestyle=\"None\", alpha=0.5, marker=\".\", linewidth=1, label = 'RLAGN')\n",
    "# plt.plot(line1x, line1y,'gray', label='[Donley+ 2012] wedge', linestyle=\"solid\", alpha=0.8, linewidth=0.8)\n",
    "# plt.plot(line2x, line2y,'gray', label='', linestyle=\"solid\", alpha=0.8, linewidth=0.8)\n",
    "# plt.plot(line3x, line3y,'gray', label='', linestyle=\"solid\", alpha=0.8, linewidth=0.8)\n",
    "# plt.plot(line4x, line4y,'gray', label='', linestyle=\"solid\", alpha=0.8, linewidth=0.8)\n",
    "# plt.plot(line5x, line5y,'lightgray', label='', linestyle=\"dotted\", alpha=0.8, linewidth=0.8)\n",
    "# plt.plot(line6x, line6y,'lightgray', label='', linestyle=\"dotted\", alpha=0.8, linewidth=0.8)\n",
    "# plt.legend(loc = 'upper left')\n",
    "# plt.xlabel('$log(S_{5.8}/S_{3.6})$', fontweight ='bold', fontsize =16)\n",
    "# plt.ylabel('$log(S_{8.0}/S_{4.5})$', fontweight ='bold', fontsize =16)\n",
    "# plt.show()"
   ]
  },
  {
   "cell_type": "code",
   "execution_count": null,
   "id": "9d0d14bf-6991-472e-a703-f76f81afe5e8",
   "metadata": {},
   "outputs": [],
   "source": [
    "# IRAC plots\n",
    "xoptAGN, yoptAGN = np.array(irac_color[irac_color['optAGN']==True][['S58_S36']]), np.array(irac_color[irac_color['optAGN']==True][['S8_S45']])\n",
    "xRLAGN, yRLAGN = np.array(irac_color[irac_color['RLAGN']==True][['S58_S36']]), np.array(irac_color[irac_color['RLAGN']==True][['S8_S45']])\n",
    "\n",
    "xXAGN, yXAGN = np.array(irac_color[irac_color['XAGN']==True][['S58_S36']]), np.array(irac_color[irac_color['XAGN']==True][['S8_S45']])\n",
    "plt.figure(figsize = (10, 8))\n",
    "plt.scatter(irac_color['S58_S36'], irac_color['S8_S45'], linestyle=\"None\", alpha=0.5, marker=\".\", linewidth=0, label = 'All sources')\n",
    "plt.scatter(xmidAGN, ymidAGN, c = 'r', linestyle=\"None\", alpha=0.5, marker=\"s\", linewidth=1, label = 'midIRAGN')\n",
    "plt.scatter(xoptAGN, yoptAGN, c = 'm', linestyle=\"None\", alpha=0.5, marker=\"+\", linewidth=2, label = 'optAGN')\n",
    "plt.scatter(xRLAGN, yRLAGN, c = 'orange', linestyle=\"None\", alpha=0.5, marker=\"v\", linewidth=1, label = 'RLAGN')\n",
    "plt.scatter(xXAGN, yXAGN, c = 'g', linestyle=\"None\", alpha=0.5, marker=\"*\", linewidth=1, label = 'XAGN')\n",
    "plt.plot(line1x, line1y,'gray', label='[Donley+ 2012] wedge', linestyle=\"solid\", alpha=1, linewidth=0.8)\n",
    "plt.plot(line2x, line2y,'gray', label='', linestyle=\"solid\", alpha=1, linewidth=0.8)\n",
    "plt.plot(line3x, line3y,'gray', label='', linestyle=\"solid\", alpha=1, linewidth=0.8)\n",
    "plt.plot(line4x, line4y,'gray', label='', linestyle=\"solid\", alpha=1, linewidth=0.8)\n",
    "plt.plot(line5x, line5y,'lightgray', label='', linestyle=\"dotted\", alpha=1, linewidth=0.8)\n",
    "plt.plot(line6x, line6y,'lightgray', label='', linestyle=\"dotted\", alpha=1, linewidth=0.8)\n",
    "plt.legend(loc = 'upper left')\n",
    "plt.xlabel('$log(S_{5.8}/S_{3.6})$', fontweight ='bold', fontsize =20)\n",
    "plt.ylabel('$log(S_{8.0}/S_{4.5})$', fontweight ='bold', fontsize =20)\n",
    "plt.xticks(fontsize=16)\n",
    "plt.yticks(fontsize=16)\n",
    "plt.savefig('donley_plot.pdf')\n",
    "plt.show()"
   ]
  },
  {
   "cell_type": "markdown",
   "id": "a7ba27c7-5df0-42e4-ae86-952ee16f0b8d",
   "metadata": {},
   "source": [
    "---"
   ]
  },
  {
   "cell_type": "markdown",
   "id": "349172e5-1a4f-41ad-944c-ffde63f76ffd",
   "metadata": {},
   "source": [
    "# THE RADIO LOUD Creterion"
   ]
  },
  {
   "cell_type": "code",
   "execution_count": null,
   "id": "70699610-563e-43b3-b973-1bca796979ed",
   "metadata": {},
   "outputs": [],
   "source": [
    "radio_cols = ['COS_best_z_v5', 'MASS_lephare', 'qir', 'XAGN', 'notXAGN', 'RLAGN', 'RQ',\n",
    "              'RQAGN', 'AGN', 'SFG', 'probSFG', 'midIRAGN', \n",
    "              'notmidIRAGN', 'optAGN', 'notoptAGN' ]"
   ]
  },
  {
   "cell_type": "code",
   "execution_count": null,
   "id": "67a5595c-95e1-4aa8-b570-ef8b4e58c747",
   "metadata": {},
   "outputs": [],
   "source": [
    "radio_df = df[radio_cols]"
   ]
  },
  {
   "cell_type": "code",
   "execution_count": null,
   "id": "9366071f-8939-43c3-88b6-a1f4af603498",
   "metadata": {},
   "outputs": [],
   "source": [
    "radio_df"
   ]
  },
  {
   "cell_type": "code",
   "execution_count": null,
   "id": "86ff3c56-67a9-4cec-a96d-e659d320928b",
   "metadata": {},
   "outputs": [],
   "source": [
    "# Adopting the qIR from Delvecchio et al. (2021) eqn 5 \n",
    "# And assuming z = 1\n",
    "def delvecchio2020_fit(Mstar, std=0, sigma = -3):\n",
    "        z_const, z_std  = 2.646, 0.024 * std\n",
    "        exp, exp_std = -0.023, 0.0008 * std\n",
    "        Mstar_const, Mstar_std = 0.148, 0.013 * std\n",
    "        z_part = ((z_const + z_std) * (2)**(exp + exp_std))\n",
    "        Mstar_part = ((Mstar_const + Mstar_std) * (Mstar -10))  # Mstar in [solar mass]\n",
    "        \n",
    "        return z_part - Mstar_part + 0.2*sigma\n",
    "\n",
    "qir = delvecchio2020_fit(Mstar = radio_df['MASS_lephare'], std=0, sigma = 0)\n",
    "qir3 = delvecchio2020_fit(Mstar = radio_df['MASS_lephare'], std=0, sigma = -3)\n",
    "\n",
    "plt.figure(figsize = (10, 8))\n",
    "plt.scatter(radio_df['MASS_lephare'], radio_df['qir'], linestyle=\"None\", alpha=0.5, marker=\".\", linewidth=0, label = 'All sources')\n",
    "xRLAGN, yRLAGN = np.array(radio_df[radio_df['RLAGN']==True][['MASS_lephare']]), np.array(radio_df[radio_df['RLAGN']==True][['qir']])\n",
    "plt.scatter(xRLAGN, yRLAGN, c = 'r', linestyle=\"None\", alpha=0.5, marker=\".\", linewidth=1, label = 'RLAGN')\n",
    "# plt.plot(np.array(radio_df['MASS_lephare']), np.array(qir1),'gray', label='[Delvecchio+ 2021] fit + 0.43dex', linestyle=\":\", alpha=0.8, linewidth=0.8)\n",
    "plt.plot(np.array(radio_df['MASS_lephare']), np.array(qir), linestyle = \"-\",c ='k', label='[Delvecchio+ 2021] fit', alpha=0.8, linewidth=0.8)\n",
    "plt.legend(loc = 'lower left')\n",
    "plt.xlabel('$log(M_{\\star}/M_{\\odot})$', fontweight ='bold', fontsize =16)\n",
    "plt.ylabel('qir', fontweight ='bold', fontsize =16)\n",
    "plt.ylim(-4, 4)\n",
    "plt.show()"
   ]
  },
  {
   "cell_type": "code",
   "execution_count": null,
   "id": "a099a690-89a0-4682-8929-8b9e50318e26",
   "metadata": {},
   "outputs": [],
   "source": [
    "# IRAC plots\n",
    "xmidIRAGN, ymidIRAGN = np.array(radio_df[radio_df['midIRAGN']==True][['MASS_lephare']]), np.array(radio_df[radio_df['midIRAGN']==True][['qir']])\n",
    "xoptAGN, yoptAGN = np.array(radio_df[radio_df['optAGN']==True][['MASS_lephare']]), np.array(radio_df[radio_df['optAGN']==True][['qir']])\n",
    "xXAGN, yXAGN = np.array(radio_df[radio_df['XAGN']==True][['MASS_lephare']]), np.array(radio_df[radio_df['XAGN']==True][['qir']])\n",
    "plt.figure(figsize = (10, 8))\n",
    "plt.ylim(-4, 4)\n",
    "plt.xlim(5, 12)\n",
    "plt.scatter(radio_df['MASS_lephare'], radio_df['qir'], linestyle=\"None\", alpha=0.5, marker=\".\", linewidth=0, label = 'All sources')\n",
    "plt.scatter(xmidIRAGN, ymidIRAGN, c = 'r', linestyle=\"None\", alpha=0.5, marker=\"s\", linewidth=1, label = 'midIRAGN')\n",
    "plt.scatter(xoptAGN, yoptAGN, c = 'm', linestyle=\"None\", alpha=0.5, marker=\"+\", linewidth=2, label = 'optAGN')\n",
    "plt.scatter(xRLAGN, yRLAGN, c = 'orange', linestyle=\"None\", alpha=0.5, marker=\"v\", linewidth=1, label = 'RLAGN')\n",
    "plt.scatter(xXAGN, yXAGN, c = 'g', linestyle=\"None\", alpha=0.5, marker=\"*\", linewidth=1, label = 'XLAGN')\n",
    "plt.plot(radio_df['MASS_lephare'], qir, c ='k', label='[Delvecchio+ 2021] at z=1 fit', alpha=0.8, linewidth=0.8, linestyle = \"-\",)\n",
    "plt.plot(radio_df['MASS_lephare'], qir3,'gray', label='[Delvecchio+ 2021] at z=1 fit + 3$\\sigma$', linestyle=\"solid\", alpha=0.8, linewidth=0.8)\n",
    "plt.legend(loc = 'lower left')\n",
    "plt.xlabel('$log(M_{\\star}/M_{\\odot})$', fontweight ='bold', fontsize =20)\n",
    "plt.ylabel('$q_\\mathrm{IR}$', fontweight ='bold', fontsize =20)\n",
    "plt.xticks(fontsize=16)\n",
    "plt.yticks(fontsize=16)\n",
    "plt.savefig('delvecchio_plot.pdf')\n",
    "\n",
    "plt.show()"
   ]
  },
  {
   "cell_type": "code",
   "execution_count": null,
   "id": "b3554b22-bff6-4b2d-8090-a2f87f2061a3",
   "metadata": {},
   "outputs": [],
   "source": [
    "# ref https://www.geeksforgeeks.org/plot-a-pie-chart-in-python-using-matplotlib/\n",
    "# Creating dataset\n",
    "\n",
    "no_sources = np.array([1745, 782, 2062, 635])\n",
    "per_sources = no_sources / 5224\n",
    "\n",
    "mylabels = [\"AGN\", \"SFG\", \"Probable SFG\", \"No class\"]\n",
    "\n",
    "# Creating explode data\n",
    "myexplode = [0.1, 0.0, 0.01, 0.03]\n",
    " \n",
    "# Creating color parameters\n",
    "colors = ( \"orange\", \"red\", \"m\", \"beige\")\n",
    " \n",
    "# Wedge properties\n",
    "wp = { 'linewidth' : 1, 'edgecolor' : \"green\" }\n",
    " \n",
    "# Creating autocpt arguments\n",
    "def func(pct, allvalues):\n",
    "    absolute = int(pct / 100.*np.sum(allvalues))\n",
    "    return \"{:.1f}%\\n({:d} g)\".format(pct, absolute)\n",
    " \n",
    "# Creating plot\n",
    "fig, ax = plt.subplots(figsize =(16, 10))\n",
    "wedges, texts, autotexts = ax.pie(no_sources,\n",
    "                                  autopct = lambda pct: func(pct, no_sources),\n",
    "                                  explode = myexplode,\n",
    "                                  labels = mylabels,\n",
    "                                  shadow = True,\n",
    "                                  colors = colors,\n",
    "                                  startangle = 90,\n",
    "                                  wedgeprops = wp,\n",
    "                                  textprops = dict(color =\"k\", fontweight ='bold', fontsize =16 ))\n",
    " \n",
    "# Adding legend\n",
    "ax.legend(wedges, mylabels,\n",
    "          title =\"Mightee Sources per class\",\n",
    "          loc =\"center left\",\n",
    "          bbox_to_anchor =(1, 0, 0.5, 1))\n",
    " \n",
    "plt.setp(autotexts, size = 14, weight =\"bold\")\n",
    "ax.set_title(\"MIGHTEE sources\", weight ='bold', fontsize =20)\n",
    " \n",
    "# show plot\n",
    "plt.show()"
   ]
  },
  {
   "cell_type": "code",
   "execution_count": null,
   "id": "b3a9c711-af3e-4900-b28d-9153e3487c1a",
   "metadata": {},
   "outputs": [],
   "source": [
    "trad_classes = ['XAGN', 'notXAGN', 'RLAGN', 'RQ', 'RQAGN', 'AGN', 'SFG', 'probSFG', 'midIRAGN', \n",
    "                     'notmidIRAGN', 'optAGN', 'notoptAGN' ]"
   ]
  },
  {
   "cell_type": "code",
   "execution_count": null,
   "id": "16333346-328c-4e98-8e30-ffa20510927f",
   "metadata": {},
   "outputs": [],
   "source": [
    "trad = df[trad_classes] "
   ]
  },
  {
   "cell_type": "code",
   "execution_count": null,
   "id": "bde414d0-05ea-4b9e-855b-5bc1dec8dd17",
   "metadata": {},
   "outputs": [],
   "source": [
    "trad"
   ]
  },
  {
   "cell_type": "code",
   "execution_count": null,
   "id": "4320eac6-f13a-4b50-8360-82d80a07f174",
   "metadata": {},
   "outputs": [],
   "source": []
  },
  {
   "cell_type": "markdown",
   "id": "2680cd27-2de7-4f2d-9b04-ca07a6d49005",
   "metadata": {},
   "source": [
    "# A Bar plots of the sources"
   ]
  },
  {
   "cell_type": "code",
   "execution_count": null,
   "id": "fa9d10d6-5e14-4a60-a5b4-8e8ee60c3489",
   "metadata": {},
   "outputs": [],
   "source": [
    "# # Mid infrared AGN\n",
    "# midIR = trad['midIRAGN'][trad['midIRAGN'] == True].count()\n",
    "# not_midIR = trad['notmidIRAGN'][trad['notmidIRAGN'] == True].count()\n",
    "\n",
    "# # Xray AGN\n",
    "# xagn = trad['XAGN'][trad['XAGN'] == True].count()\n",
    "# not_xagn = trad['notXAGN'][trad['notXAGN'] == True].count()\n",
    "\n",
    "# # RLAGN\n",
    "# rlagn = trad['RLAGN'][trad['RLAGN'] == True].count()\n",
    "# not_rlagn = trad['RQ'][trad['RQ'] == True].count()\n",
    "\n",
    "# # Optical AGN\n",
    "# optagn = trad['optAGN'][trad['optAGN'] == True].count()\n",
    "# not_optagn = trad['notoptAGN'][trad['notoptAGN'] == True].count()\n",
    "\n",
    "# agn_arr = (np.array([rlagn, xagn, midIR, optagn])/len(trad)) * 100\n",
    "# not_agn_arr = (np.array([not_rlagn, not_xagn, not_midIR, not_optagn])/len(trad)) * 100\n",
    "# noclass = 100-(agn_arr + not_agn_arr)\n",
    "\n",
    "# agn_cols = ['XAGN','RLAGN','midIRAGN', 'optAGN' ]\n",
    "# not_agn_cols = ['notXAGN', 'RQ', 'notmidIRAGN', 'notoptAGN' ]\n",
    "# creteria = ['Radio excess', 'Xray', 'Mid-infrared', 'Optical']\n",
    "\n",
    "\n",
    "# fig, ax = plt.subplots(figsize=(10, 8))\n",
    "\n",
    "# ax.bar(creteria, agn_arr, alpha = 0.7, edgecolor ='k', label='AGN')\n",
    "\n",
    "# ax.bar(creteria, not_agn_arr, alpha = 0.7, edgecolor ='k', bottom=agn_arr,\n",
    "#        label='notAGN')\n",
    "\n",
    "# ax.set_ylabel('AGN CRITERIA (%)', fontweight ='bold', fontsize =16)\n",
    "# ax.set_xticks(creteria, fontsize=16)\n",
    "# ax.legend(fancybox=True, framealpha=0.5, fontsize =20)\n",
    "\n",
    "# plt.show()"
   ]
  },
  {
   "cell_type": "code",
   "execution_count": null,
   "id": "1db11992-9c9b-4e02-a040-854760a97060",
   "metadata": {},
   "outputs": [],
   "source": [
    "from sources.plot_bar_lenart_adjusted import*\n",
    "\n",
    "plot_classification_bar(df)"
   ]
  },
  {
   "cell_type": "code",
   "execution_count": null,
   "id": "0c2dc404-13b6-4904-b45d-398d1582d9c3",
   "metadata": {},
   "outputs": [],
   "source": [
    "df.columns"
   ]
  },
  {
   "cell_type": "code",
   "execution_count": null,
   "id": "0a71216e-0ff9-4ca9-8d58-bfc470d334af",
   "metadata": {
    "tags": []
   },
   "outputs": [],
   "source": [
    "phot_cols = ['COS_phot_z', 'COS_phot_z_uncertainty', 'L14','LIR_WHz']\n",
    "spec_cols = ['COS_spec_z', 'COS_spec_z_uncertainty', 'L14','LIR_WHz']\n",
    "# phot_cols = ['z_phot_1', 'COS_phot_z_uncertainty', 'L14','LIR_WHz']\n",
    "# spec_cols = ['z_spec', 'COS_spec_z_uncertainty', 'L14','LIR_WHz']\n",
    "photo = df2[phot_cols]\n",
    "spec = df2[spec_cols]"
   ]
  },
  {
   "cell_type": "code",
   "execution_count": null,
   "id": "95f6c90c-25e1-4fe3-a395-1059f39c421f",
   "metadata": {},
   "outputs": [],
   "source": [
    "rows = 5\n",
    "columns = 5\n",
    "\n",
    "plt.figure(figsize = (10,8))\n",
    "\n",
    "grid = plt.GridSpec(rows, columns, wspace = .4, hspace = .4)\n",
    "\n",
    "plt.figure(figsize=(10, 10))\n",
    "\n",
    "plt.subplot(grid[0, 0:-1])\n",
    "# plt.hist(photo['COS_phot_z'], bins = 30, histtype = \"step\", linewidth = 3, color = 'r', alpha = .7)\n",
    "# plt.hist(spec['COS_spec_z'], bins = 30, histtype = \"step\", linewidth = 3, color = 'b', alpha = .7)\n",
    "plt.hist(df['COS_best_z_v5'], bins = 100, linewidth = 3, color = 'r', alpha = .7)\n",
    "plt.xlim(0, 5)\n",
    "plt.xticks(fontsize=16)\n",
    "plt.yticks(fontsize=16)\n",
    "\n",
    "\n",
    "plt.subplot(grid[1:rows+1, 0:-1])\n",
    "plt.scatter(df['COS_best_z_v5'], np.log10(df['L14']), lw = 2, c ='r', marker = 'o', s = 3, label = 'Photometric z')\n",
    "plt.xlim(0, 5)\n",
    "plt.ylim(18, 28)\n",
    "plt.ylabel('Log[L$_\\mathrm{1.4\\, GHz}$ (Watts/Hz)]', fontsize =18)\n",
    "plt.xlabel('Redshift (z)', fontsize =18)\n",
    "plt.xticks(fontsize=16)\n",
    "plt.yticks(fontsize=16)\n",
    "# plt.legend(loc = 'lower right', fontsize = 18)\n",
    "\n",
    "\n",
    "log = np.log10(df['L14'])\n",
    "log_nan = log.replace(-np.inf, np.nan, regex=True)\n",
    "log_nan.dropna( axis = 0, inplace = True)\n",
    "\n",
    "plt.subplot(grid[1:rows+1, -1])\n",
    "plt.hist(log_nan, bins = 100, linewidth = 3, orientation='horizontal', color = 'r', alpha = .7)\n",
    "plt.ylim(18, 28)\n",
    "plt.xticks(fontsize=16)\n",
    "plt.yticks(fontsize=16)\n",
    "\n",
    "plt.savefig('redshifts.pdf')\n",
    "plt.show()"
   ]
  },
  {
   "cell_type": "code",
   "execution_count": null,
   "id": "ee446bd8-6df4-44ce-9b84-7cf6f1234253",
   "metadata": {},
   "outputs": [],
   "source": []
  }
 ],
 "metadata": {
  "kernelspec": {
   "display_name": "ASTRO-PY3 (Python 3.8)",
   "language": "python",
   "name": "astro-py3.8"
  },
  "language_info": {
   "codemirror_mode": {
    "name": "ipython",
    "version": 3
   },
   "file_extension": ".py",
   "mimetype": "text/x-python",
   "name": "python",
   "nbconvert_exporter": "python",
   "pygments_lexer": "ipython3",
   "version": "3.8.2"
  }
 },
 "nbformat": 4,
 "nbformat_minor": 5
}
