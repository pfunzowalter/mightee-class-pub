{
 "cells": [
  {
   "cell_type": "markdown",
   "id": "1d27d116",
   "metadata": {},
   "source": [
    "## Data Processing for machine learning"
   ]
  },
  {
   "cell_type": "code",
   "execution_count": null,
   "id": "923fbc25-78fd-4800-bed7-e82b0d39c360",
   "metadata": {},
   "outputs": [],
   "source": [
    "# pip install missingno"
   ]
  },
  {
   "cell_type": "code",
   "execution_count": null,
   "id": "aa462ed4",
   "metadata": {},
   "outputs": [],
   "source": [
    "import numpy as np\n",
    "import matplotlib.pyplot as pl\n",
    "import pandas as pd\n",
    "import os \n",
    "import os.path as osp\n",
    "import itertools\n",
    "import astropy.io.fits as fits\n",
    "\n",
    "from sources.preprocessor import data_processor # A well defined function to sample columns of interest from a full catalogue\n",
    "import missingno as msno\n",
    "\n",
    "# plot style\n",
    "import seaborn as sns\n",
    "sns.set_style(\"ticks\")"
   ]
  },
  {
   "cell_type": "code",
   "execution_count": null,
   "id": "15f42733-e62e-4677-8d72-5095d7434e81",
   "metadata": {},
   "outputs": [],
   "source": [
    "directory_path = \"normalised\"\n",
    "os.makedirs(directory_path, exist_ok=True)"
   ]
  },
  {
   "cell_type": "code",
   "execution_count": null,
   "id": "b0fc63d8",
   "metadata": {},
   "outputs": [],
   "source": [
    "file = osp.join(\"COSMOSXMATCH+classes_040422_withphotometry.fits\")\n",
    "# table = Table.read(\"COSMOSXMATCH+classes_040422_withphotometry.fits\")\n",
    "\n",
    "fp = fits.open(file, memmap=True)\n",
    "head = fp[1].header\n",
    "data = fp[1].data\n",
    "fp.close\n",
    "\n",
    "# number of elements in the data\n",
    "N_all = len(data)"
   ]
  },
  {
   "cell_type": "code",
   "execution_count": null,
   "id": "c75e36ce-2426-46f7-b791-aadbec59e2a6",
   "metadata": {},
   "outputs": [],
   "source": [
    "# In this section we convert MID infrared flux densities to colours\n",
    "# The colours we use are shown to be good feature for distinguishing AGNs from SFGs by Donley et al...\n",
    "\n",
    "# # Important data columns for machine learning, these are the columns we will need for our analysis from the original catalogue\n",
    "input_features = [ 'SPLASH_1_FLUX', 'SPLASH_2_FLUX', 'SPLASH_3_FLUX',\n",
    " 'SPLASH_4_FLUX', 'L14','LIR_WHz','MASS_lephare', 'class_star', 'qir']\n",
    "\n",
    "# input_features = [ 'CATID', 'SPLASH_1_FLUX', 'SPLASH_2_FLUX', 'SPLASH_3_FLUX',\n",
    "#  'SPLASH_4_FLUX', 'L14','LIR_WHz','MASS_lephare', 'class_star', 'qir', '', '' ]\n",
    "\n",
    "# These are columns on the original catalogue that specify sources that are AGN, SFG or sources that are thought as probable SFG\n",
    "output_features = ['AGN', 'SFG', 'probSFG', 'unclass']\n",
    "\n",
    "# We call the data processor function\n",
    "mightee = data_processor(data, input_features, output_features)"
   ]
  },
  {
   "cell_type": "code",
   "execution_count": null,
   "id": "a9878bc8-b900-4c54-95d9-89526cfa9ec9",
   "metadata": {},
   "outputs": [],
   "source": [
    "\n",
    "\n",
    "# We use missingno to view the missingness in each feature in the data\n",
    "import missingno as msno\n",
    "\n",
    "fig = msno.matrix(mightee, figsize=(10, 8))\n",
    "\n",
    "fig_copy = fig.get_figure()\n",
    "fig_copy.savefig('missingno.png', bbox_inches = 'tight')"
   ]
  },
  {
   "cell_type": "code",
   "execution_count": null,
   "id": "88999a61-2c15-450b-975a-3bf231b837a7",
   "metadata": {},
   "outputs": [],
   "source": [
    "# Generate the missingno bar plot\n",
    "ax = msno.bar(mightee)\n",
    "\n",
    "# Customize: hide the right vertical axis (right spine)\n",
    "ax.spines['right'].set_visible(False)\n",
    "\n",
    "# Further customization (optional)\n",
    "ax.set_xlabel('Features', fontsize=12)\n",
    "ax.set_ylabel('Count of non-null values', fontsize=12)\n",
    "ax.set_title('Missing Data Overview', fontsize=15)\n",
    "\n",
    "# Show the plot\n",
    "pl.show()"
   ]
  },
  {
   "cell_type": "code",
   "execution_count": null,
   "id": "5b14d9d6",
   "metadata": {},
   "outputs": [],
   "source": [
    "# In the catalogues the Irac fluxes S3.6, S4.5, S5.8, S8.0 are labelled SPLASH1, SPLASH2, SPLASH3 and SPLASH4 flux respectively\n",
    "mightee['SPLASH_1_FLUX'] = pd.to_numeric(mightee['SPLASH_1_FLUX'], errors='coerce')\n",
    "mightee['SPLASH_2_FLUX'] = pd.to_numeric(mightee['SPLASH_2_FLUX'], errors='coerce')\n",
    "mightee['SPLASH_3_FLUX'] = pd.to_numeric(mightee['SPLASH_3_FLUX'], errors='coerce')\n",
    "mightee['SPLASH_4_FLUX'] = pd.to_numeric(mightee['SPLASH_4_FLUX'], errors='coerce')\n",
    "\n",
    "\n",
    "S8_S45 = np.log10( mightee['SPLASH_4_FLUX'] / mightee['SPLASH_2_FLUX'])\n",
    "S58_S36 = np.log10(mightee['SPLASH_3_FLUX'] / mightee['SPLASH_1_FLUX'])\n",
    "S45_S36 = np.log10(mightee['SPLASH_2_FLUX'] / mightee['SPLASH_1_FLUX'])\n",
    "# putting the features together\n",
    "mid_data = np.vstack([np.array(S8_S45),\n",
    "               np.array(S58_S36)]).T\n",
    "\n",
    "mightee_data = mightee.drop(['SPLASH_1_FLUX', 'SPLASH_2_FLUX', 'SPLASH_3_FLUX','SPLASH_4_FLUX', 'L14','LIR_WHz'], axis = 1)\n",
    "\n",
    "# and equating it to the list\n",
    "mightee_data['log(S8/S45)'] = S8_S45\n",
    "mightee_data['log(S58/S36)'] = S58_S36\n",
    "mightee_data['log(S45/S36)'] = S45_S36\n",
    "\n",
    "# lastly we convert the -99 to Nan\n",
    "mightee_data1 = mightee_data.replace([- np.inf, -99, np.inf], np.NaN, regex=True)\n",
    "# mightee_data1 = mightee_data.replace([ np.inf, -99], np.NaN, regex=True)\n",
    "\n",
    "\n",
    "mightee_data1.rename(columns = {'AGN':'class_labels', 'MASS_lephare':'Mstar'}, inplace = True)\n"
   ]
  },
  {
   "cell_type": "code",
   "execution_count": null,
   "id": "8ea07346",
   "metadata": {},
   "outputs": [],
   "source": [
    "msno1 = mightee_data1.drop(\"class_labels\", axis='columns')\n",
    "msno1 = mightee_data1.drop(\"log(S45/S36)\", axis='columns')"
   ]
  },
  {
   "cell_type": "code",
   "execution_count": null,
   "id": "2c93d56b-4e35-49a3-b6d2-1e1863afe574",
   "metadata": {},
   "outputs": [],
   "source": [
    "msno1"
   ]
  },
  {
   "cell_type": "code",
   "execution_count": null,
   "id": "fc1a32e0-e551-4475-aacd-608d541f35f0",
   "metadata": {},
   "outputs": [],
   "source": [
    "msno2= msno1.rename(columns = {'Mstar':'$log (M_{\\rm \\star})$', \n",
    "                               'qir':'$q_\\mathrm{IR}$', \n",
    "                               'log(S8/S45)':'$log(S8.0/S4.5)$', \n",
    "                               'log(S58/S36)': '$log(S5.8/S3.6)$',\n",
    "                               'log(S45/S36)': '$log(S4.5/S3.6)$'\n",
    "                              } )"
   ]
  },
  {
   "cell_type": "code",
   "execution_count": null,
   "id": "3bbf4667-342b-439c-8d9d-b47c929dee8e",
   "metadata": {},
   "outputs": [],
   "source": [
    "msno2"
   ]
  },
  {
   "cell_type": "code",
   "execution_count": null,
   "id": "d2ae552e-5020-4055-9584-07e28cbb5716",
   "metadata": {},
   "outputs": [],
   "source": [
    "# import matplotlib.pyplot as plt\n",
    "# import pandas as pd\n",
    "\n",
    "# # Example data with LaTeX-like labels\n",
    "# columns = [r'$log (M_{\\rm \\star})$', r'$class_{\\rm star}$', r'$q_{ir}$', r'$log (S_{8}/S_{45})$', \n",
    "#            r'$log (S_{58}/S_{36})$', r'$log (S_{45}/S_{36})$']\n",
    "# values = [10, 15, 20, 5, 12, 7]\n",
    "\n",
    "# # Create a DataFrame\n",
    "# df = pd.DataFrame({'Column Names': columns, 'Values': values})\n",
    "\n",
    "# # Plotting\n",
    "# fig, ax = pl.subplots()\n",
    "# ax.bar(range(len(df)), df['Values'])  # Plot using the index for tick positions\n",
    "\n",
    "# # Set x-tick positions and LaTeX-style labels\n",
    "# ax.set_xticks(range(len(df)))\n",
    "# ax.set_xticklabels(df['Column Names'], rotation=45, ha='right')  # LaTeX-style labels are handled here\n",
    "\n",
    "# pl.tight_layout()  # Adjust layout\n",
    "# pl.show()\n"
   ]
  },
  {
   "cell_type": "code",
   "execution_count": null,
   "id": "7cf1a2c6",
   "metadata": {},
   "outputs": [],
   "source": [
    "# # We use missingno to view the missingness in each feature in the data\n",
    "# fig = msno.bar(msno1,figsize=(10, 8), fontsize=26, color = 'g')\n",
    "\n",
    "# fig_copy = fig.get_figure()\n",
    "# fig_copy.savefig('missingno.pdf', bbox_inches = 'tight')"
   ]
  },
  {
   "cell_type": "code",
   "execution_count": null,
   "id": "c034bfdf-4615-4a01-9f7a-2c2090426b07",
   "metadata": {},
   "outputs": [],
   "source": [
    "msno1"
   ]
  },
  {
   "cell_type": "code",
   "execution_count": null,
   "id": "1f94e6c8-760a-498b-83cd-b57599695b9a",
   "metadata": {},
   "outputs": [],
   "source": [
    "columns = [r'$log (M_{\\rm star})$', 'class_star', r'$q_\\mathrm{IR}$', r'$log (S_{8.0}/S_{4.5})$', \n",
    "           r'$log (S_{5.8}/S_{3.6})$', r'$log (S_{4.5}/S_{3.6})$']\n",
    "\n",
    "# cols_true = msno1.columns\n",
    "\n",
    "# Generate the missingno bar plot\n",
    "ax = msno.bar(msno1,figsize=(12, 8), fontsize=22, color = 'g')\n",
    "\n",
    "# Customize: hide the right vertical axis (right spine)\n",
    "ax.spines['right'].set_visible(False)\n",
    "\n",
    "# Further customization (optional)\n",
    "ax.set_xlabel('Features', fontsize=22)\n",
    "ax.set_ylabel('Count of Valid Measurements', fontsize=22)\n",
    "# ax.set_xticks(cols_true) \n",
    "ax.set_xticks(range(len(columns)))  # Set tick positions to match the indices\n",
    "ax.set_xticklabels(columns)\n",
    "\n",
    "ax.spines['right'].set_visible(False)\n",
    "\n",
    "# Show the plot\n",
    "pl.savefig('missingno.pdf', bbox_inches = 'tight')\n",
    "pl.show()"
   ]
  },
  {
   "cell_type": "code",
   "execution_count": null,
   "id": "7afdad19-cb16-40ed-afb2-52eb80a2f0de",
   "metadata": {},
   "outputs": [],
   "source": [
    "# Generate the missingno bar plot\n",
    "ax = msno.matrix(msno1,figsize=(12, 8), fontsize=22)\n",
    "\n",
    "# Customize: hide the right vertical axis (right spine)\n",
    "ax.spines['right'].set_visible(False)\n",
    "\n",
    "# Further customization (optional)\n",
    "ax.set_xlabel('Features', fontsize=20)\n",
    "ax.set_ylabel('Count of non-null values', fontsize=20)\n",
    "ax.set_title('Missing Data Overview', fontsize=22)\n",
    "\n",
    "# Show the plot\n",
    "pl.show()"
   ]
  },
  {
   "cell_type": "markdown",
   "id": "7f4e8d09-a2e6-4c77-ab86-7652c6feaf13",
   "metadata": {},
   "source": [
    "### For PLot purposes"
   ]
  },
  {
   "cell_type": "code",
   "execution_count": null,
   "id": "fb47172e-6a63-463d-8df2-dd6bc86cfaf9",
   "metadata": {},
   "outputs": [],
   "source": [
    "# # We rename AGN column to labels\n",
    "# mightee_data1.rename(columns = {'class_labels':'class'}, inplace = True)\n",
    "# col = ['qir', 'class_star', 'Mstar', 'log(S8/S45)','log(S58/S36)', 'log(S45/S36)', 'class']\n",
    "# mightee_plot1 =  mightee_data1[col]\n",
    "\n",
    "\n",
    "# fig = msno.bar(mightee_plot1,figsize=(10, 8), fontsize=26, color = 'g')\n",
    "\n",
    "# fig_copy = fig.get_figure()\n",
    "# fig_copy.savefig('missingno_plot.png', bbox_inches = 'tight')"
   ]
  },
  {
   "cell_type": "code",
   "execution_count": null,
   "id": "bd116f07-9c69-434f-9d0a-c4c969ad90fe",
   "metadata": {},
   "outputs": [],
   "source": [
    "# Since We have sampled the important features we can throw away the obsevations with missingness in one of the features\n",
    "\n",
    "catalogue = mightee_data1.dropna()\n",
    "\n",
    "# catalogue = catalog.drop(\"unclass\", axis='columns')"
   ]
  },
  {
   "cell_type": "code",
   "execution_count": null,
   "id": "3c82b639-4c7c-40da-b428-88ff64c191fc",
   "metadata": {},
   "outputs": [],
   "source": [
    "print(mightee_data1.columns)"
   ]
  },
  {
   "cell_type": "code",
   "execution_count": null,
   "id": "23330b3e-5272-4efb-a169-56550b5af6bd",
   "metadata": {},
   "outputs": [],
   "source": [
    "msno1[\"ML dataset\"] = catalogue[\"qir\"]"
   ]
  },
  {
   "cell_type": "code",
   "execution_count": null,
   "id": "da84feda-6266-4b5f-b414-6754a4cab7c0",
   "metadata": {},
   "outputs": [],
   "source": [
    "msno1"
   ]
  },
  {
   "cell_type": "code",
   "execution_count": null,
   "id": "cdcf6494-d9ab-4e42-9d36-af0c8f563fd1",
   "metadata": {},
   "outputs": [],
   "source": [
    "msno1 = msno1.drop(\"class_labels\", axis='columns')\n"
   ]
  },
  {
   "cell_type": "code",
   "execution_count": null,
   "id": "cbedda2a-4bbc-495d-bf36-0cd525b141ca",
   "metadata": {},
   "outputs": [],
   "source": [
    "msno1"
   ]
  },
  {
   "cell_type": "code",
   "execution_count": null,
   "id": "3cfd016e-45e9-432e-9577-e72a72004bbb",
   "metadata": {},
   "outputs": [],
   "source": [
    "# columns = [r'$log (M_{\\rm star})$', 'class_star', r'$q_\\mathrm{IR}$', r'$log (S_{8.0}/S_{4.5})$', \n",
    "#            r'$log (S_{5.8}/S_{3.6})$', \"ML dataset\"]\n",
    "# # r'$log (S_{4.5}/S_{3.6})$'\n",
    "\n",
    "# # cols_true = msno1.columns\n",
    "\n",
    "# # Generate the missingno bar plot\n",
    "# ax1 = msno.bar(msno1,figsize=(12, 8), fontsize=22, color = 'g')\n",
    "\n",
    "# # Customize: hide the right vertical axis (right spine)\n",
    "# ax1.spines['right'].set_visible(False)\n",
    "\n",
    "# # Further customization (optional)\n",
    "# ax1.set_xlabel('Features', fontsize=22)\n",
    "# ax1.set_ylabel('Count of Valid Measurements', fontsize=22)\n",
    "# # ax.set_xticks(cols_true) \n",
    "# ax1.set_xticks(range(len(columns)))  # Set tick positions to match the indices\n",
    "# ax1.set_xticklabels(columns)\n",
    "\n",
    "# ax1.spines['right'].set_visible(False)\n",
    "\n",
    "# # Show the plot\n",
    "# pl.savefig('missingno.pdf', bbox_inches = 'tight')\n",
    "# pl.show()"
   ]
  },
  {
   "cell_type": "code",
   "execution_count": null,
   "id": "6dd46ce6-c3e2-40cf-9df9-8814c645de5e",
   "metadata": {},
   "outputs": [],
   "source": [
    "# Your defined column labels (6 columns)\n",
    "columns = [\n",
    "    r'$log (M_{\\rm star})$', \n",
    "    'class_star', \n",
    "    r'$q_\\mathrm{IR}$', \n",
    "    r'$log (S_{8.0}/S_{4.5})$',\n",
    "    r'$log (S_{5.8}/S_{3.6})$', \n",
    "    \"ML dataset\"\n",
    "]\n",
    "\n",
    "# Check ACTUAL columns in your DataFrame\n",
    "print(\"Actual columns:\", msno1.columns.tolist())  # Debug step\n",
    "\n",
    "# Ensure msno1 has ONLY the 6 columns you want to plot\n",
    "msno1 = msno1[msno1.columns.tolist()]  # Filter to match your labels\n",
    "\n",
    "# Generate the plot\n",
    "ax1 = msno.bar(msno1, figsize=(12, 8), fontsize=22, color='g')\n",
    "ax1.spines['right'].set_visible(False)\n",
    "ax1.set_xlabel('Features', fontsize=22)\n",
    "ax1.set_ylabel('Count of Valid Measurements', fontsize=22)\n",
    "ax1.set_xticks(range(len(columns)))  # Now matches exactly\n",
    "ax1.set_xticklabels(columns, rotation=45)  # Rotate labels if crowded\n",
    "\n",
    "pl.savefig('missingno.pdf', bbox_inches='tight')\n",
    "pl.show()"
   ]
  },
  {
   "cell_type": "code",
   "execution_count": null,
   "id": "c1f23ebc",
   "metadata": {},
   "outputs": [],
   "source": [
    "# # We plot the distribution of each feature \n",
    "\n",
    "# fig, axs = pl.subplots(2, 3, figsize = (18, 13))\n",
    "# fig.suptitle('Important features', fontweight ='bold', fontsize =18)\n",
    "\n",
    "# ## IRAC colors 'S58_S36'\n",
    "# axs[0, 0].hist(np.array(catalogue[catalogue['class_labels']=='SFG'][['log(S58/S36)']]), bins = 100, \n",
    "#              histtype = \"step\", linewidth = 3, alpha= 1, color= \"r\", label = 'SFG')\n",
    "# axs[0, 0].hist(np.array(catalogue[catalogue['class_labels']=='AGN'][['log(S58/S36)']]), bins = 100, \n",
    "#              histtype = \"step\", linewidth = 3, alpha= 1, color= \"b\", label = 'AGN')\n",
    "# axs[0, 0].legend()\n",
    "# # axs[0, 0].set_title(\"IRAC color\")\n",
    "# axs[0, 0].set_xlabel('IRAC color - log(S58/S36)',fontweight ='bold', fontsize =18)\n",
    "# axs[0, 0].set_ylabel('frequency',fontweight ='bold', fontsize =18)\n",
    "# axs[0, 0].set_xlim(-0.6, 0.6)\n",
    "            \n",
    "# ## IRAC colors ''S8_S45''\n",
    "# axs[0, 1].hist(np.array(catalogue[catalogue['class_labels']=='SFG'][['log(S8/S45)']]), bins = 100, \n",
    "#              histtype = \"step\", linewidth = 3, alpha= 1, color= \"r\", label = 'SFG')\n",
    "# axs[0, 1].hist(np.array(catalogue[catalogue['class_labels']=='AGN'][['log(S8/S45)']]), bins = 100, \n",
    "#              histtype = \"step\", linewidth = 3, alpha= 1, color= \"b\", label = 'AGN')\n",
    "# axs[0, 1].legend()\n",
    "# # axs[0, 1].set_title(\"IRAC colors\")\n",
    "# axs[0, 1].set_xlabel('IRAC color - log(S8/S45)', fontweight ='bold', fontsize =18)\n",
    "# axs[0, 1].set_ylabel('frequency', fontweight ='bold', fontsize =18)\n",
    "# axs[0, 1].set_xlim(-1, 1)\n",
    "\n",
    "# # Colour 'log(S45/S36)'\n",
    "# axs[0, 2].hist(np.array(catalogue[catalogue['class_labels']=='SFG'][['log(S45/S36)']]), bins = 100, \n",
    "#              histtype = \"step\", linewidth = 3, alpha= 1, color= \"r\", label = 'SFG')\n",
    "# axs[0, 2].hist(np.array(catalogue[catalogue['class_labels']=='AGN'][['log(S45/S36)']]), bins = 100, \n",
    "#              histtype = \"step\", linewidth = 3, alpha= 1, color= \"b\", label = 'AGN')\n",
    "# axs[0, 2].legend()\n",
    "# axs[0, 2].set_xlabel('log(S45/S36)',fontweight ='bold', fontsize =18)\n",
    "# axs[0, 2].set_ylabel('frequency',fontweight ='bold', fontsize =18)\n",
    "# axs[0, 2].set_xlim(-.25, .25)\n",
    "\n",
    "# ## QIR\n",
    "# axs[1, 0].hist(np.array(catalogue[catalogue['class_labels']=='SFG'][['qir']]), bins = 100, \n",
    "#              histtype = \"step\", linewidth = 3, alpha= 1, color= \"r\", label = 'SFG')\n",
    "# axs[1, 0].hist(np.array(catalogue[catalogue['class_labels']=='AGN'][['qir']]), bins = 100, \n",
    "#              histtype = \"step\", linewidth = 3, alpha= 1, color= \"b\", label = 'AGN')\n",
    "# axs[1, 0].legend()\n",
    "# # axs[1, 0].set_title(\"QIR\")\n",
    "# axs[1, 0].set_xlabel('qir',fontweight ='bold', fontsize =18)\n",
    "# axs[1, 0].set_ylabel('frequency',fontweight ='bold', fontsize =18)\n",
    "# axs[1, 0].set_xlim(-1, 3.5)\n",
    "\n",
    "# ## Mstar\n",
    "# axs[1, 1].hist(np.array(catalogue[catalogue['class_labels']=='SFG'][['Mstar']]), bins = 100, \n",
    "#              histtype = \"step\", linewidth = 3, alpha= 1, color= \"r\", label = 'SFG')\n",
    "# axs[1, 1].hist(np.array(catalogue[catalogue['class_labels']=='AGN'][['Mstar']]), bins = 200, \n",
    "#              histtype = \"step\", linewidth = 3, alpha= 1, color= \"b\", label = 'AGN')\n",
    "# axs[1, 1].legend()\n",
    "# axs[1, 1].set_xlabel('stellar mass', fontweight ='bold', fontsize =18)\n",
    "# axs[1, 1].set_ylabel('frequency', fontweight ='bold', fontsize =18)\n",
    "# axs[1, 1].set_xlim(8.5, 12.3)\n",
    "\n",
    "# ## Class Star\n",
    "# axs[1, 2].hist(np.array(catalogue[catalogue['class_labels']=='SFG'][['class_star']]), bins = 10, \n",
    "#              histtype = \"step\", linewidth = 3, alpha= 1, color= \"r\", label = 'SFG')\n",
    "# axs[1, 2].hist(np.array(catalogue[catalogue['class_labels']=='AGN'][['class_star']]), bins = 10, \n",
    "#              histtype = \"step\", linewidth = 3, alpha= 1, color= \"b\", label = 'AGN')\n",
    "# axs[1, 2].legend()\n",
    "# axs[1, 2].set_xlabel('class_star', fontweight ='bold', fontsize =18)\n",
    "# axs[1, 2].set_ylabel('frequency', fontweight ='bold', fontsize =18)\n",
    "# axs[1, 2].set_xlim(-0.02, 1)\n",
    "\n",
    "# pl.savefig('source_distribution')\n",
    "# fig.tight_layout()"
   ]
  },
  {
   "cell_type": "markdown",
   "id": "f9558306-8cc9-4741-95aa-bcc2f67c9dc6",
   "metadata": {},
   "source": [
    "## FOR Write up"
   ]
  },
  {
   "cell_type": "code",
   "execution_count": null,
   "id": "81a16c76-616a-4403-b136-755b15e9569d",
   "metadata": {},
   "outputs": [],
   "source": [
    "# # We plot the distribution of each feature \n",
    "\n",
    "# pl.figure(figsize = (10, 8))\n",
    "# # fig.suptitle('Important features', fontweight ='bold', fontsize =18)\n",
    "\n",
    "# ## IRAC colors ''S8_S45''\n",
    "# pl.hist(np.array(catalogue[catalogue['class_labels']=='SFG'][['log(S8/S45)']]), bins = 100, \n",
    "#              histtype = \"step\", linewidth = 3, alpha= 1, color= \"r\", label = 'SFG')\n",
    "# pl.hist(np.array(catalogue[catalogue['class_labels']=='AGN'][['log(S8/S45)']]), bins = 100, \n",
    "#              histtype = \"step\", linewidth = 3, alpha= 1, color= \"b\", label = 'AGN')\n",
    "# pl.xlabel('IRAC color - log(S8/S45)', fontweight ='bold', fontsize =18)\n",
    "# pl.ylabel('frequency', fontweight ='bold', fontsize =18)\n",
    "# pl.xlim(-1, 1)\n",
    "# pl.legend(prop={'size': 22})\n",
    "# pl.savefig('hist2')\n",
    "# pl.show()"
   ]
  },
  {
   "cell_type": "markdown",
   "id": "1444f7dd-7ec8-47d7-b782-f02710d2ae78",
   "metadata": {},
   "source": [
    "## Number Of Sources"
   ]
  },
  {
   "cell_type": "markdown",
   "id": "ecd4ec38-0327-4288-ab86-aa5cd9f79957",
   "metadata": {},
   "source": [
    "### Original Catalogue"
   ]
  },
  {
   "cell_type": "code",
   "execution_count": null,
   "id": "29714b13-1dca-4f09-a1ba-914fb80ced37",
   "metadata": {},
   "outputs": [],
   "source": [
    "# !pip install tabulate"
   ]
  },
  {
   "cell_type": "code",
   "execution_count": null,
   "id": "9a8d7594-1a94-44ae-80b3-2ed79bc72469",
   "metadata": {},
   "outputs": [],
   "source": [
    "# mightee"
   ]
  },
  {
   "cell_type": "code",
   "execution_count": null,
   "id": "165229a6-b145-47b5-aed5-63ffd136df97",
   "metadata": {},
   "outputs": [],
   "source": [
    "# agn = mightee[mightee['AGN']==True]\n",
    "# sfg = mightee[mightee['SFG']==True]\n",
    "# probsfg = mightee[mightee['ProbSFG']==True]\n",
    "# noclass = mightee[mightee['unclass']==True]"
   ]
  },
  {
   "cell_type": "code",
   "execution_count": null,
   "id": "21fe2ee2-ee6f-4cb5-ae9d-48ed2cfe9487",
   "metadata": {},
   "outputs": [],
   "source": [
    "# # Drawing a table for results\n",
    "# from tabulate import tabulate\n",
    "\n",
    "# print(\"The Clean Mightee Catalogue with a total of 4589 sources classified as AGNs, SFGs or ProbSFG) \")\n",
    "# # create data\n",
    "# mydata = [[\"AGN\", len(agn), len(agn)/len(mightee],\n",
    "#           [\"SFG\", len(sfg), len(sfg)/len(mightee)], \n",
    "#          [\"probSFG\", len(probsfg), len(probsfg)/len(mightee)],\n",
    "#          [\"no class\", len(noclass), len(noclass)/len(mightee)]]\n",
    "  \n",
    "# # create header\n",
    "# head = [\"Class\", \"Number of sources\", \"percentage(%)\" ]\n",
    "  \n",
    "# # display table\n",
    "# ML_results = tabulate(mydata, headers=head, tablefmt=\"grid\")\n",
    "# print(ML_results)\n"
   ]
  },
  {
   "cell_type": "markdown",
   "id": "e380f4f0-b3ad-4858-8f05-5ce115a0e2ac",
   "metadata": {},
   "source": [
    "### Reduced and Clean Catalogue"
   ]
  },
  {
   "cell_type": "code",
   "execution_count": null,
   "id": "e2fa1bbf-d385-4dc3-99db-ebbae902b1d8",
   "metadata": {},
   "outputs": [],
   "source": [
    "# print(\"The Original Mightee Catalogue with a total of 4273 sources classified as AGNs or SFGs) \")\n",
    "# # create data\n",
    "# mydata = [[\"AGN\", 1484, 35, 15],\n",
    "#           [\"SFG\", 2789, 65, 2]]\n",
    "  \n",
    "# # create header\n",
    "# head = [\"Class\", \"Number of sources\", \"percentage(%)\", 'frac of sources lost(%)' ]\n",
    "  \n",
    "# # display table\n",
    "# ML_results = tabulate(mydata, headers=head, tablefmt=\"grid\")\n",
    "# print(ML_results)\n",
    "# print(\"About 7% of source has been discarded due to the missing value in one of the band.\")"
   ]
  },
  {
   "cell_type": "code",
   "execution_count": null,
   "id": "57556f6c-adba-408c-afaf-2aa482d1bb55",
   "metadata": {},
   "outputs": [],
   "source": [
    "# saving the dataframe as raw_data\n",
    "catalogue = catalogue.dropna()\n",
    "catalogue.reset_index(inplace = True)\n",
    "catalogue.to_csv('raw_data1.csv', index = False, header=True)\n",
    "# catalogue = catalogue.set_index('CATID')\n",
    "\n",
    "# We split the data into training and test size for further analysis\n",
    "from sklearn.model_selection import train_test_split\n",
    "# from sklearn import preprocessing\n",
    "from sklearn.preprocessing import MinMaxScaler\n",
    "from sklearn.preprocessing import MaxAbsScaler\n",
    "from sklearn.preprocessing import StandardScaler\n",
    "\n",
    "# scaler = MinMaxScaler()\n",
    "# scaler = MaxAbsScaler()\n",
    "scaler = StandardScaler(with_mean=False)\n",
    "\n",
    "labels = catalogue['class_labels']\n",
    "X = catalogue.drop(['class_labels'], axis = 1)\n",
    "\n",
    "X_norm = scaler.fit_transform(X)\n",
    "scaled_X = pd.DataFrame( X_norm, columns = X.columns)\n",
    "\n",
    "scaled_X = scaled_X.drop(\"index\", axis=\"columns\")\n",
    "\n",
    "scaled_X['class_labels'] = labels\n",
    "\n",
    "# encoding target class\n",
    "y, clas = pd.factorize(labels) #getting the class 0 = agn, 1 =notagn, 2 = no class\n",
    "y_target = pd.DataFrame(y, columns = ['labels'])\n",
    "X_train, X_test, y_train, y_test = train_test_split(scaled_X, y_target, stratify = y, test_size=0.25, random_state=42)\n",
    "\n",
    "# saving the dataframe as raw_data\n",
    "X_train.to_csv('normalised/X_train_zs.csv', index = False, header=True)\n",
    "y_train.to_csv('normalised/y_train_zs.csv', index = False, header=True)\n",
    "X_test.to_csv('normalised/X_test_zs.csv', index = False, header=True)\n",
    "y_test.to_csv('normalised/y_test_zs.csv', index = False, header=True)\n",
    "\n",
    "# X_train.to_csv('X_train_table.csv', index = False, header=True)\n",
    "# y_train.to_csv('y_train_table.csv', index = False, header=True)\n",
    "# X_test.to_csv('X_test_table.csv', index = False, header=True)\n",
    "# y_test.to_csv('y_test_table.csv', index = False, header=True)\n",
    "\n",
    "scaled_X.to_csv('normalised/scaled_raw_zs.csv', index = False, header=True)\n"
   ]
  },
  {
   "cell_type": "code",
   "execution_count": null,
   "id": "9b1deec8-cf15-4376-b72b-9275fe859e17",
   "metadata": {},
   "outputs": [],
   "source": [
    "len(catalogue)"
   ]
  },
  {
   "cell_type": "code",
   "execution_count": null,
   "id": "6a4c3018-115f-4b7c-85ad-70c734cf750b",
   "metadata": {},
   "outputs": [],
   "source": [
    "print(X_train.isna().sum().sum())\n"
   ]
  }
 ],
 "metadata": {
  "kernelspec": {
   "display_name": "ASTRO-PY3",
   "language": "python",
   "name": "astro-py3"
  },
  "language_info": {
   "codemirror_mode": {
    "name": "ipython",
    "version": 3
   },
   "file_extension": ".py",
   "mimetype": "text/x-python",
   "name": "python",
   "nbconvert_exporter": "python",
   "pygments_lexer": "ipython3",
   "version": "3.6.8"
  }
 },
 "nbformat": 4,
 "nbformat_minor": 5
}
