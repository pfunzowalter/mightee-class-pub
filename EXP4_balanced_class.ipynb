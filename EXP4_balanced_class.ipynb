{
 "cells": [
  {
   "cell_type": "markdown",
   "id": "658dfe02",
   "metadata": {},
   "source": [
    "## We investigate the effect of class imbalance on classification of SFGs and AGN using Random Forest and XGBoost algorithm"
   ]
  },
  {
   "cell_type": "code",
   "execution_count": null,
   "id": "3ba4a2e6",
   "metadata": {},
   "outputs": [],
   "source": [
    "# Loading necessary modlules\n",
    "import numpy as np\n",
    "import matplotlib.pyplot as pl\n",
    "import pandas as pd\n",
    "from sources.ml import*\n",
    "from sklearn.ensemble import RandomForestClassifier\n",
    "from sklearn.neighbors import KNeighborsClassifier\n",
    "import xgboost\n",
    "from xgboost import plot_importance\n",
    "from pprint import pprint\n",
    "pl.style.use('seaborn-ticks')"
   ]
  },
  {
   "cell_type": "code",
   "execution_count": null,
   "id": "0b7ba860",
   "metadata": {},
   "outputs": [],
   "source": [
    "# We call the test and train data saved from the processing notebook\n",
    "X_train = pd.read_csv('X_train.csv')\n",
    "y_train = pd.read_csv('y_train.csv')\n",
    "\n",
    "y_tr = y_train['labels']"
   ]
  },
  {
   "cell_type": "code",
   "execution_count": null,
   "id": "db3dc76c",
   "metadata": {},
   "outputs": [],
   "source": [
    "print('Number of sources per Class \\n', y_tr.value_counts())"
   ]
  },
  {
   "cell_type": "markdown",
   "id": "0fbe6eb7",
   "metadata": {},
   "source": [
    "# MACHINE LEARNING MODELS"
   ]
  },
  {
   "cell_type": "code",
   "execution_count": null,
   "id": "684b8048",
   "metadata": {},
   "outputs": [],
   "source": [
    "# Machine Learning models\n",
    "xgb_model = xgboost.XGBClassifier(use_label_encoder=False, eval_metric='rmse' )\n",
    "rf_model = RandomForestClassifier()\n",
    "knn_model = KNeighborsClassifier() #KNN MODEL"
   ]
  },
  {
   "cell_type": "code",
   "execution_count": null,
   "id": "c55d9abb",
   "metadata": {},
   "outputs": [],
   "source": [
    "classifier(xgb_model, X_train, y_tr)"
   ]
  },
  {
   "cell_type": "code",
   "execution_count": null,
   "id": "3992b67a",
   "metadata": {},
   "outputs": [],
   "source": [
    "tr_size = np.linspace(0.1, 0.84, 50)"
   ]
  },
  {
   "cell_type": "code",
   "execution_count": null,
   "id": "8338aa43-4592-4788-bc88-62f71896e2fc",
   "metadata": {},
   "outputs": [],
   "source": [
    "from sources.bal_class import balanced_cv"
   ]
  },
  {
   "cell_type": "markdown",
   "id": "b4266f59-14ee-4759-9576-2a77c04fcce8",
   "metadata": {},
   "source": [
    "## XGB"
   ]
  },
  {
   "cell_type": "code",
   "execution_count": null,
   "id": "5bbb422b-59c9-40bb-920a-75b26fb108ad",
   "metadata": {},
   "outputs": [],
   "source": [
    "# ## XGBoost\n",
    "# # unbalanced CV\n",
    "# agn_scores_xgb, sfg_scores_xgb = train_vs_score_cv( X_train, y_tr, xgb_model, tr_size, binary = True)\n",
    "\n",
    "# # Balanced CV\n",
    "# bal_agn_scores_xgb, bal_sfg_scores_xgb = balanced_cv( X_train, y_tr, xgb_model, tr_size, binary = True)"
   ]
  },
  {
   "cell_type": "code",
   "execution_count": null,
   "id": "470a244c-f9f9-4bde-838c-6010c544ee36",
   "metadata": {},
   "outputs": [],
   "source": [
    "# pl.figure(figsize = (10, 8))\n",
    "#         #     F1\n",
    "# pl.plot(tr_size, agn_scores_xgb['f1'], ':', c = 'r', label = 'agn unbalanced', linewidth = 2, alpha = 1)\n",
    "# pl.plot(tr_size, bal_agn_scores_xgb['f1'], '-', c = 'r', label = 'agn balanced', linewidth = 2, alpha = 1)\n",
    "# pl.plot(tr_size, sfg_scores_xgb['f1'], ':', c = 'y', label = 'sfg unbalanced', linewidth = 2, alpha = 1)\n",
    "# pl.plot(tr_size, bal_sfg_scores_xgb['f1'], '-', c = 'y', label = 'sfg balanced', linewidth = 2, alpha = 1)\n",
    "# pl.title('F1 scores for XGB algorithm',  fontweight ='bold', fontsize =16)\n",
    "# pl.ylabel('F1',  fontweight ='bold', fontsize =14)\n",
    "# pl.xlabel('train size',  fontweight ='bold', fontsize =14)\n",
    "# pl.legend(loc = 'lower right')\n",
    "\n",
    "# #         pl.savefig('train_scores')\n",
    "# pl.show()"
   ]
  },
  {
   "cell_type": "markdown",
   "id": "f1066bd3-d7c3-4deb-a6d4-03a2dcab180e",
   "metadata": {},
   "source": [
    "## RF"
   ]
  },
  {
   "cell_type": "code",
   "execution_count": null,
   "id": "020de692-cddd-4cf4-9b06-b32ab7621682",
   "metadata": {},
   "outputs": [],
   "source": [
    "## Random forest\n",
    "# Unbalanced\n",
    "agn_scores_rf, sfg_scores_rf = train_vs_score_cv( X_train, y_tr, rf_model, tr_size, binary = True)\n",
    "\n",
    "#balanced\n",
    "bal_agn_scores_rf, bal_sfg_scores_rf = balanced_cv( X_train, y_tr, rf_model, tr_size, binary = True)"
   ]
  },
  {
   "cell_type": "code",
   "execution_count": null,
   "id": "b9033773-4955-4667-abd6-f760c9fbddfd",
   "metadata": {},
   "outputs": [],
   "source": [
    "pl.figure(figsize = (10, 8))\n",
    "\n",
    "        #     F1\n",
    "pl.plot(tr_size, agn_scores_rf['f1'], ':', c = 'b', label = 'AGN unbalanced', linewidth = 2, alpha = 1)\n",
    "pl.plot(tr_size, bal_agn_scores_rf['f1'], '-', c = 'b', label = 'AGN balanced', linewidth = 2, alpha = 1)\n",
    "pl.plot(tr_size, sfg_scores_rf['f1'], ':', c = 'r', label = 'SFG unbalanced', linewidth = 2, alpha = 1)\n",
    "pl.plot(tr_size, bal_sfg_scores_rf['f1'], '-', c = 'r', label = 'SFG balanced', linewidth = 2, alpha = 1)\n",
    "# pl.title('F1 scores for RF algorithm ',  fontweight ='bold', fontsize =16)\n",
    "pl.ylabel('F1-score', fontsize =23)\n",
    "pl.xlabel('Fraction of Training Data', fontsize =23)\n",
    "pl.xticks(fontsize = 20)\n",
    "pl.yticks(fontsize = 20)\n",
    "\n",
    "pl.legend(loc = 'lower right', fontsize = 16)\n",
    "pl.savefig('imbalance-rf.pdf')\n",
    "\n",
    "pl.show()"
   ]
  }
 ],
 "metadata": {
  "kernelspec": {
   "display_name": "ASTRO-PY3",
   "language": "python",
   "name": "astro-py3"
  },
  "language_info": {
   "codemirror_mode": {
    "name": "ipython",
    "version": 3
   },
   "file_extension": ".py",
   "mimetype": "text/x-python",
   "name": "python",
   "nbconvert_exporter": "python",
   "pygments_lexer": "ipython3",
   "version": "3.6.8"
  }
 },
 "nbformat": 4,
 "nbformat_minor": 5
}
