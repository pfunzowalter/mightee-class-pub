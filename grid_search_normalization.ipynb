{
 "cells": [
  {
   "cell_type": "code",
   "execution_count": null,
   "id": "f1fae0a3-de7c-4f09-87d6-a986d53145fd",
   "metadata": {
    "tags": []
   },
   "outputs": [],
   "source": [
    "x = np.array([[1,2,3], [3,4,5], [5, 6, 7], [3, 4, 5], [2, 3, 4], [5, 6, 7]])\n",
    "# x = np.array([[[1],[2],[3]], [[3],[4],[5]], [[5], [6], [7]], [[3], [4], [5]], [[2], [3], [4]], [[5], [6], [7]]])\n",
    "\n",
    "y = x-3\n",
    "\n",
    "z = [1, 2, 3, 4, 5, 6] "
   ]
  },
  {
   "cell_type": "code",
   "execution_count": null,
   "id": "2ddde816-4d2e-433c-a895-9010a854fa2a",
   "metadata": {
    "tags": []
   },
   "outputs": [],
   "source": [
    "y"
   ]
  },
  {
   "cell_type": "code",
   "execution_count": null,
   "id": "a6763250-18bb-4a4c-b3c1-e6edc93461ab",
   "metadata": {
    "tags": []
   },
   "outputs": [],
   "source": [
    "x[0] * z[1]"
   ]
  },
  {
   "cell_type": "code",
   "execution_count": null,
   "id": "9fedf2fe-ee23-4263-807e-525168c8031b",
   "metadata": {
    "tags": []
   },
   "outputs": [],
   "source": [
    "def grid_search_multiplication(variables, parameters):\n",
    "    result = []\n",
    "    \n",
    "    for combination in itertools.product(variables, parameters):\n",
    "        variable, parameter = combination\n",
    "        result.append(variable * parameter)\n",
    "        \n",
    "    return result\n",
    "\n",
    "def feat_multiplication (x, par):\n",
    "    x_scaled = []\n",
    "    \n",
    "    for i, j in zip(range(len(par)), range(len(x))):\n",
    "        # x_scaled.append(x[i] * par[j])\n",
    "        x_scaled.append(x[j] * par[i])\n",
    "        \n",
    "        \n",
    "    return x_scaled\n"
   ]
  },
  {
   "cell_type": "code",
   "execution_count": null,
   "id": "998d461c-1b57-4869-91e5-aa6aaeebd686",
   "metadata": {
    "tags": []
   },
   "outputs": [],
   "source": [
    "def new_ml_feat( x, par, a, b):\n",
    "    '''\n",
    "    x-original features\n",
    "    par-parameters\n",
    "    a-no of features\n",
    "    b-no of params\n",
    "    '''\n",
    "    lst = feat_multiplication (x, par)\n",
    "    \n",
    "    print('Multi... complete')\n",
    "    print(lst[0])\n",
    "    \n",
    "    new_feat = []\n",
    "    m = 0\n",
    "    print(lst[5])\n",
    "    k = 0\n",
    "    while k < 3:\n",
    "        arr = []\n",
    "        for i in range(a):\n",
    "            arr.append(lst[i][k])\n",
    "        new_feat.append(arr)\n",
    "        k+=1\n",
    "\n",
    "        \n",
    "    return new_feat"
   ]
  },
  {
   "cell_type": "code",
   "execution_count": null,
   "id": "6b3c55d4-b89c-4d9c-83b5-09826be0cba0",
   "metadata": {
    "tags": []
   },
   "outputs": [],
   "source": [
    "scales = feat_multiplication (x, z)"
   ]
  },
  {
   "cell_type": "code",
   "execution_count": null,
   "id": "c05b9460-c6e0-4bf4-a32e-758c9e8e06a4",
   "metadata": {
    "tags": []
   },
   "outputs": [],
   "source": [
    "scales"
   ]
  },
  {
   "cell_type": "code",
   "execution_count": null,
   "id": "b084515b-d445-496d-bb57-effaa81dcd8f",
   "metadata": {
    "tags": []
   },
   "outputs": [],
   "source": [
    "import itertools\n",
    "\n",
    "def generate_combinations(arrays):\n",
    "    combinations = list(itertools.product(*arrays))\n",
    "    return combinations\n",
    "\n",
    "\n",
    "result = generate_combinations(scales)"
   ]
  },
  {
   "cell_type": "code",
   "execution_count": null,
   "id": "461f673d-71e3-429b-82d6-b443132183c6",
   "metadata": {
    "tags": []
   },
   "outputs": [],
   "source": [
    "print(len(result))\n",
    "# Print the result\n",
    "for combination in result:\n",
    "    print(combination)\n"
   ]
  },
  {
   "cell_type": "code",
   "execution_count": null,
   "id": "4ded56f7-a65d-41d6-8f85-10d22088e983",
   "metadata": {},
   "outputs": [],
   "source": []
  }
 ],
 "metadata": {
  "kernelspec": {
   "display_name": "ASTRO-PY3 (Python 3.8)",
   "language": "python",
   "name": "astro-py3.8"
  },
  "language_info": {
   "codemirror_mode": {
    "name": "ipython",
    "version": 3
   },
   "file_extension": ".py",
   "mimetype": "text/x-python",
   "name": "python",
   "nbconvert_exporter": "python",
   "pygments_lexer": "ipython3",
   "version": "3.8.2"
  }
 },
 "nbformat": 4,
 "nbformat_minor": 5
}
