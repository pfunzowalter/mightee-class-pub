{
 "cells": [
  {
   "cell_type": "code",
   "execution_count": null,
   "id": "0947a54b-1e87-48b4-bd65-55b255c990be",
   "metadata": {},
   "outputs": [],
   "source": [
    "import numpy as np\n",
    "import matplotlib.pyplot as pl\n",
    "import pandas as pd\n",
    "import os \n",
    "import os.path as osp\n",
    "import itertools\n",
    "import astropy.io.fits as fits\n",
    "\n",
    "from sources.preprocessor import data_processor # A well defined function to sample columns of interest from a full catalogue\n",
    "import missingno as msno\n",
    "\n",
    "# plot style\n",
    "import seaborn as sns\n",
    "sns.set_style(\"ticks\")"
   ]
  },
  {
   "cell_type": "code",
   "execution_count": null,
   "id": "9736b1a2-c132-4772-825f-0e95ad48f759",
   "metadata": {},
   "outputs": [],
   "source": [
    "# noclass.to_csv('unclassified.csv', index = False, header=True)\n",
    "\n",
    "# loading the data from the machine\n",
    "noclass = pd.read_csv('unclassified.csv')"
   ]
  },
  {
   "cell_type": "code",
   "execution_count": null,
   "id": "280469c4-bc7e-4115-abed-debf06ba629c",
   "metadata": {},
   "outputs": [],
   "source": [
    "# Generate the missingno bar plot\n",
    "ax = msno.matrix(noclass,figsize=(12, 8), fontsize=22)\n",
    "\n",
    "# Customize: hide the right vertical axis (right spine)\n",
    "ax.spines['right'].set_visible(False)\n",
    "\n",
    "# Further customization (optional)\n",
    "ax.set_xlabel('Features', fontsize=20)\n",
    "ax.set_ylabel('Count of non-null values', fontsize=20)\n",
    "ax.set_title('Missing Data Overview', fontsize=22)\n",
    "\n",
    "# Show the plot\n",
    "pl.show()"
   ]
  },
  {
   "cell_type": "code",
   "execution_count": null,
   "id": "ae5a37a6-51f8-4eb1-8fcb-db6b3fc321dd",
   "metadata": {},
   "outputs": [],
   "source": [
    "# In the catalogues the Irac fluxes S3.6, S4.5, S5.8, S8.0 are labelled SPLASH1, SPLASH2, SPLASH3 and SPLASH4 flux respectively\n",
    "S8_S45 = np.log10( noclass['SPLASH_4_FLUX'] / noclass['SPLASH_2_FLUX'])\n",
    "S58_S36 = np.log10(noclass['SPLASH_3_FLUX'] / noclass['SPLASH_1_FLUX'])\n",
    "S45_S36 = np.log10(noclass['SPLASH_2_FLUX'] / noclass['SPLASH_1_FLUX'])\n",
    "# putting the features together\n",
    "mid_data = np.vstack([np.array(S8_S45),\n",
    "               np.array(S58_S36)]).T\n",
    "\n",
    "data = noclass.drop(['SPLASH_1_FLUX', 'SPLASH_2_FLUX', 'SPLASH_3_FLUX','SPLASH_4_FLUX', 'L14','LIR_WHz'], axis = 1)\n",
    "\n",
    "# and equating it to the list\n",
    "data['log(S8/S45)'] = S8_S45\n",
    "data['log(S58/S36)'] = S58_S36\n",
    "data['log(S45/S36)'] = S45_S36\n",
    "\n",
    "# lastly we convert the -99 to Nan\n",
    "data1 = data.replace([- np.inf, -99, np.inf], np.NaN, regex=True)\n",
    "# mightee_data1 = mightee_data.replace([ np.inf, -99], np.NaN, regex=True)\n",
    "\n",
    "\n",
    "data1.rename(columns = {'AGN':'class_labels', 'MASS_lephare':'Mstar'}, inplace = True)\n"
   ]
  },
  {
   "cell_type": "code",
   "execution_count": null,
   "id": "cffd8710-b433-4339-9612-5866087b2994",
   "metadata": {},
   "outputs": [],
   "source": [
    "data1 = data1.drop([\"class_labels\", \"SFG\", \"unclass\",\"probSFG\"], axis='columns')\n"
   ]
  },
  {
   "cell_type": "code",
   "execution_count": null,
   "id": "122e539d-a0f5-47f1-9ecb-19e92a5717db",
   "metadata": {},
   "outputs": [],
   "source": [
    "# Generate the missingno bar plot\n",
    "ax = msno.matrix(data1,figsize=(12, 8), fontsize=22)\n",
    "\n",
    "# Customize: hide the right vertical axis (right spine)\n",
    "ax.spines['right'].set_visible(False)\n",
    "\n",
    "# Further customization (optional)\n",
    "ax.set_xlabel('Features', fontsize=20)\n",
    "ax.set_ylabel('Count of non-null values', fontsize=20)\n",
    "ax.set_title('Missing Data Overview', fontsize=22)\n",
    "\n",
    "# Show the plot\n",
    "pl.show()"
   ]
  },
  {
   "cell_type": "code",
   "execution_count": null,
   "id": "e1b89aae-6c21-4b7d-91f0-ba16f72b9658",
   "metadata": {},
   "outputs": [],
   "source": []
  }
 ],
 "metadata": {
  "kernelspec": {
   "display_name": "ASTRO-PY3",
   "language": "python",
   "name": "astro-py3"
  },
  "language_info": {
   "codemirror_mode": {
    "name": "ipython",
    "version": 3
   },
   "file_extension": ".py",
   "mimetype": "text/x-python",
   "name": "python",
   "nbconvert_exporter": "python",
   "pygments_lexer": "ipython3",
   "version": "3.6.8"
  }
 },
 "nbformat": 4,
 "nbformat_minor": 5
}
