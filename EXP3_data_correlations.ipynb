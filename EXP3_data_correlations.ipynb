{
 "cells": [
  {
   "cell_type": "markdown",
   "id": "54b544e3",
   "metadata": {},
   "source": [
    "## DATA CORRELATION"
   ]
  },
  {
   "cell_type": "code",
   "execution_count": null,
   "id": "3b1e6016",
   "metadata": {},
   "outputs": [],
   "source": [
    "import pandas as pd\n",
    "import matplotlib.pyplot as plt\n",
    "from sources.ellipses import *\n",
    "from sklearn.metrics import mean_squared_error, r2_score\n",
    "\n"
   ]
  },
  {
   "cell_type": "code",
   "execution_count": null,
   "id": "ebe2b273",
   "metadata": {},
   "outputs": [],
   "source": [
    "# We call the test and train data saved from the processing notebook\n",
    "\n",
    "# mightee_data = pd.read_csv('raw_data1.csv')\n",
    "\n",
    "# X_train = pd.read_csv('X_train_table.csv')\n",
    "# y_train = pd.read_csv('y_train_table.csv')\n",
    "# X_test = pd.read_csv('X_test_table.csv')\n",
    "# y_test = pd.read_csv('y_test_table.csv')\n",
    "\n",
    "ightee_data = pd.read_csv('raw_data1.csv')\n",
    "\n",
    "X_train = pd.read_csv('normalised/X_train.csv')\n",
    "y_train = pd.read_csv('normalised/y_train.csv')\n",
    "X_test = pd.read_csv('normalised/X_test.csv')\n",
    "y_test = pd.read_csv('normalised/y_test.csv')\n",
    "\n",
    "y_tr = y_train['labels']\n",
    "y_t = y_test['labels']"
   ]
  },
  {
   "cell_type": "code",
   "execution_count": null,
   "id": "6ae541d5",
   "metadata": {},
   "outputs": [],
   "source": [
    "X_train['labels'] = y_tr"
   ]
  },
  {
   "cell_type": "code",
   "execution_count": null,
   "id": "2f258830",
   "metadata": {},
   "outputs": [],
   "source": [
    "# 1 qir vs Stellar mass correlation\n",
    "\n",
    "drawGraph ( X_train[X_train['labels']==1][['Mstar']],  \n",
    "           X_train[X_train['labels']==1][['qir']],\n",
    "           X_train[X_train['labels']==0][['Mstar']],\n",
    "           X_train[X_train['labels']==0][['qir']],\n",
    "           # 'M$_{star}$', 'q$_\\mathrm{IR}$', \"cor1\",[8.5, 12.3], [-1, 3.5] )\n",
    "           r'$log (M_{\\rm star})$',\n",
    "           r'q$_\\mathrm{IR}$', \n",
    "           \"cor1\",\n",
    "           # [8.5, 12.3], \n",
    "           # [-1, 3.5], \n",
    "           [0.8, 1], \n",
    "           [0, 1], \n",
    "           text = \"(a)\" )\n",
    "           \n"
   ]
  },
  {
   "cell_type": "code",
   "execution_count": null,
   "id": "9ccf2946",
   "metadata": {},
   "outputs": [],
   "source": [
    "# 2 Irac colors corelation\n",
    "\n",
    "drawGraph ( X_train[X_train['labels']==1][['log(S58/S36)']],  \n",
    "           X_train[X_train['labels']==1][['log(S8/S45)']],\n",
    "           X_train[X_train['labels']==0][['log(S58/S36)']],\n",
    "           X_train[X_train['labels']==0][['log(S8/S45)']],\n",
    "           # \"log(S58/S36)\", 'log(S8/S45)', \"cor2\", [-0.6, 0.6], [-1, 1] )\n",
    "           r'$log (S_{5.8}/S_{3.6})$', \n",
    "           r'$log (S_{8.0}/S_{4.5})$', \n",
    "           \"cor2\", \n",
    "           # [-0.6, 0.7], \n",
    "           # [-1, 1],\n",
    "           [0.2, 0.9], \n",
    "           [0., 1],\n",
    "          text=\"(c)\")\n",
    "           \n"
   ]
  },
  {
   "cell_type": "code",
   "execution_count": null,
   "id": "fe17127f",
   "metadata": {},
   "outputs": [],
   "source": [
    "# 3 One Irac Color vs Stellar Mass corelation\n",
    "\n",
    "drawGraph ( X_train[X_train['labels']==1][['log(S58/S36)']],  \n",
    "           X_train[X_train['labels']==1][['Mstar']],\n",
    "           X_train[X_train['labels']==0][['log(S58/S36)']],\n",
    "           X_train[X_train['labels']==0][['Mstar']],\n",
    "           # 'M$_{\\star}$', 'log(S58/S45)', \"cor3\", [-0.6, 0.6], [8, 12.3] )\n",
    "           r'$log (M_{\\rm star})$', \n",
    "           r'$log (S_{5.8}/S_{3.6})$', \n",
    "           \"cor3\", \n",
    "           # [-0.6, 0.7], \n",
    "           # [8, 12.3],\n",
    "           [0.2, 0.9], \n",
    "           [0.7, 1],\n",
    "          text='(f)')\n",
    "\n"
   ]
  },
  {
   "cell_type": "code",
   "execution_count": null,
   "id": "b951d418-fef8-43d9-8d94-85da6d8bcd35",
   "metadata": {},
   "outputs": [],
   "source": [
    "# 4 Irac colours corelation\n",
    "\n",
    "drawGraph ( X_train[X_train['labels']==1][['log(S45/S36)']],  \n",
    "           X_train[X_train['labels']==1][['log(S8/S45)']],\n",
    "           X_train[X_train['labels']==0][['log(S45/S36)']],\n",
    "           X_train[X_train['labels']==0][['log(S8/S45)']],\n",
    "           r'$log (S_{4.5}/S_{3.6})$', \n",
    "           r'$log (S_{8.0}/S_{4.5})$', \n",
    "           \"cor4\", \n",
    "           # [-0.25, 0.25], \n",
    "           # [-1, 1],\n",
    "           [0., 1.], \n",
    "           [0, 1.],\n",
    "          text='(b)')\n",
    "\n"
   ]
  },
  {
   "cell_type": "code",
   "execution_count": null,
   "id": "40debf4a-0ffc-4e5a-aaa3-84e8d6aa1a68",
   "metadata": {},
   "outputs": [],
   "source": [
    "# 5 IRAC colours\n",
    "\n",
    "drawGraph ( X_train[X_train['labels']==1][['log(S45/S36)']],  \n",
    "           X_train[X_train['labels']==1][['log(S58/S36)']],\n",
    "           X_train[X_train['labels']==0][['log(S45/S36)']],\n",
    "           X_train[X_train['labels']==0][['log(S58/S36)']],\n",
    "           # \"log(S45/S36)\", 'log(S58/S36)', \"cor5\", [-0.25, 0.25], [-0.6, 0.6] )\n",
    "           r'$log (S_{4.5}/S_{3.6})$',\n",
    "           r'$log (S_{5.8}/S_{3.6})$', \n",
    "           \"cor5\", \n",
    "           [-0.25, 0.25], \n",
    "           [-0.6, 0.6],\n",
    "          text='(e)')\n",
    "           \n",
    "\n",
    "\n"
   ]
  },
  {
   "cell_type": "code",
   "execution_count": null,
   "id": "8eaef540-f92d-44de-a9a0-b8dcd0abb084",
   "metadata": {},
   "outputs": [],
   "source": [
    "# 6 IRAC colours\n",
    "\n",
    "drawGraph ( X_train[X_train['labels']==1][['log(S45/S36)']],  \n",
    "           X_train[X_train['labels']==1][['Mstar']],\n",
    "           X_train[X_train['labels']==0][['log(S45/S36)']],\n",
    "           X_train[X_train['labels']==0][['Mstar']],\n",
    "           r'$log (S_{4.5}/S_{3.6})$', \n",
    "           r'$log (M_{\\rm star})$', \n",
    "           \"cor6\", \n",
    "           [-.25, .25], \n",
    "           [8, 12.3],\n",
    "          text='(g)')\n"
   ]
  },
  {
   "cell_type": "code",
   "execution_count": null,
   "id": "6dfda2ae-05cf-4caf-b47b-e3339b50d088",
   "metadata": {},
   "outputs": [],
   "source": [
    "#7 IRAC colours\n",
    "\n",
    "drawGraph ( X_train[X_train['labels']==1][['log(S45/S36)']],  \n",
    "           X_train[X_train['labels']==1][['class_star']],\n",
    "           X_train[X_train['labels']==0][['log(S45/S36)']],\n",
    "           X_train[X_train['labels']==0][['class_star']],\n",
    "           # \"log(S45/S36)\", 'class_star', \"cor7\", [-.25, .25], [-0.2, 1] )\n",
    "           r'$log (S_{4.5}/S_{3.6})$', \n",
    "           'class_star', \n",
    "           \"cor7\", \n",
    "           [-.25, .25], \n",
    "           [-0.2, 1],\n",
    "          text='(j)')\n",
    "           \n"
   ]
  },
  {
   "cell_type": "code",
   "execution_count": null,
   "id": "99e7b24d-9c53-43da-bc8e-870c9de91522",
   "metadata": {},
   "outputs": [],
   "source": [
    "# 8 IRAC colours\n",
    "\n",
    "drawGraph ( X_train[X_train['labels']==1][['log(S45/S36)']],  \n",
    "           X_train[X_train['labels']==1][['qir']],\n",
    "           X_train[X_train['labels']==0][['log(S45/S36)']],\n",
    "           X_train[X_train['labels']==0][['qir']],\n",
    "           # \"log(S45/S36)\", 'q$_\\mathrm{IR}$', \"cor8\", [-.25, .25], [-0.7, 3.5] )\n",
    "           r'$log (S_{4.5}/S_{3.6})$', \n",
    "           r'$q_\\mathrm{IR}$', \n",
    "           \"cor8\", \n",
    "           [-.25, .25], \n",
    "           [-0.7, 3.5],\n",
    "          text='(b)')\n",
    "           \n"
   ]
  },
  {
   "cell_type": "code",
   "execution_count": null,
   "id": "7da393d5-42ed-4183-bfd7-2eac65fbe9f0",
   "metadata": {},
   "outputs": [],
   "source": [
    "# 9 IRAC colours\n",
    "\n",
    "drawGraph ( X_train[X_train['labels']==1][['log(S58/S36)']],  \n",
    "           X_train[X_train['labels']==1][['Mstar']],\n",
    "           X_train[X_train['labels']==0][['log(S58/S36)']],\n",
    "           X_train[X_train['labels']==0][['Mstar']],\n",
    "           # 'log(S58/S36)', 'M$_{\\star}$', \"cor9\", [-0.6,0.6], [8.5, 12.1] )\n",
    "           r'$log (S_{5.8}/S_{3.6})$', \n",
    "           r'$log (M_{\\rm star})$', \n",
    "           \"cor9\", \n",
    "           [-0.6,0.7], \n",
    "           [8.5, 12.1],\n",
    "          text='(h)')\n",
    "           \n",
    "\n"
   ]
  },
  {
   "cell_type": "code",
   "execution_count": null,
   "id": "99fa3f48-407c-4ee4-8bb5-dd924e7110b9",
   "metadata": {},
   "outputs": [],
   "source": [
    "# 10 'log(S58/S36)' vs Class star\n",
    "drawGraph ( X_train[X_train['labels']==1][['log(S58/S36)']],  \n",
    "           X_train[X_train['labels']==1][['class_star']],\n",
    "           X_train[X_train['labels']==0][['log(S58/S36)']],\n",
    "           X_train[X_train['labels']==0][['class_star']],\n",
    "           # 'log(S58/S36)', 'class_star', \"cor10\", [-0.6,0.6], [-0.22, 1.1] )\n",
    "           r'$log (S_{5.8}/S_{3.6})$', \n",
    "           'class_star', \n",
    "           \"cor10\", \n",
    "           [-0.6,0.7], \n",
    "           [-0.22, 1.1],\n",
    "          text='(k)')\n",
    "           \n",
    "\n",
    "\n"
   ]
  },
  {
   "cell_type": "code",
   "execution_count": null,
   "id": "8bcaf6d4-dcb6-4d9a-8722-df036a58a4e6",
   "metadata": {},
   "outputs": [],
   "source": [
    "# 11 'log(S58/S36)' vs qIR\n",
    "drawGraph ( X_train[X_train['labels']==1][['log(S58/S36)']],  \n",
    "           X_train[X_train['labels']==1][['qir']],\n",
    "           X_train[X_train['labels']==0][['log(S58/S36)']],\n",
    "           X_train[X_train['labels']==0][['qir']],\n",
    "           r'$log (S_{5.8}/S_{3.6})$', \n",
    "           r'$q_\\mathrm{IR}$', \n",
    "           \"cor11\", \n",
    "           [-0.6,0.7], \n",
    "           [-1, 3.5],\n",
    "          text='(a)')\n",
    "\n"
   ]
  },
  {
   "cell_type": "code",
   "execution_count": null,
   "id": "44c2034f-ac9b-46d0-b210-c1b5c41b5f00",
   "metadata": {},
   "outputs": [],
   "source": [
    "# 12 'log(S8/S45)' vs Class star\n",
    "drawGraph (X_train[X_train['labels']==1][['class_star']],\n",
    "           X_train[X_train['labels']==1][['log(S8/S45)']],  \n",
    "           X_train[X_train['labels']==0][['class_star']],\n",
    "           X_train[X_train['labels']==0][['log(S8/S45)']],\n",
    "           'class_star', \n",
    "           r'$log (S_{8.0}/S_{4.5})$', \n",
    "           \"cor12\", \n",
    "           [-0.22, 1.1], \n",
    "           [-1, 1],\n",
    "          text='(c)')\n",
    "\n"
   ]
  },
  {
   "cell_type": "code",
   "execution_count": null,
   "id": "ae34dca3-da77-4f9d-8487-b7a7f366c199",
   "metadata": {},
   "outputs": [],
   "source": [
    "# 13 'log(S8/S45)' vs qir\n",
    "drawGraph (X_train[X_train['labels']==1][['qir']],\n",
    "           X_train[X_train['labels']==1][['log(S8/S45)']],  \n",
    "           X_train[X_train['labels']==0][['qir']],\n",
    "           X_train[X_train['labels']==0][['log(S8/S45)']],\n",
    "           # 'q$_\\mathrm{IR}$', 'log(S8/S45)', \"cor13\", [-1.1, 3.5], [-1, 1] )\n",
    "           r'$q_\\mathrm{IR}$', \n",
    "           r'$log (S_{8.0}/S_{4.5})$', \n",
    "           \"cor13\", \n",
    "           [-1.1, 3.5], \n",
    "           [-1, 1],\n",
    "          text='(d)')\n",
    "           "
   ]
  },
  {
   "cell_type": "code",
   "execution_count": null,
   "id": "152970c0-f372-4b40-bf64-6bc352e4c283",
   "metadata": {},
   "outputs": [],
   "source": [
    "# 14  qir vs class_star\n",
    "drawGraph (X_train[X_train['labels']==1][['qir']],\n",
    "           X_train[X_train['labels']==1][['class_star']],  \n",
    "           X_train[X_train['labels']==0][['qir']],\n",
    "           X_train[X_train['labels']==0][['class_star']],\n",
    "           r'$q_\\mathrm{IR}$', \n",
    "           'class_star', \n",
    "           \"cor14\", \n",
    "           [-1.1, 3.5], \n",
    "           [-.22, 1],\n",
    "          text='(i)')\n"
   ]
  },
  {
   "cell_type": "code",
   "execution_count": null,
   "id": "108f0bdd-b47e-42ad-a185-51a82de53338",
   "metadata": {},
   "outputs": [],
   "source": [
    "# 15  'Mstar' vs class_star\n",
    "drawGraph (X_train[X_train['labels']==1][['Mstar']],\n",
    "           X_train[X_train['labels']==1][['class_star']],  \n",
    "           X_train[X_train['labels']==0][['Mstar']],\n",
    "           X_train[X_train['labels']==0][['class_star']],\n",
    "           r'$log (M_{\\rm star})$', \n",
    "           'class_star', \n",
    "           \"cor15\", \n",
    "           [8, 13], \n",
    "           [-.22, 1], \n",
    "          text='(l)')\n",
    "\n"
   ]
  }
 ],
 "metadata": {
  "kernelspec": {
   "display_name": "ASTRO-PY3",
   "language": "python",
   "name": "astro-py3"
  },
  "language_info": {
   "codemirror_mode": {
    "name": "ipython",
    "version": 3
   },
   "file_extension": ".py",
   "mimetype": "text/x-python",
   "name": "python",
   "nbconvert_exporter": "python",
   "pygments_lexer": "ipython3",
   "version": "3.6.8"
  }
 },
 "nbformat": 4,
 "nbformat_minor": 5
}
