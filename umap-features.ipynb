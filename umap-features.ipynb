{
 "cells": [
  {
   "cell_type": "code",
   "execution_count": null,
   "id": "0344ecfb-17b9-4585-a77f-308fdbf99442",
   "metadata": {},
   "outputs": [],
   "source": [
    "import torch\n",
    "import pandas as pd\n",
    "import torch.nn as nn\n",
    "import torch.optim as optim\n",
    "import numpy as np\n",
    "from sklearn.preprocessing import StandardScaler\n",
    "from sklearn.manifold import TSNE\n"
   ]
  },
  {
   "cell_type": "code",
   "execution_count": null,
   "id": "6a905cf5-428f-4f82-849d-fb60f63f5dee",
   "metadata": {},
   "outputs": [],
   "source": [
    "# This is the orignal data\n",
    "X = pd.read_csv('normalised/all_color_X.csv')\n",
    "y = pd.read_csv('normalised/all_color_y.csv')\n",
    "\n",
    "print('Shape of X: ', X.shape)\n",
    "print('Shape of y: ', y.shape)\n"
   ]
  },
  {
   "cell_type": "code",
   "execution_count": null,
   "id": "c4b29399-afae-4697-b83d-45307cbfe7dc",
   "metadata": {},
   "outputs": [],
   "source": [
    "important_feat = ['class_star', \n",
    "                  'Mstar', \n",
    "                  'log(S8/S45)', \n",
    "                  'log(S58/S36)', \n",
    "                  'log(i/z)', \n",
    "                  'log(r/z)', \n",
    "                  'log(g/z)', \n",
    "                  'log(Y/H)', \n",
    "                  'log(S45/S36)'\n",
    "                 ]\n",
    "\n",
    "X_top9 = X[important_feat]"
   ]
  },
  {
   "cell_type": "code",
   "execution_count": null,
   "id": "64cd0e74-bd99-4344-9fb5-42485523d571",
   "metadata": {},
   "outputs": [],
   "source": [
    "tsne = TSNE(n_components=2, random_state=42)\n",
    "X_tsne = tsne.fit_transform(X_top9)\n",
    "tsne.kl_divergence_"
   ]
  },
  {
   "cell_type": "code",
   "execution_count": null,
   "id": "b2c1e91b-9c0a-4467-8ebe-932ac0345ce3",
   "metadata": {},
   "outputs": [],
   "source": [
    "# y"
   ]
  },
  {
   "cell_type": "code",
   "execution_count": null,
   "id": "c730ed9d-8742-46ff-8b3d-6b7b5fa6855c",
   "metadata": {},
   "outputs": [],
   "source": [
    "x_sne = np.array([X_tsne[:, 0], X_tsne[:, 1]]).T\n",
    "\n",
    "df_sne = pd.DataFrame(x_sne, columns=[ 'umap1', 'umap2'])\n",
    "\n",
    "df_sne['labels'] = y"
   ]
  },
  {
   "cell_type": "code",
   "execution_count": null,
   "id": "19dd5b93-332d-4b6b-90de-513093f1b236",
   "metadata": {},
   "outputs": [],
   "source": [
    "df_sne['qir'] = X['qir']\n",
    "df_sne['Mstar'] = X['Mstar']\n",
    "df_sne['class_star'] = X['class_star']\n",
    "df_sne['log(S8/S45)'] = X['log(S8/S45)']\n",
    "df_sne['log(S58/S36)'] = X['log(S58/S36)']\n",
    "df_sne['log(S45/S36)'] = X['log(S45/S36)']\n"
   ]
  },
  {
   "cell_type": "code",
   "execution_count": null,
   "id": "cc750e65-17b8-4ef9-8329-60d6bacff762",
   "metadata": {},
   "outputs": [],
   "source": [
    "df_sne.to_csv('X_umap_feats.csv', index=False)\n"
   ]
  },
  {
   "cell_type": "code",
   "execution_count": null,
   "id": "1c60837f-f556-42fe-b520-4701b8745613",
   "metadata": {},
   "outputs": [],
   "source": [
    "df_sne"
   ]
  },
  {
   "cell_type": "code",
   "execution_count": null,
   "id": "01563904-83d5-4ade-9598-758a0bf3bead",
   "metadata": {},
   "outputs": [],
   "source": [
    "from sources.ellipses import *\n",
    "from sklearn.metrics import mean_squared_error, r2_score\n",
    "\n",
    "drawGraph(df_sne[df_sne['labels']==1][['umap1']],  \n",
    "            df_sne[df_sne['labels']==1][['umap2']],\n",
    "            df_sne[df_sne['labels']==0][['umap1']],\n",
    "            df_sne[df_sne['labels']==0][['umap2']],\n",
    "           'X1', \n",
    "          'X2', \n",
    "          \"cor3-tsne\",\n",
    "          [-63, 85], \n",
    "          [-72,70],\n",
    "         text='(d)')\n"
   ]
  },
  {
   "cell_type": "code",
   "execution_count": null,
   "id": "ecf749aa-6264-406b-b09a-52404b26efba",
   "metadata": {},
   "outputs": [],
   "source": [
    "df_auto = pd.read_csv('normalised/X_auto_feats.csv')"
   ]
  },
  {
   "cell_type": "code",
   "execution_count": null,
   "id": "ee32ea07-430e-472f-ac0f-d8a4ad57b468",
   "metadata": {},
   "outputs": [],
   "source": [
    "df_auto['labels'] = y"
   ]
  },
  {
   "cell_type": "code",
   "execution_count": null,
   "id": "9c1f2ac5-3920-4225-a5d4-a8a07337e0ee",
   "metadata": {},
   "outputs": [],
   "source": [
    "df_auto"
   ]
  },
  {
   "cell_type": "code",
   "execution_count": null,
   "id": "90b44731-9322-4a18-aa69-338d1374cf6e",
   "metadata": {},
   "outputs": [],
   "source": [
    "drawGraph(df_auto[df_auto['labels']==1][['auto1']],  \n",
    "            df_auto[df_auto['labels']==1][['auto2']],\n",
    "            df_auto[df_auto['labels']==0][['auto1']],\n",
    "            df_auto[df_auto['labels']==0][['auto2']],\n",
    "           'X1', \n",
    "          'X2', \n",
    "          \"cor3-umap1\",\n",
    "          [-13, 20], \n",
    "          [-28,13],\n",
    "         text='(d)')"
   ]
  },
  {
   "cell_type": "code",
   "execution_count": null,
   "id": "c80c3575-1f53-487e-9dbc-86a764564c76",
   "metadata": {},
   "outputs": [],
   "source": []
  }
 ],
 "metadata": {
  "kernelspec": {
   "display_name": "ASTRO-PY3",
   "language": "python",
   "name": "astro-py3"
  },
  "language_info": {
   "codemirror_mode": {
    "name": "ipython",
    "version": 3
   },
   "file_extension": ".py",
   "mimetype": "text/x-python",
   "name": "python",
   "nbconvert_exporter": "python",
   "pygments_lexer": "ipython3",
   "version": "3.6.8"
  }
 },
 "nbformat": 4,
 "nbformat_minor": 5
}
