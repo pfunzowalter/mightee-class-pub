{
 "cells": [
  {
   "cell_type": "code",
   "execution_count": null,
   "id": "56f3e5b0-5b89-4087-93e0-1cc765be5a9f",
   "metadata": {},
   "outputs": [],
   "source": [
    "import numpy as np\n",
    "import matplotlib as plt\n",
    "import pandas as pd\n",
    "\n",
    "from sources.hyperparams import*"
   ]
  },
  {
   "cell_type": "code",
   "execution_count": null,
   "id": "b7766512-e815-496c-8751-4f8b24477626",
   "metadata": {},
   "outputs": [],
   "source": [
    "mightee_data = pd.read_csv('raw_data1.csv')\n",
    "\n",
    "X_train = pd.read_csv('X_train_table.csv')\n",
    "y_train = pd.read_csv('y_train_table.csv')\n",
    "X_test = pd.read_csv('X_test_table.csv')\n",
    "y_test = pd.read_csv('y_test_table.csv')\n",
    "\n",
    "# y_tr = y_train['labels']\n",
    "# y_t = y_test['labels']\n",
    "\n",
    "y_tr = y_train['labels']"
   ]
  },
  {
   "cell_type": "code",
   "execution_count": null,
   "id": "5b6c6ed9-92e1-457d-b500-3d10eddba8ae",
   "metadata": {},
   "outputs": [],
   "source": [
    "n_neighbors = np.arange(5, 100, 2)\n",
    "\n",
    "\n",
    "# hyper_par( X_train, y_tr, parameters = n_neighbors, par_name = 'n_neighbors', model_name = 'knn', ylmt=[0.80, 0.95] )\n",
    "\n",
    "hyper_par( X_train, y_tr, \n",
    "          parameters = n_neighbors, \n",
    "          par_name = 'n_neighbors', \n",
    "          model_name = 'knn', \n",
    "          txt='(a)', \n",
    "          ylmt=[0.53, 0.6] )\n"
   ]
  },
  {
   "cell_type": "code",
   "execution_count": null,
   "id": "fca4cc2b-e173-40f2-9280-0e093f7213dd",
   "metadata": {},
   "outputs": [],
   "source": [
    "# XGB estimators\n",
    "# n_estimators = [50, 100, 150, 200, 300, 450]\n",
    "# n_estimators = np.arange(5, 200, 5)\n",
    "learning_rate = np.linspace(0.01, 0.3, 20)\n",
    "\n",
    "hyper_par( X_train, y_tr, \n",
    "          parameters = learning_rate, \n",
    "          par_name = 'learning_rate', \n",
    "          model_name = 'xgb', \n",
    "          txt='(b)',\n",
    "          ylmt=[0.9, 0.96] )"
   ]
  },
  {
   "cell_type": "code",
   "execution_count": null,
   "id": "121dd436-bfce-4afa-a803-2c6f1d3c19ed",
   "metadata": {},
   "outputs": [],
   "source": [
    "# # SVM Kernels\n",
    "\n",
    "kernel =  ['linear', 'rbf', 'poly', 'sigmoid' ]\n",
    "# 'gamma': [1, 0.1, 0.01, 0.001, 0.0001],\n",
    "gamma = np.linspace(0.0001, 1, 20)\n",
    "\n",
    "hyper_par( X_train, y_tr, \n",
    "          parameters = gamma, \n",
    "          par_name = 'gamma', \n",
    "          model_name = 'svm', \n",
    "          txt='(c)',\n",
    "          ylmt=[0.45, 0.63])"
   ]
  },
  {
   "cell_type": "code",
   "execution_count": null,
   "id": "051da3db-b9d7-4c3f-8f18-d9596fdc622c",
   "metadata": {},
   "outputs": [],
   "source": [
    "# Logistic regression C vals\n",
    "# c_values = [1000, 100, 10, 1.0, 0.1, 0.01, 0.001]\n",
    "c_values = np.linspace(0.001, 1000, 50)\n",
    "# n_estimators = [50, 100, 150, 200, 300, 450]\n",
    "# n_estimators = np.arange(5, 200, 5)\n",
    "\n",
    "\n",
    "hyper_par( X_train, y_tr, \n",
    "          parameters = c_values, \n",
    "          par_name = 'C', \n",
    "          model_name = 'lr', \n",
    "          txt='(d)',\n",
    "          ylmt=[0.86, 0.94] )"
   ]
  },
  {
   "cell_type": "code",
   "execution_count": null,
   "id": "907ca3ff-367c-485a-885b-468b5cbf217d",
   "metadata": {},
   "outputs": [],
   "source": [
    "# RF estimators\n",
    "\n",
    "# n_estimators = [50, 100, 150, 200, 300, 450]\n",
    "n_estimators = np.arange(5, 200, 5)\n",
    "\n",
    "\n",
    "hyper_par( X_train, \n",
    "          y_tr, \n",
    "          parameters = n_estimators, \n",
    "          par_name = 'n_estimators', \n",
    "          model_name = 'rf', \n",
    "          txt='(e)',\n",
    "          ylmt=[0.9, 0.96]  )"
   ]
  },
  {
   "cell_type": "code",
   "execution_count": null,
   "id": "6abae3eb-8bd8-4fdb-9958-eddd1901ec8c",
   "metadata": {},
   "outputs": [],
   "source": [
    "# RF max depth\n",
    "\n",
    "# n_estimators = [50, 100, 150, 200, 300, 450]\n",
    "max_depth = np.arange(5, 70, 2)\n",
    "\n",
    "\n",
    "hyper_par( X_train, y_tr, \n",
    "          parameters = max_depth, \n",
    "          par_name = 'max_depth', \n",
    "          model_name = 'rf', \n",
    "          txt='(f)',\n",
    "          ylmt=[0.9, 0.96] )\n",
    "# hyper_par( X_train, y_tr, parameters = max_depth, par_name = 'max_depth', model_name = 'rf', ylmt=[0.9, 0.96] )\n"
   ]
  },
  {
   "cell_type": "code",
   "execution_count": null,
   "id": "2ca8bcf1-eea4-4b8b-9451-4f706f4d73cd",
   "metadata": {},
   "outputs": [],
   "source": []
  }
 ],
 "metadata": {
  "kernelspec": {
   "display_name": "ASTRO-PY3",
   "language": "python",
   "name": "astro-py3"
  },
  "language_info": {
   "codemirror_mode": {
    "name": "ipython",
    "version": 3
   },
   "file_extension": ".py",
   "mimetype": "text/x-python",
   "name": "python",
   "nbconvert_exporter": "python",
   "pygments_lexer": "ipython3",
   "version": "3.6.8"
  }
 },
 "nbformat": 4,
 "nbformat_minor": 5
}
