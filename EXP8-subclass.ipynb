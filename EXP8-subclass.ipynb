{
 "cells": [
  {
   "cell_type": "code",
   "execution_count": null,
   "id": "91512286-7dc3-4eb2-993f-31438bcc6b7c",
   "metadata": {},
   "outputs": [],
   "source": [
    "import numpy as np\n",
    "import matplotlib.pyplot as plt\n",
    "import pandas as pd\n",
    "import os \n",
    "import os.path as osp\n",
    "import itertools\n",
    "import astropy.io.fits as fits\n",
    "from astropy.table import Table\n",
    "from imblearn.under_sampling import RandomUnderSampler\n",
    "from sources.preprocessor import data_processor # A well defined function to sample columns of interest from a full catalogue\n",
    "import missingno as msno\n",
    "\n",
    "# plot style\n",
    "import seaborn as sns\n",
    "# sns.set_style(\"ticks\")\n",
    "%matplotlib inline"
   ]
  },
  {
   "cell_type": "code",
   "execution_count": null,
   "id": "629f967f-3dfc-41c5-b480-41c8491574eb",
   "metadata": {},
   "outputs": [],
   "source": [
    "# loading the data from the machine\n",
    "# file = osp.join(\"MIGHTEEXMATCH+allmulti+classes2.fits\")\n",
    "\n",
    "file = osp.join(\"COSMOSXMATCH+classes_040422_withphotometry.fits\")\n",
    "# table = Table.read(\"COSMOSXMATCH+classes_040422_withphotometry.fits\")\n",
    "\n",
    "fp = fits.open(file, memmap=True)\n",
    "head = fp[1].header\n",
    "data = fp[1].data\n",
    "fp.close\n",
    "\n",
    "# number of elements in the data\n",
    "N_all = len(data)"
   ]
  },
  {
   "cell_type": "code",
   "execution_count": null,
   "id": "fa0d0382-bf29-411d-8507-68e7fd2bddd6",
   "metadata": {},
   "outputs": [],
   "source": [
    "file2 = osp.join(\"COSMOSXMATCH+classes_040422_withphotometry_xrayonly.fits\")\n",
    "# table = Table.read(\"COSMOSXMATCH+classes_040422_withphotometry.fits\")\n",
    "\n",
    "fp2 = fits.open(file2, memmap=True)\n",
    "head2 = fp2[1].header\n",
    "data2 = fp2[1].data\n",
    "fp2.close\n",
    "\n",
    "# number of elements in the data\n",
    "N_all2 = len(data2)"
   ]
  },
  {
   "cell_type": "code",
   "execution_count": null,
   "id": "ef7e71be-6efe-4262-94c6-fa5f2531134f",
   "metadata": {},
   "outputs": [],
   "source": [
    "# print(data.columns)"
   ]
  },
  {
   "cell_type": "code",
   "execution_count": null,
   "id": "08c41af5-836e-4122-9a23-c205db61f637",
   "metadata": {},
   "outputs": [],
   "source": [
    "## Astropy table.\n",
    "df_data = Table(fp[1].data)\n",
    "df_data = df_data.to_pandas()\n"
   ]
  },
  {
   "cell_type": "code",
   "execution_count": null,
   "id": "8f084c40-69e3-489d-96c6-8185eadc2876",
   "metadata": {},
   "outputs": [],
   "source": [
    "## Astropy table.\n",
    "df_data2 = Table(fp2[1].data)\n",
    "df_data2 = df_data2.to_pandas()\n"
   ]
  },
  {
   "cell_type": "code",
   "execution_count": null,
   "id": "b1184b10-399a-4af5-a0db-bc6fcf8f25b9",
   "metadata": {},
   "outputs": [],
   "source": [
    "df_data2"
   ]
  },
  {
   "cell_type": "code",
   "execution_count": null,
   "id": "7b223899-2da1-47ce-8b53-3b2c25b07b0a",
   "metadata": {},
   "outputs": [],
   "source": [
    "# merged_df = pd.merge(df1, df2, on='CATID', how='inner')"
   ]
  },
  {
   "cell_type": "code",
   "execution_count": null,
   "id": "88895619-0221-46a2-beab-e5f0367c2c75",
   "metadata": {},
   "outputs": [],
   "source": [
    "# Important data columns for machine learning, these are the columns we will need for our analysis from the original catalogue\n",
    "features = [ 'CATID', 'SPLASH_1_FLUX', 'SPLASH_2_FLUX', 'SPLASH_3_FLUX',\n",
    " 'SPLASH_4_FLUX', 'L14','LIR_WHz','MASS_lephare', 'class_star', 'qir', 'AGN', 'SFG', 'probSFG', 'unclass'] #, 'X-ray-only', 'VLBI-only']\n",
    "\n",
    "mightee = df_data2[features]"
   ]
  },
  {
   "cell_type": "code",
   "execution_count": null,
   "id": "bb91c6b3-513c-418a-84b4-ff5bdca9af00",
   "metadata": {},
   "outputs": [],
   "source": [
    "# Sampling the sources that are classified as midIRAGB = AGN and the sources that are classified as notmidIRAGN = SFG\n",
    "AGN = mightee[mightee[\"AGN\"] == True]\n",
    "SFG = mightee[mightee[\"SFG\"] == True]\n",
    "probSFG = mightee[mightee[\"probSFG\"] == True]\n",
    "unclass = mightee[mightee[\"unclass\"] == True]"
   ]
  },
  {
   "cell_type": "code",
   "execution_count": null,
   "id": "f867a116-761f-4237-995c-6230daed7e52",
   "metadata": {},
   "outputs": [],
   "source": [
    "print('shape of the AGN: ', AGN.shape)\n",
    "print('shape of the SFG: ', SFG.shape)\n",
    "print('shape of the probSFG: ', probSFG.shape)\n",
    "print('shape of the unclass: ', unclass.shape)\n",
    "print('total sample: ', len(AGN) + len(SFG)+len(probSFG)+len(unclass))"
   ]
  },
  {
   "cell_type": "code",
   "execution_count": null,
   "id": "d6d4a280-ff47-4b24-99b4-62b14ca00683",
   "metadata": {},
   "outputs": [],
   "source": [
    "y_features = ['AGN', 'SFG', 'probSFG', 'unclass']\n",
    "\n",
    "# We now drop the not column\n",
    "mightee_agn = AGN.drop([y_features[1], y_features[2]], axis = 1)\n",
    "mightee_sfg = SFG.drop([y_features[1], y_features[2]], axis = 1)\n",
    "mightee_probsfg = probSFG.drop([y_features[1], y_features[2]], axis = 1)\n",
    "mightee_unclass = unclass.drop([y_features[1], y_features[2]], axis = 1)\n",
    "\n",
    "\n",
    "# We now replace True with the true label AGN or SFG for the corresponding source\n",
    "mightee_agn1 = mightee_agn.replace(True, 'AGN', regex=True)\n",
    "mightee_sfg1 = mightee_sfg.replace(False, 'SFG', regex=True)\n",
    "mightee_probsfg1 = mightee_probsfg.replace(False, 'SFG', regex=True)\n",
    "mightee_unclass1 = mightee_unclass.replace(False, 'NONE', regex=True)\n",
    "# combining this data into one\n",
    "complete_mightee = pd.concat([mightee_agn1, mightee_sfg1, mightee_probsfg1, mightee_unclass1], sort=False)\n",
    "complete_mightee1 = complete_mightee.replace(-np.inf, np.nan, regex=True) \n",
    "catalogue = complete_mightee1.drop(\"unclass\", axis='columns')"
   ]
  },
  {
   "cell_type": "code",
   "execution_count": null,
   "id": "b892ae28-fd47-4ff9-9fbe-eee45e4e9168",
   "metadata": {},
   "outputs": [],
   "source": [
    "# In the catalogues the Irac fluxes S3.6, S4.5, S5.8, S8.0 are labelled SPLASH1, SPLASH2, SPLASH3 and SPLASH4 flux respectively\n",
    "S8_S45 = np.log10( catalogue['SPLASH_4_FLUX'] / catalogue['SPLASH_2_FLUX'])\n",
    "S58_S36 = np.log10(catalogue['SPLASH_3_FLUX'] / catalogue['SPLASH_1_FLUX'])\n",
    "S45_S36 = np.log10(catalogue['SPLASH_2_FLUX'] / catalogue['SPLASH_1_FLUX'])\n",
    "# putting the features together\n",
    "mid_data = np.vstack([np.array(S8_S45),\n",
    "               np.array(S58_S36)]).T\n",
    "\n",
    "mightee_data = catalogue.drop(['SPLASH_1_FLUX', 'SPLASH_2_FLUX', 'SPLASH_3_FLUX','SPLASH_4_FLUX', 'L14','LIR_WHz'], axis = 1)\n",
    "\n",
    "# and equating it to the list\n",
    "mightee_data['log(S8/S45)'] = S8_S45\n",
    "mightee_data['log(S58/S36)'] = S58_S36\n",
    "mightee_data['log(S45/S36)'] = S45_S36\n",
    "\n",
    "# lastly we convert the -99 to Nan\n",
    "mightee_data1 = mightee_data.replace([- np.inf, -99, np.inf], np.NaN, regex=True)\n",
    "# mightee_data1 = mightee_data.replace([ np.inf, -99], np.NaN, regex=True)\n",
    "\n",
    "\n",
    "mightee_data1.rename(columns = {'AGN':'class_labels', 'MASS_lephare':'Mstar'}, inplace = True)\n"
   ]
  },
  {
   "cell_type": "code",
   "execution_count": null,
   "id": "3ee6bd15-4ab0-48fa-8afc-6d111c0a0854",
   "metadata": {},
   "outputs": [],
   "source": [
    "subsample = df_data2[['CATID', 'X-ray-only', 'VLBI-only']]#'XAGN', 'VLBAAGN' ]]\n",
    "\n",
    "# Merge on \"id\"\n",
    "merged_df = pd.merge(mightee_data1, subsample, on='CATID', how='inner')  # Inner join by default\n",
    "\n",
    "# print(merged_df)"
   ]
  },
  {
   "cell_type": "code",
   "execution_count": null,
   "id": "42b1e10b-b4b3-4211-8502-f67d906db5f0",
   "metadata": {},
   "outputs": [],
   "source": [
    "merged_df = merged_df.rename(columns={'X-ray-only': \"XAGN\", 'VLBI-only': \"VLBAAGN\"})"
   ]
  },
  {
   "cell_type": "code",
   "execution_count": null,
   "id": "c3d32436-0681-4ff0-8e5d-104937b9c58d",
   "metadata": {},
   "outputs": [],
   "source": [
    "merged_df"
   ]
  },
  {
   "cell_type": "code",
   "execution_count": null,
   "id": "f2202536-d3a0-4678-aef7-36963c133450",
   "metadata": {},
   "outputs": [],
   "source": [
    "# subset_xray = merged_df[merged_df[\"XAGN\"] == True]\n",
    "\n",
    "# subset_vlbi = merged_df[(merged_df[\"VLBAAGN\"] == True) & (merged_df[\"unclass\"] == True)]\n",
    "# subset_vlbi = merged_df[merged_df[\"VLBAAGN\"] == True]"
   ]
  },
  {
   "cell_type": "code",
   "execution_count": null,
   "id": "6d5ad24f-dac6-41c0-8d85-c942a92dfb1e",
   "metadata": {},
   "outputs": [],
   "source": [
    "catalog = merged_df.dropna()\n",
    "\n",
    "print(len(catalog))"
   ]
  },
  {
   "cell_type": "code",
   "execution_count": null,
   "id": "d0727d8d-56c9-4bad-95b3-bc638b2f63a3",
   "metadata": {},
   "outputs": [],
   "source": [
    "# subset_vlbi = merged_df[(merged_df[\"VLBAAGN\"] == True) & (merged_df[\"unclass\"] == True)]\n",
    "catalog_agn_sfg = catalog[catalog['class_labels'] != \"NONE\"]\n",
    "\n",
    "catalog_agn_sfg_noxray = catalog_agn_sfg[catalog_agn_sfg['XAGN'] == False]\n",
    "\n",
    "# catalog_agn_sfg_noxray_novlbi = catalog_agn_sfg_noxray[catalog_agn_sfg_noxray['VLBAAGN'] == False]\n",
    "# catalog_agn_sfg_noxray_novlbi = catalog_agn_sfg[catalog_agn_sfg['VLBAAGN'] == False]\n",
    "\n",
    "\n",
    "catalog_agn_sfg_noxray_novlbi = catalog_agn_sfg[(catalog_agn_sfg['XAGN'] == False) & (catalog_agn_sfg['VLBAAGN'] == False)]\n",
    "\n",
    "# catalog_agn_sfg_noxray_novlbi\n",
    "print(len(catalog_agn_sfg))\n",
    "print(len(catalog_agn_sfg_noxray))\n",
    "print(len(catalog_agn_sfg_noxray_novlbi))\n",
    "# print(len(catalog_agn_sfg_noxray_novlbi2))\n"
   ]
  },
  {
   "cell_type": "code",
   "execution_count": null,
   "id": "a6a6fe66-e5da-45ed-8409-76606a16d995",
   "metadata": {},
   "outputs": [],
   "source": [
    "# catalog_agn_sfg_noxray"
   ]
  },
  {
   "cell_type": "code",
   "execution_count": null,
   "id": "48ae18d5-e204-44a6-bddd-a1147164362a",
   "metadata": {},
   "outputs": [],
   "source": [
    "catalog_agn_sfg_xray = catalog_agn_sfg[catalog_agn_sfg['XAGN'] == True]\n",
    "catalog_agn_sfg_vlbi = catalog_agn_sfg[catalog_agn_sfg['VLBAAGN'] == True]\n",
    "catalog_agn_sfg_vlbi_xray = pd.concat([catalog_agn_sfg_vlbi, catalog_agn_sfg_xray], sort=False)\n",
    "\n",
    "print(len(catalog_agn_sfg_xray))\n",
    "print(len(catalog_agn_sfg_vlbi))\n",
    "print(len(catalog_agn_sfg_vlbi_xray))\n",
    "# print(len(catalog_agn_sfg_vlbi_xray2))\n"
   ]
  },
  {
   "cell_type": "code",
   "execution_count": null,
   "id": "c4904898-6140-436a-a70c-413659c2e770",
   "metadata": {},
   "outputs": [],
   "source": [
    "catalog_agn_sfg['XAGN'] = [0 if item is True else item for item in catalog_agn_sfg['XAGN']]"
   ]
  },
  {
   "cell_type": "code",
   "execution_count": null,
   "id": "669c57b5-1525-4110-9838-2c96b4c35a64",
   "metadata": {},
   "outputs": [],
   "source": [
    "# Check for duplicates in the 'ID' column\n",
    "duplicate_ids = catalog_agn_sfg_vlbi_xray['CATID'].duplicated(keep=False)\n",
    "print(f\"Duplicate IDs: {catalog_agn_sfg_vlbi_xray['CATID'][duplicate_ids]}\")\n",
    "\n",
    "catalog_agn_sfg_vlbi_xray_unique = catalog_agn_sfg_vlbi_xray[~catalog_agn_sfg_vlbi_xray['CATID'].duplicated(keep='first')]\n"
   ]
  },
  {
   "cell_type": "code",
   "execution_count": null,
   "id": "1a6d15ad-80f5-43ac-8ca4-d8a0cb20b843",
   "metadata": {},
   "outputs": [],
   "source": [
    "print(\"Total Betwwen the two Samples: \", len(catalog_agn_sfg_vlbi_xray_unique) + len(catalog_agn_sfg_noxray_novlbi))\n",
    "print(\"The Original length is: \", len(catalog_agn_sfg))"
   ]
  },
  {
   "cell_type": "code",
   "execution_count": null,
   "id": "e9b2dbbd-993e-4786-b21c-a78c6158e4cf",
   "metadata": {},
   "outputs": [],
   "source": [
    "# catalog_agn_sfg_vlbi_xray_unique = catalog_agn_sfg_vlbi_xray_unique.drop([\"XAGN\",\t\"VLBAAGN\"], axis='columns')\n"
   ]
  },
  {
   "cell_type": "code",
   "execution_count": null,
   "id": "7a854543-b340-4395-b7b4-48c0e9a8439a",
   "metadata": {},
   "outputs": [],
   "source": [
    "# catalog_agn_sfg_vlbi_xray_unique"
   ]
  },
  {
   "cell_type": "code",
   "execution_count": null,
   "id": "bf167427-e85f-4843-a7b7-11665353d68c",
   "metadata": {},
   "outputs": [],
   "source": [
    "# catalog_agn_sfg_noxray_novlbi = catalog_agn_sfg_noxray_novlbi.drop([\"XAGN\",\t\"VLBAAGN\"], axis='columns')"
   ]
  },
  {
   "cell_type": "code",
   "execution_count": null,
   "id": "90afaa95-d2f7-4b2c-b229-97f15c6e7b3c",
   "metadata": {},
   "outputs": [],
   "source": [
    "catalog_agn_sfg_noxray_novlbi"
   ]
  },
  {
   "cell_type": "code",
   "execution_count": null,
   "id": "d6eb1568-e247-4b48-ab7a-58ffa7db5309",
   "metadata": {},
   "outputs": [],
   "source": [
    "catalog_agn_sfg_xray "
   ]
  },
  {
   "cell_type": "code",
   "execution_count": null,
   "id": "8b890b34-0570-4ba8-94b5-d9fbd484f9a4",
   "metadata": {},
   "outputs": [],
   "source": [
    "catalog_agn_sfg_vlbi "
   ]
  },
  {
   "cell_type": "code",
   "execution_count": null,
   "id": "1e77f5aa-3e3f-4f5f-ae0f-b4495ea41f5c",
   "metadata": {},
   "outputs": [],
   "source": [
    "from sklearn.model_selection import train_test_split\n",
    "\n",
    "# Stratified split based on the 'Category' column\n",
    "df_75_vlbi, df_25_vlbi = train_test_split(catalog_agn_sfg_vlbi, test_size=0.2, stratify=catalog_agn_sfg_vlbi ['VLBAAGN'], random_state=42)\n",
    "\n",
    "df_75_xray, df_25_xray = train_test_split(catalog_agn_sfg_xray, test_size=0.2, stratify=catalog_agn_sfg_xray ['XAGN'], random_state=42)\n",
    "\n",
    "df_75_all, df_25_all = train_test_split(catalog_agn_sfg_noxray_novlbi, test_size=0.2, stratify=catalog_agn_sfg_noxray_novlbi ['class_labels'], random_state=42)\n",
    "\n"
   ]
  },
  {
   "cell_type": "code",
   "execution_count": null,
   "id": "88b24248-3ed3-4949-a048-a6e4cc43b21f",
   "metadata": {},
   "outputs": [],
   "source": [
    "df_75_xray"
   ]
  },
  {
   "cell_type": "code",
   "execution_count": null,
   "id": "f77a436c-70af-4489-9731-957b5af06271",
   "metadata": {},
   "outputs": [],
   "source": [
    "df_75_vlbi"
   ]
  },
  {
   "cell_type": "code",
   "execution_count": null,
   "id": "2ee948b1-4f5f-4a69-a386-c69f712f6577",
   "metadata": {},
   "outputs": [],
   "source": [
    "# Combine the DataFrames vertically\n",
    "df_train = pd.concat([df_75_vlbi, df_75_xray, df_75_all], ignore_index=True)\n",
    "# df_train = df_75_all\n"
   ]
  },
  {
   "cell_type": "code",
   "execution_count": null,
   "id": "63462dbc-3c54-4136-a14d-518f5f4d282b",
   "metadata": {},
   "outputs": [],
   "source": [
    "df_train"
   ]
  },
  {
   "cell_type": "code",
   "execution_count": null,
   "id": "12a93092-90f4-4a43-986c-33c87a1cf570",
   "metadata": {},
   "outputs": [],
   "source": [
    "df_test = pd.concat([df_25_vlbi, df_25_xray, df_25_all], ignore_index=True)\n"
   ]
  },
  {
   "cell_type": "code",
   "execution_count": null,
   "id": "b4298df6-509d-4e7a-b3af-41ed71e2d046",
   "metadata": {},
   "outputs": [],
   "source": [
    "df_test"
   ]
  },
  {
   "cell_type": "code",
   "execution_count": null,
   "id": "9bad7c88-b202-4e6b-b5f8-0244d2739116",
   "metadata": {},
   "outputs": [],
   "source": [
    "X_cols = ['CATID', 'Mstar', 'class_star', 'qir', 'log(S8/S45)', 'log(S58/S36)', 'log(S45/S36)']\n",
    "# X_cols = ['class_star', 'qir', 'log(S8/S45)', 'log(S58/S36)']\n",
    "\n",
    "# encoding target class\n",
    "y_te, clas_te = pd.factorize(df_test[\"class_labels\"]) #getting the class 0 = agn, 1 =notagn, 2 = no class\n",
    "y_tr, clas_tr = pd.factorize(df_train[\"class_labels\"]) #getting the class 0 = agn, 1 =notagn, 2 = no class\n",
    "y_te_xray, clas_tr_xray = pd.factorize(df_25_xray[\"class_labels\"]) \n",
    "y_te_vlbi, clas_tr_vlbi = pd.factorize(df_25_vlbi[\"class_labels\"])\n",
    "# y_tr_vlbi, clas_tr_vlbi = pd.factorize(df_25_vlbi[\"class_labels\"])\n",
    "\n",
    "y_train = pd.DataFrame(y_tr, columns = ['labels'])\n",
    "y_test = pd.DataFrame(y_te, columns = ['labels'])\n",
    "y_test_vlbi = pd.DataFrame(y_te_vlbi, columns = ['labels'])\n",
    "y_test_xray = pd.DataFrame(y_te_xray, columns = ['labels'])\n",
    "\n",
    "\n",
    "\n",
    "X_test = df_test[X_cols]\n",
    "X_test_vlbi = df_25_vlbi[X_cols]\n",
    "X_test_xray = df_25_xray[X_cols]\n",
    "\n",
    "X_train = df_train[X_cols]\n",
    "\n",
    "# # saving the dataframe as raw_data\n",
    "X_train.to_csv('final-train-test/X_train.csv', index = False, header=True)\n",
    "y_train.to_csv('final-train-test/y_train.csv', index = False, header=True)\n",
    "X_test.to_csv('final-train-test/X_test.csv', index = False, header=True)\n",
    "y_test.to_csv('final-train-test/y_test.csv', index = False, header=True)\n",
    "\n",
    "y_test_xray.to_csv('final-train-test/y_test_xray.csv', index = False, header=True)\n",
    "y_test_vlbi.to_csv('final-train-test/y_test_vlbi.csv', index = False, header=True)\n",
    "X_test_vlbi.to_csv('final-train-test/X_test_vlbi.csv', index = False, header=True)\n",
    "X_test_xray.to_csv('final-train-test/X_test_xray.csv', index = False, header=True)\n",
    "\n",
    "\n",
    "# Original raw files\n",
    "df_test.to_csv('final-train-test/original_test_df.csv', index = False, header=True)\n",
    "df_train.to_csv('final-train-test/original_train_df.csv', index = False, header=True)\n",
    "df_25_vlbi.to_csv('final-train-test/vlbi_only_test_original.csv', index = False, header=True)\n",
    "df_25_xray.to_csv('final-train-test/xray_only_test_original.csv', index = False, header=True)\n",
    "df_25_all.to_csv('final-train-test/noxrayvlbi-test.csv', index = False, header=True)\n",
    "\n",
    "df_75_vlbi.to_csv('final-train-test/vlbi_only_train20.csv', index = False, header=True)\n",
    "df_75_xray.to_csv('final-train-test/xray_only_train20.csv', index = False, header=True)\n",
    "df_75_all.to_csv('final-train-test/noxrayvlbi-train20.csv', index = False, header=True)"
   ]
  },
  {
   "cell_type": "markdown",
   "id": "e3ab843a-817c-4954-ad0b-0cbc2ea4a194",
   "metadata": {},
   "source": [
    "---"
   ]
  },
  {
   "cell_type": "code",
   "execution_count": null,
   "id": "ce1f5080-18b8-4d24-9362-f2b321735bfe",
   "metadata": {},
   "outputs": [],
   "source": []
  },
  {
   "cell_type": "code",
   "execution_count": null,
   "id": "68295022-ae01-42d8-83a5-3f10bd975218",
   "metadata": {},
   "outputs": [],
   "source": [
    "# shuffled_test = catalog_agn_sfg_vlbi_xray_unique.sample(frac=1).reset_index(drop=True)\n",
    "\n",
    "# shuffled_train = catalog_agn_sfg_noxray_novlbi.sample(frac=1).reset_index(drop=True)\n",
    "\n",
    "# # Set 'ID' column as the index\n",
    "# # shuffled_test = shuffled_test.set_index('CATID')\n",
    "# # # Set 'ID' column as the index\n",
    "# # shuffled_train = shuffled_train.set_index('CATID')"
   ]
  },
  {
   "cell_type": "code",
   "execution_count": null,
   "id": "907f55f4-3e44-4240-b24d-47a8e9302f8f",
   "metadata": {},
   "outputs": [],
   "source": [
    "# print('Number of AGN', len(catalog_agn_sfg_noxray_novlbi[catalog_agn_sfg_noxray_novlbi[\"class_labels\"] == 'AGN']))\n",
    "# print('Number of SFG', len(catalog_agn_sfg_noxray_novlbi[catalog_agn_sfg_noxray_novlbi[\"class_labels\"] == 'SFG']))\n"
   ]
  },
  {
   "cell_type": "code",
   "execution_count": null,
   "id": "81a6a619-4498-4460-b864-210780a9b315",
   "metadata": {},
   "outputs": [],
   "source": [
    "# shuffled_train[shuffled_train[\"class_labels\"] == 'AGN']"
   ]
  },
  {
   "cell_type": "code",
   "execution_count": null,
   "id": "736e5735-bf56-41f5-aefc-3eaf975e5c49",
   "metadata": {},
   "outputs": [],
   "source": [
    "# shuffled_train"
   ]
  },
  {
   "cell_type": "code",
   "execution_count": null,
   "id": "a83c8e3d-15f0-4bbe-a229-250b7fe83219",
   "metadata": {},
   "outputs": [],
   "source": [
    "# X_cols_origin = ['Mstar', 'class_star', 'qir', 'log(S8/S45)', 'log(S58/S36)', 'log(S45/S36)']\n",
    "# X_cols = ['class_star', 'qir', 'log(S8/S45)', 'log(S58/S36)']\n",
    "\n",
    "# # encoding target class\n",
    "# y_te, clas_te = pd.factorize(shuffled_test[\"class_labels\"]) #getting the class 0 = agn, 1 =notagn, 2 = no class\n",
    "# y_tr, clas_tr = pd.factorize(shuffled_train[\"class_labels\"]) #getting the class 0 = agn, 1 =notagn, 2 = no class\n",
    "# y_test = pd.DataFrame(y_te, columns = ['labels'])\n",
    "# y_train = pd.DataFrame(y_tr, columns = ['labels'])\n",
    "\n",
    "# X_test = shuffled_test[X_cols]\n",
    "# X_train = shuffled_train[X_cols]\n",
    "\n",
    "# x_xray = catalog_agn_sfg_xray[X_cols_origin]\n",
    "# y_xray = catalog_agn_sfg_xray['class_labels']\n",
    "\n",
    "# x_vlba = catalog_agn_sfg_vlbi[X_cols_origin]\n",
    "# y_vlba = catalog_agn_sfg_vlbi['class_labels']\n",
    "\n",
    "# ## Save the catalogue with ID's\n",
    "# shuffled_train.to_csv('train_with_id.csv', index = False, header=True)\n",
    "# shuffled_test.to_csv('test_with_id.csv', index = False, header=True)\n",
    "\n",
    "# # # # saving the dataframe as raw_data\n",
    "# # X_train.to_csv('X_train_bal.csv', index = False, header=True)\n",
    "# # y_train.to_csv('y_train_bal.csv', index = False, header=True)\n",
    "# # # X_test.to_csv('X_test_new.csv', index = False, header=True)\n",
    "# # # y_test.to_csv('y_test_new.csv', index = False, header=True)\n",
    "\n",
    "# # # XRAY\n",
    "# # x_vlba.to_csv('X_vlba.csv', index = False, header=True)\n",
    "# # y_vlba.to_csv('y_vlba.csv', index = False, header=True)\n",
    "# # x_xray.to_csv('X_xray.csv', index = False, header=True)\n",
    "# # y_xray.to_csv('y_xray.csv', index = False, header=True)"
   ]
  },
  {
   "cell_type": "code",
   "execution_count": null,
   "id": "2f784d05-49e9-46d3-a583-7fea3620cd08",
   "metadata": {},
   "outputs": [],
   "source": [
    "# catalog_agn = catalog_agn_sfg[catalog_agn_sfg['class_labels'] == \"AGN\"]\n",
    "# catalog_sfg = catalog_agn_sfg[catalog_agn_sfg['class_labels'] == \"SFG\"]\n",
    "\n",
    "# Xagn_x = catalog_agn[X_cols]\n",
    "# Xsfg_x = catalog_sfg[X_cols]\n",
    "# Xray_x = catalog_agn_sfg_xray[X_cols]\n",
    "# Xvlbi_x = catalog_agn_sfg_vlbi[X_cols]"
   ]
  },
  {
   "cell_type": "markdown",
   "id": "c67cbdf7-e6e6-43c5-bfca-45750581bf42",
   "metadata": {},
   "source": [
    "## TSNE CALS"
   ]
  },
  {
   "cell_type": "code",
   "execution_count": null,
   "id": "ba7b5479-0331-4c98-aa7a-4c108a2199dd",
   "metadata": {},
   "outputs": [],
   "source": [
    "# from sklearn.manifold import TSNE\n",
    "\n",
    "# tsne = TSNE(n_components=2, random_state=42)\n",
    "# X_tsne = tsne.fit_transform(X_train)\n",
    "# X_tsne_xray_vlbi = tsne.fit_transform(X_test)\n",
    "# X_tsne_xray = tsne.fit_transform(Xray_x)\n",
    "# X_tsne_vlbi = tsne.fit_transform(Xvlbi_x)\n",
    "# X_tsne_sfg = tsne.fit_transform(Xsfg_x)\n",
    "# X_tsne_agn = tsne.fit_transform(Xagn_x)\n",
    "\n",
    "\n",
    "# tsne.kl_divergence_"
   ]
  },
  {
   "cell_type": "code",
   "execution_count": null,
   "id": "7a9f3943-2b6f-4e01-a5c8-aa92e8ab1ea4",
   "metadata": {},
   "outputs": [],
   "source": [
    "# plt.figure(figsize = (12, 8))\n",
    "# plt.scatter(x=X_tsne[:, 0], y=X_tsne[:, 1], marker='d', facecolor='none', c=y_train['labels'],alpha = 0.9)\n",
    "# # plt.scatter(x=X_tsne_xray_vlbi[:, 0], y=X_tsne_xray_vlbi[:, 1], c='r', alpha = 0.5)\n",
    "# plt.scatter(x=X_tsne_xray[:, 0], y=X_tsne_xray[:, 1], c='r', marker='>', alpha = 0.5, label = \"XAGN\")\n",
    "# plt.scatter(x=X_tsne_vlbi[:, 0], y=X_tsne_vlbi[:, 1], c='b', marker='+', alpha = 0.5, label = \"VLBI\")\n",
    "# # plt.scatter(x=X_tsne_sfg[:, 0], y=X_tsne_sfg[:, 1], c='g', alpha = 0.5, label = \"AGB\")\n",
    "# # plt.scatter(x=X_tsne_agn[:, 0], y=X_tsne_agn[:, 1], c='y', alpha = 0.5, label = \"SFG\")\n",
    "# plt.xlabel('X1', fontweight ='bold', fontsize =18)\n",
    "# plt.ylabel('X2', fontweight ='bold', fontsize =18)\n",
    "# plt.xticks(fontsize=16)\n",
    "# plt.yticks(fontsize=16)\n",
    "# plt.show()"
   ]
  },
  {
   "cell_type": "code",
   "execution_count": null,
   "id": "040a4e62-419c-475c-87ac-423bf6b22e8d",
   "metadata": {},
   "outputs": [],
   "source": [
    "# from sources.ellipses import *\n",
    "# from sklearn.metrics import mean_squared_error, r2_score\n",
    "\n",
    "# drawGraph(df_sne[df_sne['labels']==1][['X1']],  \n",
    "#             df_sne[df_sne['labels']==1][['X2']],\n",
    "#             df_sne[df_sne['labels']==0][['X1']],\n",
    "#             df_sne[df_sne['labels']==0][['X2']],\n",
    "#            'X1', 'X2', \"cor1\",[-65, 85], [-66,60] )\n"
   ]
  },
  {
   "cell_type": "markdown",
   "id": "4f59aeb9-8c56-4d65-a57b-dd341d06ed91",
   "metadata": {},
   "source": [
    "### Transform full set"
   ]
  },
  {
   "cell_type": "code",
   "execution_count": null,
   "id": "3db9d215-8f0e-4c48-8dd7-fbd9a669cf53",
   "metadata": {},
   "outputs": [],
   "source": [
    "# X_full = catalog_agn_sfg"
   ]
  },
  {
   "cell_type": "code",
   "execution_count": null,
   "id": "96317074-1fa4-4dc2-bd76-e4b4633f746a",
   "metadata": {},
   "outputs": [],
   "source": [
    "# X_full = X_full.reset_index()"
   ]
  },
  {
   "cell_type": "code",
   "execution_count": null,
   "id": "41b0969d-669c-426a-affc-9f664aab0c25",
   "metadata": {},
   "outputs": [],
   "source": [
    "# X_ful = X_full[X_cols]"
   ]
  },
  {
   "cell_type": "code",
   "execution_count": null,
   "id": "0674e13f-5853-426c-90b6-010a0f34c8cd",
   "metadata": {},
   "outputs": [],
   "source": [
    "# catalog_agn_sfg"
   ]
  },
  {
   "cell_type": "code",
   "execution_count": null,
   "id": "19fd3402-e812-43be-b814-409b2d8a1443",
   "metadata": {},
   "outputs": [],
   "source": [
    "# X_tsne_ful = tsne.fit_transform(X_ful)\n"
   ]
  },
  {
   "cell_type": "code",
   "execution_count": null,
   "id": "7ab7bbea-ddb5-4e4a-bbc8-3cc2d0460622",
   "metadata": {},
   "outputs": [],
   "source": [
    "# X_tsne_ful"
   ]
  },
  {
   "cell_type": "code",
   "execution_count": null,
   "id": "351a711d-383d-48ea-b867-dd3e57a1932e",
   "metadata": {},
   "outputs": [],
   "source": [
    "# x_sne = np.array([X_tsne_ful[:, 0], X_tsne_ful[:, 1]]).T\n",
    "\n",
    "# df_sne = pd.DataFrame(x_sne, columns=[ 'X1', 'X2'])\n",
    "\n",
    "# df_sne['labels'] = X_full['class_labels']\n",
    "# df_sne['VLBAAGN'] = X_full['VLBAAGN']\n",
    "# df_sne['XAGN'] = X_full['XAGN']\n",
    "# # df_sne[''] = catalog_agn_sfg\n",
    "# # df_sne[''] = catalog_agn_sfg"
   ]
  },
  {
   "cell_type": "code",
   "execution_count": null,
   "id": "0b136c8e-9aab-4942-b1aa-1e9ed39f2fd9",
   "metadata": {},
   "outputs": [],
   "source": [
    "# df_sne"
   ]
  },
  {
   "cell_type": "code",
   "execution_count": null,
   "id": "68a3d9b1-5c2c-4427-a4f3-167a59e6deb6",
   "metadata": {},
   "outputs": [],
   "source": [
    "# plt.figure(figsize = (12, 8))\n",
    "# # df_sne[df_sne['labels']=='SFG']\n",
    "# # plt.scatter(x=df_sne[:, 0], y=X_tsne[:, 1], marker='d', facecolor='none', c=y_train['labels'],alpha = 0.9)\n",
    "# # plt.scatter(x=X_tsne_xray_vlbi[:, 0], y=X_tsne_xray_vlbi[:, 1], c='r', alpha = 0.5)\n",
    "# plt.scatter(df_sne[df_sne['labels']=='AGN']['X1'], df_sne[df_sne['labels']=='AGN']['X2'], c='g', alpha = 0.5, label = \"AGN\")\n",
    "# plt.scatter(df_sne[df_sne['labels']=='SFG']['X1'], df_sne[df_sne['labels']=='SFG']['X2'], c='y', alpha = 0.5, label = \"SFG\")\n",
    "# plt.scatter(df_sne[df_sne['XAGN']==True]['X1'], df_sne[df_sne['XAGN']==True]['X2'], c='r', marker='>', alpha = 0.5, label = \"XAGN\")\n",
    "# plt.scatter(df_sne[df_sne['VLBAAGN']==True]['X1'], df_sne[df_sne['VLBAAGN']==True]['X2'], c='b', marker='+', alpha = 0.5, label = \"VLBI\")\n",
    "# plt.xlabel('X1', fontweight ='bold', fontsize =18)\n",
    "# plt.ylabel('X2', fontweight ='bold', fontsize =18)\n",
    "# plt.xticks(fontsize=16)\n",
    "# plt.yticks(fontsize=16)\n",
    "# plt.legend()\n",
    "# plt.show()"
   ]
  },
  {
   "cell_type": "code",
   "execution_count": null,
   "id": "d3df19cc-51ba-4be5-8987-6d075cf569a0",
   "metadata": {},
   "outputs": [],
   "source": [
    "#---"
   ]
  },
  {
   "cell_type": "code",
   "execution_count": null,
   "id": "cf5d09c1-7a08-4141-84b7-6eb29d224b30",
   "metadata": {},
   "outputs": [],
   "source": []
  }
 ],
 "metadata": {
  "kernelspec": {
   "display_name": "ASTRO-PY3",
   "language": "python",
   "name": "astro-py3"
  },
  "language_info": {
   "codemirror_mode": {
    "name": "ipython",
    "version": 3
   },
   "file_extension": ".py",
   "mimetype": "text/x-python",
   "name": "python",
   "nbconvert_exporter": "python",
   "pygments_lexer": "ipython3",
   "version": "3.6.8"
  }
 },
 "nbformat": 4,
 "nbformat_minor": 5
}
