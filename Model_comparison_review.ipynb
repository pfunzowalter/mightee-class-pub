{
 "cells": [
  {
   "cell_type": "code",
   "execution_count": null,
   "id": "0ca7426b-b484-4d41-b801-d3791594ff9d",
   "metadata": {},
   "outputs": [],
   "source": [
    "import matplotlib.pyplot as plt\n",
    "import pandas as pd\n",
    "import numpy as np"
   ]
  },
  {
   "cell_type": "code",
   "execution_count": null,
   "id": "29f65764-c50f-4945-92af-76fdf12f8e90",
   "metadata": {},
   "outputs": [],
   "source": [
    "def plot_from_csv(csv_file1, csv_file2):\n",
    "    # Read the CSV file\n",
    "    df1 = pd.read_csv(csv_file1)\n",
    "    df2 = pd.read_csv(csv_file2)\n",
    "    \n",
    "    # Extract data for CSV1\n",
    "    x1 = df1['Train Fraction'].values\n",
    "    print(\"X1: \", x1)\n",
    "    knn_val_scores1 = df1['KNN Validation Score'].values\n",
    "    knn_val_errors1 = df1['KNN Val Error'].values\n",
    "    rf_val_scores1 = df1['RF Validation Score'].values\n",
    "    rf_val_errors1 = df1['RF Val Error'].values\n",
    "\n",
    "    # Extract data for CSV2\n",
    "    x2 = df2['Train Fraction'].values\n",
    "    knn_val_scores2 = df2['KNN Validation Score'].values\n",
    "    knn_val_errors2 = df2['KNN Val Error'].values\n",
    "    rf_val_scores2 = df2['RF Validation Score'].values\n",
    "    rf_val_errors2 = df2['RF Val Error'].values\n",
    "\n",
    "    # Calculate offset positions\n",
    "    offset = 0.02 #0.015  # Adjust this value as needed for proper spacing\n",
    "    x1_offset = x1 - offset\n",
    "    x2_offset = x2 #+ offset\n",
    "\n",
    "    # Plot settings\n",
    "    plt.figure(figsize=(12, 8))\n",
    "    plt.xlabel('Fraction of Train Size', fontsize=18)\n",
    "    plt.ylabel('F1 Score', fontsize=18)\n",
    "    plt.xticks(x2, [f\"{x:.2f}\" for x in x2], fontsize=18)  # Use original x2 positions for ticks\n",
    "    plt.yticks(fontsize=18)\n",
    "    plt.grid(True, linestyle='--', alpha=0.6)\n",
    "\n",
    "    # Plot KNN\n",
    "    plt.errorbar(x1_offset, knn_val_scores1, yerr=knn_val_errors1, fmt='>', \n",
    "                label=r'$k$NN-Balanced', markersize=12, capsize=5, color='green')\n",
    "    plt.errorbar(x2_offset, knn_val_scores2, yerr=knn_val_errors2, fmt='o', \n",
    "                label=r'$k$NN-Original', markersize=12, capsize=5, color='green')\n",
    "\n",
    "    # Plot Random Forest\n",
    "    plt.errorbar(x1_offset, rf_val_scores1, yerr=rf_val_errors1, fmt='>', \n",
    "                markeredgecolor='r', label='RF-Balanced', markersize=12, capsize=5, color='r')\n",
    "    plt.errorbar(x2_offset, rf_val_scores2, yerr=rf_val_errors2, fmt='o', \n",
    "                markeredgecolor='r', label='RF-Original', capsize=5, markersize=12, color='r')\n",
    "\n",
    "    # Final adjustments\n",
    "    plt.ylim(0.8, 1.)\n",
    "    plt.grid(True, linestyle='--', alpha=0.4)\n",
    "    plt.tight_layout()\n",
    "    plt.legend(fontsize=18, loc=\"lower right\")\n",
    "    plt.savefig(\"compare_knn_rf_model_f5.pdf\", dpi=300, bbox_inches='tight')\n",
    "    plt.show()"
   ]
  },
  {
   "cell_type": "code",
   "execution_count": null,
   "id": "b2348647-1610-4a5e-81d0-80d637ac29b4",
   "metadata": {},
   "outputs": [],
   "source": [
    "# Usage example:\n",
    "# plot_from_csv('model_comparison_balanced.csv', 'model_comparison_original.csv')\n",
    "# plot_from_csv('model_comparison_bal_f5.csv', 'model_comparison_original_f5.csv')\n",
    "plot_from_csv('model_comparison_bal_f5.csv', \"model_comparison_original_f5_final_20-08-2025.csv\")\n"
   ]
  }
 ],
 "metadata": {
  "kernelspec": {
   "display_name": "ASTRO-PY3",
   "language": "python",
   "name": "astro-py3"
  },
  "language_info": {
   "codemirror_mode": {
    "name": "ipython",
    "version": 3
   },
   "file_extension": ".py",
   "mimetype": "text/x-python",
   "name": "python",
   "nbconvert_exporter": "python",
   "pygments_lexer": "ipython3",
   "version": "3.6.8"
  }
 },
 "nbformat": 4,
 "nbformat_minor": 5
}
